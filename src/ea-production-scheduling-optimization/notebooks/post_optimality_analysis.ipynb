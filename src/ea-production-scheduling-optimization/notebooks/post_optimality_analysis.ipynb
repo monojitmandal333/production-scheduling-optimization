{
 "cells": [
  {
   "cell_type": "code",
   "execution_count": 4,
   "metadata": {},
   "outputs": [
    {
     "name": "stdout",
     "output_type": "stream",
     "text": [
      "The autoreload extension is already loaded. To reload it, use:\n",
      "  %reload_ext autoreload\n"
     ]
    }
   ],
   "source": [
    "import pandas as pd\n",
    "import polars as pl\n",
    "import numpy as np\n",
    "import mfgdbconnect_py as mfgc\n",
    "import plotly.express as px\n",
    "import math\n",
    "import datetime as dt\n",
    "import plotly.graph_objects as go\n",
    "%load_ext autoreload\n",
    "%autoreload 2"
   ]
  },
  {
   "cell_type": "markdown",
   "metadata": {},
   "source": [
    "#### Data Pull (Model)"
   ]
  },
  {
   "cell_type": "code",
   "execution_count": 5,
   "metadata": {},
   "outputs": [],
   "source": [
    "data_mps = pl.read_excel(\n",
    "    source = \"../output/output_20231024214820.xlsx\", \n",
    "    sheet_name = \"MPS\")\n",
    "data_mps = data_mps.fill_null(0)\n",
    "data_mps = data_mps.with_columns((pl.col(\"production_actual\") - pl.col(\"actual_production_non_AL\")).alias(\"actual_production_AL\"))\n",
    "# data_mps = data_mps.rename({\"production_plan\":\"production_plan_AL\"})\n",
    "data_target_rate = pl.read_excel(\n",
    "    source = \"../input/F23_AL_CHEWY.xlsx\", \n",
    "    sheet_name= \"line_rate\")\n",
    "data_product_mapping = pl.read_excel(\n",
    "    source = \"../input/F23_AL_CHEWY.xlsx\", \n",
    "    sheet_name= \"product_mapping\")\n",
    "df_product_mapping = pl.read_excel(\n",
    "    source = \"../input/F23_AL_CHEWY.xlsx\",\n",
    "    sheet_name = \"product_mapping\"\n",
    ")"
   ]
  },
  {
   "cell_type": "code",
   "execution_count": 6,
   "metadata": {},
   "outputs": [
    {
     "data": {
      "text/html": [
       "<div><style>\n",
       ".dataframe > thead > tr > th,\n",
       ".dataframe > tbody > tr > td {\n",
       "  text-align: right;\n",
       "}\n",
       "</style>\n",
       "<small>shape: (5, 8)</small><table border=\"1\" class=\"dataframe\"><thead><tr><th>product_name</th><th>day_number</th><th>production_status</th><th>week_nbr</th><th>production_plan_AL</th><th>total_days</th><th>contribution</th><th>production_plan</th></tr><tr><td>str</td><td>i16</td><td>i64</td><td>i64</td><td>i64</td><td>i64</td><td>f64</td><td>f64</td></tr></thead><tbody><tr><td>&quot;CH TRAIL MIX F…</td><td>0</td><td>0</td><td>0</td><td>0</td><td>0</td><td>0.0</td><td>0.0</td></tr><tr><td>&quot;CH REESES TREA…</td><td>0</td><td>0</td><td>0</td><td>0</td><td>0</td><td>0.0</td><td>0.0</td></tr><tr><td>&quot;CH SNS ALMOND …</td><td>0</td><td>1973857</td><td>0</td><td>3059044</td><td>3059044</td><td>0.645253</td><td>1.9739e6</td></tr><tr><td>&quot;CH SNS PEANUT …</td><td>0</td><td>0</td><td>0</td><td>0</td><td>0</td><td>0.0</td><td>0.0</td></tr><tr><td>&quot;CH SNS DK CHOC…</td><td>0</td><td>0</td><td>0</td><td>0</td><td>0</td><td>0.0</td><td>0.0</td></tr></tbody></table></div>"
      ],
      "text/plain": [
       "shape: (5, 8)\n",
       "┌────────────┬────────────┬────────────┬──────────┬────────────┬───────────┬───────────┬───────────┐\n",
       "│ product_na ┆ day_number ┆ production ┆ week_nbr ┆ production ┆ total_day ┆ contribut ┆ productio │\n",
       "│ me         ┆ ---        ┆ _status    ┆ ---      ┆ _plan_AL   ┆ s         ┆ ion       ┆ n_plan    │\n",
       "│ ---        ┆ i16        ┆ ---        ┆ i64      ┆ ---        ┆ ---       ┆ ---       ┆ ---       │\n",
       "│ str        ┆            ┆ i64        ┆          ┆ i64        ┆ i64       ┆ f64       ┆ f64       │\n",
       "╞════════════╪════════════╪════════════╪══════════╪════════════╪═══════════╪═══════════╪═══════════╡\n",
       "│ CH TRAIL   ┆ 0          ┆ 0          ┆ 0        ┆ 0          ┆ 0         ┆ 0.0       ┆ 0.0       │\n",
       "│ MIX F&N    ┆            ┆            ┆          ┆            ┆           ┆           ┆           │\n",
       "│ PARENT     ┆            ┆            ┆          ┆            ┆           ┆           ┆           │\n",
       "│ CH REESES  ┆ 0          ┆ 0          ┆ 0        ┆ 0          ┆ 0         ┆ 0.0       ┆ 0.0       │\n",
       "│ TREATS     ┆            ┆            ┆          ┆            ┆           ┆           ┆           │\n",
       "│ BARS       ┆            ┆            ┆          ┆            ┆           ┆           ┆           │\n",
       "│ PARENT     ┆            ┆            ┆          ┆            ┆           ┆           ┆           │\n",
       "│ CH SNS     ┆ 0          ┆ 1973857    ┆ 0        ┆ 3059044    ┆ 3059044   ┆ 0.645253  ┆ 1.9739e6  │\n",
       "│ ALMOND     ┆            ┆            ┆          ┆            ┆           ┆           ┆           │\n",
       "│ PARENT     ┆            ┆            ┆          ┆            ┆           ┆           ┆           │\n",
       "│ CH SNS     ┆ 0          ┆ 0          ┆ 0        ┆ 0          ┆ 0         ┆ 0.0       ┆ 0.0       │\n",
       "│ PEANUT     ┆            ┆            ┆          ┆            ┆           ┆           ┆           │\n",
       "│ PARENT     ┆            ┆            ┆          ┆            ┆           ┆           ┆           │\n",
       "│ CH SNS DK  ┆ 0          ┆ 0          ┆ 0        ┆ 0          ┆ 0         ┆ 0.0       ┆ 0.0       │\n",
       "│ CHOC PEA   ┆            ┆            ┆          ┆            ┆           ┆           ┆           │\n",
       "│ ALM PARENT ┆            ┆            ┆          ┆            ┆           ┆           ┆           │\n",
       "└────────────┴────────────┴────────────┴──────────┴────────────┴───────────┴───────────┴───────────┘"
      ]
     },
     "execution_count": 6,
     "metadata": {},
     "output_type": "execute_result"
    }
   ],
   "source": [
    "df_prod_plan = pl.read_excel(source = \"../output/output_20231024214820.xlsx\", sheet_name = \"production_plan\")\n",
    "df_prod_plan = df_prod_plan.join(df_product_mapping,on=\"material_cd\",how = \"left\")\n",
    "df_prod_plan = df_prod_plan.drop(columns = \"material_cd\")\n",
    "df_prod_plan = df_prod_plan.melt(\n",
    "    id_vars=[\"product_name\"], \n",
    "    value_vars = [str(i) for i in range(335)] , \n",
    "    variable_name = \"day_number\",\n",
    "    value_name = \"production_status\"\n",
    ").with_columns(pl.col(\"day_number\").cast(pl.Int16))\n",
    "df_prod_plan = df_prod_plan.with_columns((pl.col(\"day_number\")/7).floor().cast(pl.Int64).alias(\"week_nbr\"))\n",
    "df_prod_plan = df_prod_plan.join(\n",
    "    data_mps[[\"product_name\",\"week_nbr\",\"production_plan_AL\"]], \n",
    "    on = [\"product_name\",\"week_nbr\"], \n",
    "    how = \"left\"\n",
    ")\n",
    "df_prod_weekly = df_prod_plan.groupby([\"product_name\",\"week_nbr\"]).agg([\n",
    "    pl.sum(\"production_status\").alias(\"total_days\")\n",
    "]).sort(by = \"week_nbr\")\n",
    "df_prod_plan = df_prod_plan.join(df_prod_weekly,on = [\"product_name\",\"week_nbr\"])\n",
    "df_prod_plan  = df_prod_plan.with_columns((pl.col(\"production_status\")/pl.col(\"total_days\")).alias(\"contribution\"))\n",
    "df_prod_plan = df_prod_plan.fill_nan(0)\n",
    "df_prod_plan = df_prod_plan.with_columns((pl.col(\"contribution\")*pl.col(\"production_plan_AL\")).alias(\"production_plan\"))\n",
    "df_prod_plan.head()"
   ]
  },
  {
   "cell_type": "code",
   "execution_count": 7,
   "metadata": {},
   "outputs": [
    {
     "data": {
      "text/html": [
       "<div><style>\n",
       ".dataframe > thead > tr > th,\n",
       ".dataframe > tbody > tr > td {\n",
       "  text-align: right;\n",
       "}\n",
       "</style>\n",
       "<small>shape: (5, 3)</small><table border=\"1\" class=\"dataframe\"><thead><tr><th>product_name</th><th>production_id</th><th>run_length</th></tr><tr><td>str</td><td>i32</td><td>u32</td></tr></thead><tbody><tr><td>&quot;CH PROTEIN PB …</td><td>1</td><td>1</td></tr><tr><td>&quot;CH PROTEIN PB …</td><td>2</td><td>1</td></tr><tr><td>&quot;CH PROTEIN PB …</td><td>7</td><td>1</td></tr><tr><td>&quot;CH PROTEIN PB …</td><td>8</td><td>1</td></tr><tr><td>&quot;CH PROTEIN PB …</td><td>3</td><td>1</td></tr></tbody></table></div>"
      ],
      "text/plain": [
       "shape: (5, 3)\n",
       "┌──────────────────────────────┬───────────────┬────────────┐\n",
       "│ product_name                 ┆ production_id ┆ run_length │\n",
       "│ ---                          ┆ ---           ┆ ---        │\n",
       "│ str                          ┆ i32           ┆ u32        │\n",
       "╞══════════════════════════════╪═══════════════╪════════════╡\n",
       "│ CH PROTEIN PB DK CHOC PARENT ┆ 1             ┆ 1          │\n",
       "│ CH PROTEIN PB DK CHOC PARENT ┆ 2             ┆ 1          │\n",
       "│ CH PROTEIN PB DK CHOC PARENT ┆ 7             ┆ 1          │\n",
       "│ CH PROTEIN PB DK CHOC PARENT ┆ 8             ┆ 1          │\n",
       "│ CH PROTEIN PB DK CHOC PARENT ┆ 3             ┆ 1          │\n",
       "└──────────────────────────────┴───────────────┴────────────┘"
      ]
     },
     "metadata": {},
     "output_type": "display_data"
    },
    {
     "data": {
      "text/html": [
       "<div><style>\n",
       ".dataframe > thead > tr > th,\n",
       ".dataframe > tbody > tr > td {\n",
       "  text-align: right;\n",
       "}\n",
       "</style>\n",
       "<small>shape: (5, 3)</small><table border=\"1\" class=\"dataframe\"><thead><tr><th>product_name</th><th>cycle_id</th><th>cycle_days</th></tr><tr><td>str</td><td>i32</td><td>u32</td></tr></thead><tbody><tr><td>&quot;CH PROTEIN PB …</td><td>0</td><td>14</td></tr><tr><td>&quot;CH PROTEIN PB …</td><td>1</td><td>8</td></tr><tr><td>&quot;CH PROTEIN PB …</td><td>4</td><td>1</td></tr><tr><td>&quot;CH PROTEIN PB …</td><td>7</td><td>1</td></tr><tr><td>&quot;CH PROTEIN PB …</td><td>10</td><td>2</td></tr></tbody></table></div>"
      ],
      "text/plain": [
       "shape: (5, 3)\n",
       "┌──────────────────────────────┬──────────┬────────────┐\n",
       "│ product_name                 ┆ cycle_id ┆ cycle_days │\n",
       "│ ---                          ┆ ---      ┆ ---        │\n",
       "│ str                          ┆ i32      ┆ u32        │\n",
       "╞══════════════════════════════╪══════════╪════════════╡\n",
       "│ CH PROTEIN PB DK CHOC PARENT ┆ 0        ┆ 14         │\n",
       "│ CH PROTEIN PB DK CHOC PARENT ┆ 1        ┆ 8          │\n",
       "│ CH PROTEIN PB DK CHOC PARENT ┆ 4        ┆ 1          │\n",
       "│ CH PROTEIN PB DK CHOC PARENT ┆ 7        ┆ 1          │\n",
       "│ CH PROTEIN PB DK CHOC PARENT ┆ 10       ┆ 2          │\n",
       "└──────────────────────────────┴──────────┴────────────┘"
      ]
     },
     "metadata": {},
     "output_type": "display_data"
    }
   ],
   "source": [
    "df_run_length_lists = []\n",
    "df_cycle_list = []\n",
    "for product_name in df_prod_plan[\"product_name\"].unique():\n",
    "    df = df_prod_plan.filter(pl.col(\"product_name\") == product_name).sort(by = \"day_number\")\n",
    "    df = df.with_columns(pl.when(pl.col(\"production_plan\") > 0).then(1).otherwise(0).alias(\"true_prouction_status\"))\n",
    "    df = df.with_columns(\n",
    "        pl.col(\"true_prouction_status\")\n",
    "        .shift(1)\n",
    "        .alias(\"production_status_prev_day\")).fill_null(0)\n",
    "    df = df.with_columns(\n",
    "        pl.when((pl.col(\"true_prouction_status\") == 1) & (pl.col(\"production_status_prev_day\") == 0))\n",
    "        .then(1)\n",
    "        .otherwise(0)\n",
    "        .alias(\"production_start_status\"))\n",
    "    df = df.with_columns(pl.col(\"production_start_status\").cumsum().alias(\"cycle_id\"))\n",
    "    df = df.with_columns(\n",
    "        pl.when(pl.col(\"true_prouction_status\")  == 1)\n",
    "        .then(pl.col(\"cycle_id\"))\n",
    "        .otherwise(None)\n",
    "        .alias(\"production_id\"))\n",
    "    df = df.with_columns(\n",
    "        pl.when(pl.col(\"true_prouction_status\") == 1)\n",
    "        .then(None)\n",
    "        .otherwise(pl.col(\"cycle_id\"))\n",
    "        .alias(\"cycle_id\")\n",
    "    )\n",
    "    df = df.with_columns(pl.lit(1).alias(\"run_length\"))\n",
    "    df = df.with_columns(pl.lit(1).alias(\"cycle_days\"))\n",
    "    df_run = df.groupby([\"product_name\",\"production_id\"]).agg([pl.count(\"run_length\")]).drop_nulls()\n",
    "    df_cycle = df.groupby([\"product_name\",\"cycle_id\"]).agg([pl.count(\"cycle_days\")]).drop_nulls()\n",
    "    df_run_length_lists.append(df_run)\n",
    "    df_cycle_list.append(df_cycle)\n",
    "df_run_length = pl.concat(df_run_length_lists, how=\"vertical_relaxed\")\n",
    "df_cycle_time = pl.concat(df_cycle_list, how=\"vertical_relaxed\")\n",
    "display(df_run_length.head())\n",
    "display(df_cycle_time.head())"
   ]
  },
  {
   "cell_type": "code",
   "execution_count": 8,
   "metadata": {},
   "outputs": [
    {
     "data": {
      "text/html": [
       "<div><style>\n",
       ".dataframe > thead > tr > th,\n",
       ".dataframe > tbody > tr > td {\n",
       "  text-align: right;\n",
       "}\n",
       "</style>\n",
       "<small>shape: (5, 9)</small><table border=\"1\" class=\"dataframe\"><thead><tr><th>product_name</th><th>mean_run_length_model</th><th>std_run_length_model</th><th>max_run_length_model</th><th>min_run_length_model</th><th>mean_cycle_days_model</th><th>std_cycle_days_model</th><th>max_cycle_days_model</th><th>min_cycle_days_model</th></tr><tr><td>str</td><td>f64</td><td>f64</td><td>u32</td><td>u32</td><td>f64</td><td>f64</td><td>u32</td><td>u32</td></tr></thead><tbody><tr><td>&quot;CH SNS CHOCOLA…</td><td>1.3</td><td>0.5</td><td>2</td><td>1</td><td>40.8</td><td>61.7</td><td>164</td><td>1</td></tr><tr><td>&quot;CH SNS ALMOND …</td><td>2.4</td><td>2.1</td><td>8</td><td>1</td><td>25.3</td><td>25.4</td><td>67</td><td>1</td></tr><tr><td>&quot;CH TRAIL MIX F…</td><td>4.3</td><td>3.1</td><td>9</td><td>1</td><td>44.1</td><td>60.5</td><td>176</td><td>1</td></tr><tr><td>&quot;CH SNS PEANUT …</td><td>11.5</td><td>13.2</td><td>42</td><td>2</td><td>20.0</td><td>23.1</td><td>77</td><td>1</td></tr><tr><td>&quot;CH SNS DK CHOC…</td><td>1.9</td><td>1.1</td><td>4</td><td>1</td><td>31.8</td><td>70.2</td><td>228</td><td>1</td></tr></tbody></table></div>"
      ],
      "text/plain": [
       "shape: (5, 9)\n",
       "┌───────────┬───────────┬───────────┬───────────┬───┬───────────┬───────────┬───────────┬──────────┐\n",
       "│ product_n ┆ mean_run_ ┆ std_run_l ┆ max_run_l ┆ … ┆ mean_cycl ┆ std_cycle ┆ max_cycle ┆ min_cycl │\n",
       "│ ame       ┆ length_mo ┆ ength_mod ┆ ength_mod ┆   ┆ e_days_mo ┆ _days_mod ┆ _days_mod ┆ e_days_m │\n",
       "│ ---       ┆ del       ┆ el        ┆ el        ┆   ┆ del       ┆ el        ┆ el        ┆ odel     │\n",
       "│ str       ┆ ---       ┆ ---       ┆ ---       ┆   ┆ ---       ┆ ---       ┆ ---       ┆ ---      │\n",
       "│           ┆ f64       ┆ f64       ┆ u32       ┆   ┆ f64       ┆ f64       ┆ u32       ┆ u32      │\n",
       "╞═══════════╪═══════════╪═══════════╪═══════════╪═══╪═══════════╪═══════════╪═══════════╪══════════╡\n",
       "│ CH SNS    ┆ 1.3       ┆ 0.5       ┆ 2         ┆ … ┆ 40.8      ┆ 61.7      ┆ 164       ┆ 1        │\n",
       "│ CHOCOLATE ┆           ┆           ┆           ┆   ┆           ┆           ┆           ┆          │\n",
       "│ PRETZEL   ┆           ┆           ┆           ┆   ┆           ┆           ┆           ┆          │\n",
       "│ NUT PAR…  ┆           ┆           ┆           ┆   ┆           ┆           ┆           ┆          │\n",
       "│ CH SNS    ┆ 2.4       ┆ 2.1       ┆ 8         ┆ … ┆ 25.3      ┆ 25.4      ┆ 67        ┆ 1        │\n",
       "│ ALMOND    ┆           ┆           ┆           ┆   ┆           ┆           ┆           ┆          │\n",
       "│ PARENT    ┆           ┆           ┆           ┆   ┆           ┆           ┆           ┆          │\n",
       "│ CH TRAIL  ┆ 4.3       ┆ 3.1       ┆ 9         ┆ … ┆ 44.1      ┆ 60.5      ┆ 176       ┆ 1        │\n",
       "│ MIX F&N   ┆           ┆           ┆           ┆   ┆           ┆           ┆           ┆          │\n",
       "│ PARENT    ┆           ┆           ┆           ┆   ┆           ┆           ┆           ┆          │\n",
       "│ CH SNS    ┆ 11.5      ┆ 13.2      ┆ 42        ┆ … ┆ 20.0      ┆ 23.1      ┆ 77        ┆ 1        │\n",
       "│ PEANUT    ┆           ┆           ┆           ┆   ┆           ┆           ┆           ┆          │\n",
       "│ PARENT    ┆           ┆           ┆           ┆   ┆           ┆           ┆           ┆          │\n",
       "│ CH SNS DK ┆ 1.9       ┆ 1.1       ┆ 4         ┆ … ┆ 31.8      ┆ 70.2      ┆ 228       ┆ 1        │\n",
       "│ CHOC PEA  ┆           ┆           ┆           ┆   ┆           ┆           ┆           ┆          │\n",
       "│ ALM       ┆           ┆           ┆           ┆   ┆           ┆           ┆           ┆          │\n",
       "│ PARENT    ┆           ┆           ┆           ┆   ┆           ┆           ┆           ┆          │\n",
       "└───────────┴───────────┴───────────┴───────────┴───┴───────────┴───────────┴───────────┴──────────┘"
      ]
     },
     "execution_count": 8,
     "metadata": {},
     "output_type": "execute_result"
    }
   ],
   "source": [
    "df_run_length_summary = df_run_length.groupby([\"product_name\"]).agg(\n",
    "    [\n",
    "        pl.mean(\"run_length\").round(1).alias(\"mean_run_length_model\"),\n",
    "        pl.std(\"run_length\").round(1).alias(\"std_run_length_model\"),\n",
    "        pl.max(\"run_length\").alias(\"max_run_length_model\"),\n",
    "        pl.min(\"run_length\").alias(\"min_run_length_model\")\n",
    "    ]\n",
    ")\n",
    "df_cycle_time_summary = df_cycle_time.groupby([\"product_name\"]).agg(\n",
    "    [\n",
    "        pl.mean(\"cycle_days\").round(1).alias(\"mean_cycle_days_model\"),\n",
    "        pl.std(\"cycle_days\").round(1).alias(\"std_cycle_days_model\"),\n",
    "        pl.max(\"cycle_days\").alias(\"max_cycle_days_model\"),\n",
    "        pl.min(\"cycle_days\").alias(\"min_cycle_days_model\")\n",
    "    ]\n",
    ")\n",
    "df_run_length_cycle_time_model = df_run_length_summary.join(df_cycle_time_summary,on = \"product_name\")\n",
    "df_run_length_cycle_time_model.head()"
   ]
  },
  {
   "cell_type": "markdown",
   "metadata": {},
   "source": [
    "#### Actual Production"
   ]
  },
  {
   "cell_type": "code",
   "execution_count": 9,
   "metadata": {},
   "outputs": [
    {
     "data": {
      "text/html": [
       "<div><style>\n",
       ".dataframe > thead > tr > th,\n",
       ".dataframe > tbody > tr > td {\n",
       "  text-align: right;\n",
       "}\n",
       "</style>\n",
       "<small>shape: (5, 3)</small><table border=\"1\" class=\"dataframe\"><thead><tr><th>product_name</th><th>date</th><th>actual_production_ea</th></tr><tr><td>str</td><td>datetime[ns]</td><td>f64</td></tr></thead><tbody><tr><td>&quot;CH SNS ALMOND …</td><td>2022-05-30 00:00:00</td><td>1.500624e6</td></tr><tr><td>&quot;CH SNS DK CHOC…</td><td>2022-05-30 00:00:00</td><td>0.0</td></tr><tr><td>&quot;CH SNS CHOCOLA…</td><td>2022-05-31 00:00:00</td><td>0.0</td></tr><tr><td>&quot;CH TRAIL MIX F…</td><td>2022-05-31 00:00:00</td><td>0.0</td></tr><tr><td>&quot;CH SNS PEANUT …</td><td>2022-05-31 00:00:00</td><td>0.0</td></tr></tbody></table></div>"
      ],
      "text/plain": [
       "shape: (5, 3)\n",
       "┌───────────────────────────────────┬─────────────────────┬──────────────────────┐\n",
       "│ product_name                      ┆ date                ┆ actual_production_ea │\n",
       "│ ---                               ┆ ---                 ┆ ---                  │\n",
       "│ str                               ┆ datetime[ns]        ┆ f64                  │\n",
       "╞═══════════════════════════════════╪═════════════════════╪══════════════════════╡\n",
       "│ CH SNS ALMOND PARENT              ┆ 2022-05-30 00:00:00 ┆ 1.500624e6           │\n",
       "│ CH SNS DK CHOC PEA ALM PARENT     ┆ 2022-05-30 00:00:00 ┆ 0.0                  │\n",
       "│ CH SNS CHOCOLATE PRETZEL NUT PAR… ┆ 2022-05-31 00:00:00 ┆ 0.0                  │\n",
       "│ CH TRAIL MIX F&N PARENT           ┆ 2022-05-31 00:00:00 ┆ 0.0                  │\n",
       "│ CH SNS PEANUT PARENT              ┆ 2022-05-31 00:00:00 ┆ 0.0                  │\n",
       "└───────────────────────────────────┴─────────────────────┴──────────────────────┘"
      ]
     },
     "execution_count": 9,
     "metadata": {},
     "output_type": "execute_result"
    }
   ],
   "source": [
    "data_act_production = pd.read_excel(\"../input/F23_AL_CHEWY.xlsx\", sheet_name = \"actual_production_afo\")\n",
    "data_act_production[\"Date\"] = pd.to_datetime(data_act_production[\"Date\"])\n",
    "data_act_production = pl.DataFrame(data_act_production)\n",
    "data_act_production = data_act_production.filter(pl.col(\"Plant\") == \"AL\")\n",
    "data_act_production = data_act_production.select([\"Parent Product Name\",\"Date\",\"Actual Production EA\"]).rename({\n",
    "    \"Parent Product Name\":\"product_name\",\n",
    "    \"Date\":\"date\",\n",
    "    \"Actual Production EA\":\"actual_production_ea\"\n",
    "})\n",
    "date_list = []\n",
    "product_list = []\n",
    "for date in pl.date_range(dt.datetime(2022,5,30), dt.datetime(2023,5,28), \"1d\", eager=True,time_unit=\"ns\"):\n",
    "    for product in data_act_production[\"product_name\"].unique():\n",
    "        date_list.append(date)\n",
    "        product_list.append(product)\n",
    "df = pl.DataFrame(pd.DataFrame({\"date\":date_list,\"product_name\":product_list}))\n",
    "data_act_production = df.join(data_act_production,on = [\"date\",\"product_name\"], how=\"left\")\n",
    "data_act_production = data_act_production.groupby([\"product_name\",\"date\"]).agg([pl.sum(\"actual_production_ea\")])\n",
    "data_act_production.head()"
   ]
  },
  {
   "cell_type": "code",
   "execution_count": 10,
   "metadata": {},
   "outputs": [
    {
     "data": {
      "text/html": [
       "<div><style>\n",
       ".dataframe > thead > tr > th,\n",
       ".dataframe > tbody > tr > td {\n",
       "  text-align: right;\n",
       "}\n",
       "</style>\n",
       "<small>shape: (5, 3)</small><table border=\"1\" class=\"dataframe\"><thead><tr><th>product_name</th><th>production_id</th><th>run_length</th></tr><tr><td>str</td><td>i32</td><td>u32</td></tr></thead><tbody><tr><td>&quot;CH PROTEIN PB …</td><td>3</td><td>1</td></tr><tr><td>&quot;CH PROTEIN PB …</td><td>5</td><td>1</td></tr><tr><td>&quot;CH PROTEIN PB …</td><td>1</td><td>3</td></tr><tr><td>&quot;CH PROTEIN PB …</td><td>2</td><td>8</td></tr><tr><td>&quot;CH PROTEIN PB …</td><td>4</td><td>5</td></tr></tbody></table></div>"
      ],
      "text/plain": [
       "shape: (5, 3)\n",
       "┌──────────────────────────────┬───────────────┬────────────┐\n",
       "│ product_name                 ┆ production_id ┆ run_length │\n",
       "│ ---                          ┆ ---           ┆ ---        │\n",
       "│ str                          ┆ i32           ┆ u32        │\n",
       "╞══════════════════════════════╪═══════════════╪════════════╡\n",
       "│ CH PROTEIN PB DK CHOC PARENT ┆ 3             ┆ 1          │\n",
       "│ CH PROTEIN PB DK CHOC PARENT ┆ 5             ┆ 1          │\n",
       "│ CH PROTEIN PB DK CHOC PARENT ┆ 1             ┆ 3          │\n",
       "│ CH PROTEIN PB DK CHOC PARENT ┆ 2             ┆ 8          │\n",
       "│ CH PROTEIN PB DK CHOC PARENT ┆ 4             ┆ 5          │\n",
       "└──────────────────────────────┴───────────────┴────────────┘"
      ]
     },
     "metadata": {},
     "output_type": "display_data"
    },
    {
     "data": {
      "text/html": [
       "<div><style>\n",
       ".dataframe > thead > tr > th,\n",
       ".dataframe > tbody > tr > td {\n",
       "  text-align: right;\n",
       "}\n",
       "</style>\n",
       "<small>shape: (5, 3)</small><table border=\"1\" class=\"dataframe\"><thead><tr><th>product_name</th><th>cycle_id</th><th>cycle_days</th></tr><tr><td>str</td><td>i32</td><td>u32</td></tr></thead><tbody><tr><td>&quot;CH PROTEIN PB …</td><td>0</td><td>20</td></tr><tr><td>&quot;CH PROTEIN PB …</td><td>3</td><td>45</td></tr><tr><td>&quot;CH PROTEIN PB …</td><td>4</td><td>12</td></tr><tr><td>&quot;CH PROTEIN PB …</td><td>1</td><td>1</td></tr><tr><td>&quot;CH PROTEIN PB …</td><td>2</td><td>28</td></tr></tbody></table></div>"
      ],
      "text/plain": [
       "shape: (5, 3)\n",
       "┌──────────────────────────────┬──────────┬────────────┐\n",
       "│ product_name                 ┆ cycle_id ┆ cycle_days │\n",
       "│ ---                          ┆ ---      ┆ ---        │\n",
       "│ str                          ┆ i32      ┆ u32        │\n",
       "╞══════════════════════════════╪══════════╪════════════╡\n",
       "│ CH PROTEIN PB DK CHOC PARENT ┆ 0        ┆ 20         │\n",
       "│ CH PROTEIN PB DK CHOC PARENT ┆ 3        ┆ 45         │\n",
       "│ CH PROTEIN PB DK CHOC PARENT ┆ 4        ┆ 12         │\n",
       "│ CH PROTEIN PB DK CHOC PARENT ┆ 1        ┆ 1          │\n",
       "│ CH PROTEIN PB DK CHOC PARENT ┆ 2        ┆ 28         │\n",
       "└──────────────────────────────┴──────────┴────────────┘"
      ]
     },
     "metadata": {},
     "output_type": "display_data"
    }
   ],
   "source": [
    "df_run_length_lists = []\n",
    "df_cycle_list = []\n",
    "for product_name in data_act_production[\"product_name\"].unique():\n",
    "    df = data_act_production.filter(pl.col(\"product_name\") == product_name).sort(by = \"date\")\n",
    "    df = df.with_columns(pl.when(pl.col(\"actual_production_ea\") > 0).then(1).otherwise(0).alias(\"true_prouction_status\"))\n",
    "    df = df.with_columns(\n",
    "        pl.col(\"true_prouction_status\")\n",
    "        .shift(1)\n",
    "        .alias(\"production_status_prev_day\")).fill_null(0)\n",
    "    df = df.with_columns(\n",
    "        pl.when((pl.col(\"true_prouction_status\") == 1) & (pl.col(\"production_status_prev_day\") == 0))\n",
    "        .then(1)\n",
    "        .otherwise(0)\n",
    "        .alias(\"production_start_status\"))\n",
    "    df = df.with_columns(pl.col(\"production_start_status\").cumsum().alias(\"cycle_id\"))\n",
    "    df = df.with_columns(\n",
    "        pl.when(pl.col(\"true_prouction_status\")  == 1)\n",
    "        .then(pl.col(\"cycle_id\"))\n",
    "        .otherwise(None)\n",
    "        .alias(\"production_id\"))\n",
    "    df = df.with_columns(\n",
    "        pl.when(pl.col(\"true_prouction_status\") == 1)\n",
    "        .then(None)\n",
    "        .otherwise(pl.col(\"cycle_id\"))\n",
    "        .alias(\"cycle_id\")\n",
    "    )\n",
    "    df = df.with_columns(pl.lit(1).alias(\"run_length\"))\n",
    "    df = df.with_columns(pl.lit(1).alias(\"cycle_days\"))\n",
    "    df_run = df.groupby([\"product_name\",\"production_id\"]).agg([pl.count(\"run_length\")]).drop_nulls()\n",
    "    df_cycle = df.groupby([\"product_name\",\"cycle_id\"]).agg([pl.count(\"cycle_days\")]).drop_nulls()\n",
    "    df_run_length_lists.append(df_run)\n",
    "    df_cycle_list.append(df_cycle)\n",
    "df_run_length = pl.concat(df_run_length_lists, how=\"vertical_relaxed\")\n",
    "df_cycle_time = pl.concat(df_cycle_list, how=\"vertical_relaxed\")\n",
    "display(df_run_length.head())\n",
    "display(df_cycle_time.head())"
   ]
  },
  {
   "cell_type": "code",
   "execution_count": 11,
   "metadata": {},
   "outputs": [
    {
     "data": {
      "text/html": [
       "<div><style>\n",
       ".dataframe > thead > tr > th,\n",
       ".dataframe > tbody > tr > td {\n",
       "  text-align: right;\n",
       "}\n",
       "</style>\n",
       "<small>shape: (5, 9)</small><table border=\"1\" class=\"dataframe\"><thead><tr><th>product_name</th><th>mean_run_length_actual</th><th>std_run_length_actual</th><th>max_run_length_actual</th><th>min_run_length_actual</th><th>mean_cycle_days_actual</th><th>std_cycle_days_actual</th><th>max_cycle_days_actual</th><th>min_cycle_days_actual</th></tr><tr><td>str</td><td>f64</td><td>f64</td><td>u32</td><td>u32</td><td>f64</td><td>f64</td><td>u32</td><td>u32</td></tr></thead><tbody><tr><td>&quot;CH SNS CDA DK …</td><td>2.8</td><td>2.1</td><td>6</td><td>1</td><td>49.6</td><td>83.1</td><td>234</td><td>3</td></tr><tr><td>&quot;CH SNS DK CHOC…</td><td>5.2</td><td>5.2</td><td>15</td><td>1</td><td>47.6</td><td>85.9</td><td>238</td><td>1</td></tr><tr><td>&quot;CH PROTEIN PB …</td><td>3.6</td><td>3.0</td><td>8</td><td>1</td><td>57.7</td><td>90.6</td><td>240</td><td>1</td></tr><tr><td>&quot;CH SNS ALMOND …</td><td>3.1</td><td>2.7</td><td>8</td><td>1</td><td>22.9</td><td>42.3</td><td>164</td><td>1</td></tr><tr><td>&quot;CH SNS PEANUT …</td><td>6.1</td><td>6.6</td><td>19</td><td>1</td><td>15.7</td><td>18.2</td><td>70</td><td>1</td></tr></tbody></table></div>"
      ],
      "text/plain": [
       "shape: (5, 9)\n",
       "┌───────────┬───────────┬───────────┬───────────┬───┬───────────┬───────────┬───────────┬──────────┐\n",
       "│ product_n ┆ mean_run_ ┆ std_run_l ┆ max_run_l ┆ … ┆ mean_cycl ┆ std_cycle ┆ max_cycle ┆ min_cycl │\n",
       "│ ame       ┆ length_ac ┆ ength_act ┆ ength_act ┆   ┆ e_days_ac ┆ _days_act ┆ _days_act ┆ e_days_a │\n",
       "│ ---       ┆ tual      ┆ ual       ┆ ual       ┆   ┆ tual      ┆ ual       ┆ ual       ┆ ctual    │\n",
       "│ str       ┆ ---       ┆ ---       ┆ ---       ┆   ┆ ---       ┆ ---       ┆ ---       ┆ ---      │\n",
       "│           ┆ f64       ┆ f64       ┆ u32       ┆   ┆ f64       ┆ f64       ┆ u32       ┆ u32      │\n",
       "╞═══════════╪═══════════╪═══════════╪═══════════╪═══╪═══════════╪═══════════╪═══════════╪══════════╡\n",
       "│ CH SNS    ┆ 2.8       ┆ 2.1       ┆ 6         ┆ … ┆ 49.6      ┆ 83.1      ┆ 234       ┆ 3        │\n",
       "│ CDA DK    ┆           ┆           ┆           ┆   ┆           ┆           ┆           ┆          │\n",
       "│ CHOC PEA  ┆           ┆           ┆           ┆   ┆           ┆           ┆           ┆          │\n",
       "│ ALM PARE… ┆           ┆           ┆           ┆   ┆           ┆           ┆           ┆          │\n",
       "│ CH SNS DK ┆ 5.2       ┆ 5.2       ┆ 15        ┆ … ┆ 47.6      ┆ 85.9      ┆ 238       ┆ 1        │\n",
       "│ CHOC PEA  ┆           ┆           ┆           ┆   ┆           ┆           ┆           ┆          │\n",
       "│ ALM       ┆           ┆           ┆           ┆   ┆           ┆           ┆           ┆          │\n",
       "│ PARENT    ┆           ┆           ┆           ┆   ┆           ┆           ┆           ┆          │\n",
       "│ CH        ┆ 3.6       ┆ 3.0       ┆ 8         ┆ … ┆ 57.7      ┆ 90.6      ┆ 240       ┆ 1        │\n",
       "│ PROTEIN   ┆           ┆           ┆           ┆   ┆           ┆           ┆           ┆          │\n",
       "│ PB DK     ┆           ┆           ┆           ┆   ┆           ┆           ┆           ┆          │\n",
       "│ CHOC      ┆           ┆           ┆           ┆   ┆           ┆           ┆           ┆          │\n",
       "│ PARENT    ┆           ┆           ┆           ┆   ┆           ┆           ┆           ┆          │\n",
       "│ CH SNS    ┆ 3.1       ┆ 2.7       ┆ 8         ┆ … ┆ 22.9      ┆ 42.3      ┆ 164       ┆ 1        │\n",
       "│ ALMOND    ┆           ┆           ┆           ┆   ┆           ┆           ┆           ┆          │\n",
       "│ PARENT    ┆           ┆           ┆           ┆   ┆           ┆           ┆           ┆          │\n",
       "│ CH SNS    ┆ 6.1       ┆ 6.6       ┆ 19        ┆ … ┆ 15.7      ┆ 18.2      ┆ 70        ┆ 1        │\n",
       "│ PEANUT    ┆           ┆           ┆           ┆   ┆           ┆           ┆           ┆          │\n",
       "│ PARENT    ┆           ┆           ┆           ┆   ┆           ┆           ┆           ┆          │\n",
       "└───────────┴───────────┴───────────┴───────────┴───┴───────────┴───────────┴───────────┴──────────┘"
      ]
     },
     "execution_count": 11,
     "metadata": {},
     "output_type": "execute_result"
    }
   ],
   "source": [
    "df_run_length_summary = df_run_length.groupby([\"product_name\"]).agg(\n",
    "    [\n",
    "        pl.mean(\"run_length\").round(1).alias(\"mean_run_length_actual\"),\n",
    "        pl.std(\"run_length\").round(1).alias(\"std_run_length_actual\"),\n",
    "        pl.max(\"run_length\").alias(\"max_run_length_actual\"),\n",
    "        pl.min(\"run_length\").alias(\"min_run_length_actual\")\n",
    "    ]\n",
    ")\n",
    "df_cycle_time_summary = df_cycle_time.groupby([\"product_name\"]).agg(\n",
    "    [\n",
    "        pl.mean(\"cycle_days\").round(1).alias(\"mean_cycle_days_actual\"),\n",
    "        pl.std(\"cycle_days\").round(1).alias(\"std_cycle_days_actual\"),\n",
    "        pl.max(\"cycle_days\").alias(\"max_cycle_days_actual\"),\n",
    "        pl.min(\"cycle_days\").alias(\"min_cycle_days_actual\")\n",
    "    ]\n",
    ")\n",
    "df_run_length_cycle_time_act = df_run_length_summary.join(df_cycle_time_summary,on = \"product_name\")\n",
    "df_run_length_cycle_time_act.head()"
   ]
  },
  {
   "cell_type": "code",
   "execution_count": 12,
   "metadata": {},
   "outputs": [
    {
     "data": {
      "text/html": [
       "<div><style>\n",
       ".dataframe > thead > tr > th,\n",
       ".dataframe > tbody > tr > td {\n",
       "  text-align: right;\n",
       "}\n",
       "</style>\n",
       "<small>shape: (5, 17)</small><table border=\"1\" class=\"dataframe\"><thead><tr><th>product_name</th><th>mean_run_length_actual</th><th>std_run_length_actual</th><th>max_run_length_actual</th><th>min_run_length_actual</th><th>mean_cycle_days_actual</th><th>std_cycle_days_actual</th><th>max_cycle_days_actual</th><th>min_cycle_days_actual</th><th>mean_run_length_model</th><th>std_run_length_model</th><th>max_run_length_model</th><th>min_run_length_model</th><th>mean_cycle_days_model</th><th>std_cycle_days_model</th><th>max_cycle_days_model</th><th>min_cycle_days_model</th></tr><tr><td>str</td><td>f64</td><td>f64</td><td>u32</td><td>u32</td><td>f64</td><td>f64</td><td>u32</td><td>u32</td><td>f64</td><td>f64</td><td>u32</td><td>u32</td><td>f64</td><td>f64</td><td>u32</td><td>u32</td></tr></thead><tbody><tr><td>&quot;CH SNS CHOCOLA…</td><td>3.3</td><td>0.6</td><td>4</td><td>3</td><td>88.5</td><td>51.3</td><td>154</td><td>34</td><td>1.3</td><td>0.5</td><td>2</td><td>1</td><td>40.8</td><td>61.7</td><td>164</td><td>1</td></tr><tr><td>&quot;CH SNS ALMOND …</td><td>3.1</td><td>2.7</td><td>8</td><td>1</td><td>22.9</td><td>42.3</td><td>164</td><td>1</td><td>2.4</td><td>2.1</td><td>8</td><td>1</td><td>25.3</td><td>25.4</td><td>67</td><td>1</td></tr><tr><td>&quot;CH TRAIL MIX F…</td><td>3.4</td><td>3.3</td><td>13</td><td>1</td><td>18.2</td><td>15.7</td><td>53</td><td>2</td><td>4.3</td><td>3.1</td><td>9</td><td>1</td><td>44.1</td><td>60.5</td><td>176</td><td>1</td></tr><tr><td>&quot;CH SNS PEANUT …</td><td>6.1</td><td>6.6</td><td>19</td><td>1</td><td>15.7</td><td>18.2</td><td>70</td><td>1</td><td>11.5</td><td>13.2</td><td>42</td><td>2</td><td>20.0</td><td>23.1</td><td>77</td><td>1</td></tr><tr><td>&quot;CH SNS DK CHOC…</td><td>5.2</td><td>5.2</td><td>15</td><td>1</td><td>47.6</td><td>85.9</td><td>238</td><td>1</td><td>1.9</td><td>1.1</td><td>4</td><td>1</td><td>31.8</td><td>70.2</td><td>228</td><td>1</td></tr></tbody></table></div>"
      ],
      "text/plain": [
       "shape: (5, 17)\n",
       "┌───────────┬───────────┬───────────┬───────────┬───┬───────────┬───────────┬───────────┬──────────┐\n",
       "│ product_n ┆ mean_run_ ┆ std_run_l ┆ max_run_l ┆ … ┆ mean_cycl ┆ std_cycle ┆ max_cycle ┆ min_cycl │\n",
       "│ ame       ┆ length_ac ┆ ength_act ┆ ength_act ┆   ┆ e_days_mo ┆ _days_mod ┆ _days_mod ┆ e_days_m │\n",
       "│ ---       ┆ tual      ┆ ual       ┆ ual       ┆   ┆ del       ┆ el        ┆ el        ┆ odel     │\n",
       "│ str       ┆ ---       ┆ ---       ┆ ---       ┆   ┆ ---       ┆ ---       ┆ ---       ┆ ---      │\n",
       "│           ┆ f64       ┆ f64       ┆ u32       ┆   ┆ f64       ┆ f64       ┆ u32       ┆ u32      │\n",
       "╞═══════════╪═══════════╪═══════════╪═══════════╪═══╪═══════════╪═══════════╪═══════════╪══════════╡\n",
       "│ CH SNS    ┆ 3.3       ┆ 0.6       ┆ 4         ┆ … ┆ 40.8      ┆ 61.7      ┆ 164       ┆ 1        │\n",
       "│ CHOCOLATE ┆           ┆           ┆           ┆   ┆           ┆           ┆           ┆          │\n",
       "│ PRETZEL   ┆           ┆           ┆           ┆   ┆           ┆           ┆           ┆          │\n",
       "│ NUT PAR…  ┆           ┆           ┆           ┆   ┆           ┆           ┆           ┆          │\n",
       "│ CH SNS    ┆ 3.1       ┆ 2.7       ┆ 8         ┆ … ┆ 25.3      ┆ 25.4      ┆ 67        ┆ 1        │\n",
       "│ ALMOND    ┆           ┆           ┆           ┆   ┆           ┆           ┆           ┆          │\n",
       "│ PARENT    ┆           ┆           ┆           ┆   ┆           ┆           ┆           ┆          │\n",
       "│ CH TRAIL  ┆ 3.4       ┆ 3.3       ┆ 13        ┆ … ┆ 44.1      ┆ 60.5      ┆ 176       ┆ 1        │\n",
       "│ MIX F&N   ┆           ┆           ┆           ┆   ┆           ┆           ┆           ┆          │\n",
       "│ PARENT    ┆           ┆           ┆           ┆   ┆           ┆           ┆           ┆          │\n",
       "│ CH SNS    ┆ 6.1       ┆ 6.6       ┆ 19        ┆ … ┆ 20.0      ┆ 23.1      ┆ 77        ┆ 1        │\n",
       "│ PEANUT    ┆           ┆           ┆           ┆   ┆           ┆           ┆           ┆          │\n",
       "│ PARENT    ┆           ┆           ┆           ┆   ┆           ┆           ┆           ┆          │\n",
       "│ CH SNS DK ┆ 5.2       ┆ 5.2       ┆ 15        ┆ … ┆ 31.8      ┆ 70.2      ┆ 228       ┆ 1        │\n",
       "│ CHOC PEA  ┆           ┆           ┆           ┆   ┆           ┆           ┆           ┆          │\n",
       "│ ALM       ┆           ┆           ┆           ┆   ┆           ┆           ┆           ┆          │\n",
       "│ PARENT    ┆           ┆           ┆           ┆   ┆           ┆           ┆           ┆          │\n",
       "└───────────┴───────────┴───────────┴───────────┴───┴───────────┴───────────┴───────────┴──────────┘"
      ]
     },
     "execution_count": 12,
     "metadata": {},
     "output_type": "execute_result"
    }
   ],
   "source": [
    "df_run_length_cycle_time = df_run_length_cycle_time_act.join(\n",
    "    df_run_length_cycle_time_model,\n",
    "    on = \"product_name\",\n",
    "    how = \"outer\"\n",
    ")\n",
    "df_run_length_cycle_time.head()"
   ]
  },
  {
   "cell_type": "code",
   "execution_count": 13,
   "metadata": {},
   "outputs": [],
   "source": [
    "# df_run_length_cycle_time.write_excel(\"mct.xlsx\")"
   ]
  },
  {
   "cell_type": "markdown",
   "metadata": {},
   "source": [
    "#### Utilization"
   ]
  },
  {
   "cell_type": "code",
   "execution_count": 14,
   "metadata": {},
   "outputs": [
    {
     "data": {
      "text/html": [
       "<div><style>\n",
       ".dataframe > thead > tr > th,\n",
       ".dataframe > tbody > tr > td {\n",
       "  text-align: right;\n",
       "}\n",
       "</style>\n",
       "<small>shape: (5, 11)</small><table border=\"1\" class=\"dataframe\"><thead><tr><th>product_name</th><th>day_number</th><th>production_status</th><th>week_nbr</th><th>production_plan_AL</th><th>total_days</th><th>contribution</th><th>production_plan</th><th>material_cd</th><th>line_rate_per_day</th><th>utilization</th></tr><tr><td>str</td><td>i16</td><td>i64</td><td>i64</td><td>i64</td><td>i64</td><td>f64</td><td>f64</td><td>i64</td><td>f64</td><td>f64</td></tr></thead><tbody><tr><td>&quot;CH TRAIL MIX F…</td><td>0</td><td>0</td><td>0</td><td>0</td><td>0</td><td>0.0</td><td>0.0</td><td>4104398000</td><td>0.0</td><td>NaN</td></tr><tr><td>&quot;CH REESES TREA…</td><td>0</td><td>0</td><td>0</td><td>0</td><td>0</td><td>0.0</td><td>0.0</td><td>4125119120</td><td>0.0</td><td>NaN</td></tr><tr><td>&quot;CH SNS ALMOND …</td><td>0</td><td>1973857</td><td>0</td><td>3059044</td><td>3059044</td><td>0.645253</td><td>1.9739e6</td><td>4127706000</td><td>0.0</td><td>inf</td></tr><tr><td>&quot;CH SNS PEANUT …</td><td>0</td><td>0</td><td>0</td><td>0</td><td>0</td><td>0.0</td><td>0.0</td><td>4127707000</td><td>0.0</td><td>NaN</td></tr><tr><td>&quot;CH SNS DK CHOC…</td><td>0</td><td>0</td><td>0</td><td>0</td><td>0</td><td>0.0</td><td>0.0</td><td>4127855000</td><td>0.0</td><td>NaN</td></tr></tbody></table></div>"
      ],
      "text/plain": [
       "shape: (5, 11)\n",
       "┌───────────┬───────────┬───────────┬──────────┬───┬───────────┬───────────┬───────────┬───────────┐\n",
       "│ product_n ┆ day_numbe ┆ productio ┆ week_nbr ┆ … ┆ productio ┆ material_ ┆ line_rate ┆ utilizati │\n",
       "│ ame       ┆ r         ┆ n_status  ┆ ---      ┆   ┆ n_plan    ┆ cd        ┆ _per_day  ┆ on        │\n",
       "│ ---       ┆ ---       ┆ ---       ┆ i64      ┆   ┆ ---       ┆ ---       ┆ ---       ┆ ---       │\n",
       "│ str       ┆ i16       ┆ i64       ┆          ┆   ┆ f64       ┆ i64       ┆ f64       ┆ f64       │\n",
       "╞═══════════╪═══════════╪═══════════╪══════════╪═══╪═══════════╪═══════════╪═══════════╪═══════════╡\n",
       "│ CH TRAIL  ┆ 0         ┆ 0         ┆ 0        ┆ … ┆ 0.0       ┆ 410439800 ┆ 0.0       ┆ NaN       │\n",
       "│ MIX F&N   ┆           ┆           ┆          ┆   ┆           ┆ 0         ┆           ┆           │\n",
       "│ PARENT    ┆           ┆           ┆          ┆   ┆           ┆           ┆           ┆           │\n",
       "│ CH REESES ┆ 0         ┆ 0         ┆ 0        ┆ … ┆ 0.0       ┆ 412511912 ┆ 0.0       ┆ NaN       │\n",
       "│ TREATS    ┆           ┆           ┆          ┆   ┆           ┆ 0         ┆           ┆           │\n",
       "│ BARS      ┆           ┆           ┆          ┆   ┆           ┆           ┆           ┆           │\n",
       "│ PARENT    ┆           ┆           ┆          ┆   ┆           ┆           ┆           ┆           │\n",
       "│ CH SNS    ┆ 0         ┆ 1973857   ┆ 0        ┆ … ┆ 1.9739e6  ┆ 412770600 ┆ 0.0       ┆ inf       │\n",
       "│ ALMOND    ┆           ┆           ┆          ┆   ┆           ┆ 0         ┆           ┆           │\n",
       "│ PARENT    ┆           ┆           ┆          ┆   ┆           ┆           ┆           ┆           │\n",
       "│ CH SNS    ┆ 0         ┆ 0         ┆ 0        ┆ … ┆ 0.0       ┆ 412770700 ┆ 0.0       ┆ NaN       │\n",
       "│ PEANUT    ┆           ┆           ┆          ┆   ┆           ┆ 0         ┆           ┆           │\n",
       "│ PARENT    ┆           ┆           ┆          ┆   ┆           ┆           ┆           ┆           │\n",
       "│ CH SNS DK ┆ 0         ┆ 0         ┆ 0        ┆ … ┆ 0.0       ┆ 412785500 ┆ 0.0       ┆ NaN       │\n",
       "│ CHOC PEA  ┆           ┆           ┆          ┆   ┆           ┆ 0         ┆           ┆           │\n",
       "│ ALM       ┆           ┆           ┆          ┆   ┆           ┆           ┆           ┆           │\n",
       "│ PARENT    ┆           ┆           ┆          ┆   ┆           ┆           ┆           ┆           │\n",
       "└───────────┴───────────┴───────────┴──────────┴───┴───────────┴───────────┴───────────┴───────────┘"
      ]
     },
     "execution_count": 14,
     "metadata": {},
     "output_type": "execute_result"
    }
   ],
   "source": [
    "df_target_rate = data_target_rate.join(data_product_mapping, on = \"material_cd\", how = \"left\")\n",
    "df_utilization_plan = df_prod_plan.join(df_target_rate, on = \"product_name\", how = \"left\")\n",
    "df_utilization_plan = df_utilization_plan.with_columns(\n",
    "    pl.when(pl.col(\"production_status\") == 1)\n",
    "    .then(pl.col(\"line_rate_per_day\"))\n",
    "    .otherwise(0)\n",
    "    .alias(\"line_rate_per_day\")\n",
    ")\n",
    "df_utilization_plan = df_utilization_plan.with_columns((pl.col(\"production_plan\")/pl.col(\"line_rate_per_day\")).alias(\"utilization\"))\n",
    "df_utilization_plan.head()"
   ]
  },
  {
   "cell_type": "markdown",
   "metadata": {},
   "source": [
    "#### Gant Chart of Production Plan & Actual Production"
   ]
  },
  {
   "cell_type": "code",
   "execution_count": 15,
   "metadata": {},
   "outputs": [
    {
     "data": {
      "application/vnd.plotly.v1+json": {
       "config": {
        "plotlyServerURL": "https://plot.ly"
       },
       "data": [
        {
         "hovertemplate": "day_number=%{x}<br>active_product=%{y}<extra></extra>",
         "legendgroup": "",
         "marker": {
          "color": "#636efa",
          "symbol": "circle"
         },
         "mode": "markers",
         "name": "",
         "orientation": "h",
         "showlegend": false,
         "type": "scatter",
         "x": [
          0,
          1,
          14,
          23,
          28,
          31,
          32,
          34,
          38,
          39,
          41,
          42,
          45,
          47,
          50,
          54,
          57,
          58,
          59,
          60,
          61,
          62,
          63,
          64,
          65,
          66,
          67,
          68,
          69,
          73,
          74,
          75,
          77,
          78,
          79,
          80,
          81,
          83,
          84,
          85,
          86,
          87,
          88,
          89,
          90,
          91,
          92,
          93,
          94,
          95,
          96,
          97,
          98,
          99,
          100,
          101,
          102,
          103,
          104,
          105,
          106,
          107,
          108,
          109,
          110,
          111,
          112,
          113,
          114,
          115,
          116,
          117,
          118,
          119,
          120,
          121,
          122,
          123,
          124,
          126,
          127,
          128,
          129,
          130,
          164,
          171,
          176,
          177,
          178,
          179,
          181,
          188,
          194,
          196,
          197,
          198,
          199,
          200,
          201,
          202,
          203,
          204,
          205,
          206,
          207,
          208,
          212,
          215,
          217,
          218,
          219,
          220,
          221,
          222,
          223,
          224,
          225,
          228,
          229,
          231,
          232,
          233,
          234,
          235,
          236,
          237,
          239,
          240,
          241,
          242,
          243,
          244,
          245,
          246,
          247,
          248,
          249,
          250,
          251,
          252,
          253,
          254,
          255,
          256,
          257,
          258,
          259,
          260,
          261,
          262,
          263,
          264,
          265,
          266,
          267,
          270,
          271,
          272,
          273,
          274,
          275,
          276,
          277,
          278,
          279,
          280,
          281,
          282,
          283,
          284,
          285,
          286,
          287,
          288,
          289,
          290,
          291,
          292,
          293,
          294,
          295,
          296,
          297,
          298,
          299,
          300,
          304,
          305,
          306,
          307,
          308,
          309,
          310,
          312,
          313,
          314,
          315,
          316,
          317,
          319,
          320,
          321,
          322,
          323,
          324,
          325,
          326,
          327,
          328,
          329,
          331,
          332,
          333,
          334
         ],
         "xaxis": "x",
         "y": [
          "CH SNS ALMOND PARENT",
          "CH SNS ALMOND PARENT",
          "CH PROTEIN PB DK CHOC PARENT",
          "CH PROTEIN PB DK CHOC PARENT",
          "CH PROTEIN PB DK CHOC PARENT",
          "CH PROTEIN PB DK CHOC PARENT",
          "CH PROTEIN PB DK CHOC PARENT",
          "CH PROTEIN PB DK CHOC PARENT",
          "CH PROTEIN PB DK CHOC PARENT",
          "CH PROTEIN PB DK CHOC PARENT",
          "CH SNS PEANUT PARENT",
          "CH SNS PEANUT PARENT",
          "CH PROTEIN PB DK CHOC PARENT",
          "CH PROTEIN PB DK CHOC PARENT",
          "CH PROTEIN PB DK CHOC PARENT",
          "CH PROTEIN PB DK CHOC PARENT",
          "CH PROTEIN PB DK CHOC PARENT",
          "CH SNS ALMOND PARENT",
          "CH SNS ALMOND PARENT",
          "CH SNS ALMOND PARENT",
          "CH SNS ALMOND PARENT",
          "CH SNS ALMOND PARENT",
          "CH SNS ALMOND PARENT",
          "CH SNS ALMOND PARENT",
          "CH SNS ALMOND PARENT",
          "CH SNS PEANUT PARENT",
          "CH SNS PEANUT PARENT",
          "CH SNS PEANUT PARENT",
          "CH SNS PEANUT PARENT",
          "CH SNS PEANUT PARENT",
          "CH SNS PEANUT PARENT",
          "CH SNS PEANUT PARENT",
          "CH SNS PEANUT PARENT",
          "CH SNS PEANUT PARENT",
          "CH SNS PEANUT PARENT",
          "CH SNS PEANUT PARENT",
          "CH SNS PEANUT PARENT",
          "CH SNS PEANUT PARENT",
          "CH SNS PEANUT PARENT",
          "CH SNS PEANUT PARENT",
          "CH SNS PEANUT PARENT",
          "CH SNS PEANUT PARENT",
          "CH SNS PEANUT PARENT",
          "CH SNS PEANUT PARENT",
          "CH SNS PEANUT PARENT",
          "CH SNS PEANUT PARENT",
          "CH SNS PEANUT PARENT",
          "CH SNS PEANUT PARENT",
          "CH SNS PEANUT PARENT",
          "CH SNS PEANUT PARENT",
          "CH SNS PEANUT PARENT",
          "CH SNS PEANUT PARENT",
          "CH SNS PEANUT PARENT",
          "CH SNS PEANUT PARENT",
          "CH SNS PEANUT PARENT",
          "CH SNS PEANUT PARENT",
          "CH SNS PEANUT PARENT",
          "CH SNS PEANUT PARENT",
          "CH SNS PEANUT PARENT",
          "CH SNS PEANUT PARENT",
          "CH SNS PEANUT PARENT",
          "CH SNS PEANUT PARENT",
          "CH SNS PEANUT PARENT",
          "CH SNS PEANUT PARENT",
          "CH SNS PEANUT PARENT",
          "CH SNS PEANUT PARENT",
          "CH SNS PEANUT PARENT",
          "CH SNS PEANUT PARENT",
          "CH SNS PEANUT PARENT",
          "CH SNS PEANUT PARENT",
          "CH SNS PEANUT PARENT",
          "CH SNS PEANUT PARENT",
          "CH SNS PEANUT PARENT",
          "CH SNS PEANUT PARENT",
          "CH SNS PEANUT PARENT",
          "CH SNS PEANUT PARENT",
          "CH SNS PEANUT PARENT",
          "CH SNS PEANUT PARENT",
          "CH SNS PEANUT PARENT",
          "CH SNS ALMOND PARENT",
          "CH SNS ALMOND PARENT",
          "CH SNS ALMOND PARENT",
          "CH SNS ALMOND PARENT",
          "CH SNS ALMOND PARENT",
          "CH SNS CHOCOLATE PRETZEL NUT PARENT",
          "CH SNS CHOCOLATE PRETZEL NUT PARENT",
          "CH TRAIL MIX F&N PARENT",
          "CH TRAIL MIX F&N PARENT",
          "CH TRAIL MIX F&N PARENT",
          "CH TRAIL MIX F&N PARENT",
          "CH SNS CHOCOLATE PRETZEL NUT PARENT",
          "CH SNS CHOCOLATE PRETZEL NUT PARENT",
          "CH SNS CHOCOLATE PRETZEL NUT PARENT",
          "CH SNS CHOCOLATE PRETZEL NUT PARENT",
          "CH SNS CHOCOLATE PRETZEL NUT PARENT",
          "CH SNS ALMOND PARENT",
          "CH SNS ALMOND PARENT",
          "CH SNS ALMOND PARENT",
          "CH SNS ALMOND PARENT",
          "CH SNS PEANUT PARENT",
          "CH SNS PEANUT PARENT",
          "CH SNS PEANUT PARENT",
          "CH SNS PEANUT PARENT",
          "CH SNS PEANUT PARENT",
          "CH SNS PEANUT PARENT",
          "CH SNS PEANUT PARENT",
          "CH TRAIL MIX F&N PARENT",
          "CH TRAIL MIX F&N PARENT",
          "CH TRAIL MIX F&N PARENT",
          "CH TRAIL MIX F&N PARENT",
          "CH TRAIL MIX F&N PARENT",
          "CH TRAIL MIX F&N PARENT",
          "CH TRAIL MIX F&N PARENT",
          "CH TRAIL MIX F&N PARENT",
          "CH TRAIL MIX F&N PARENT",
          "CH TRAIL MIX F&N PARENT",
          "CH TRAIL MIX F&N PARENT",
          "CH SNS DK CHOC PEA ALM PARENT",
          "CH SNS DK CHOC PEA ALM PARENT",
          "CH SNS ALMOND PARENT",
          "CH SNS DK CHOC PEA ALM PARENT",
          "CH SNS ALMOND PARENT",
          "CH SNS DK CHOC PEA ALM PARENT",
          "CH SNS ALMOND PARENT",
          "CH SNS PEANUT PARENT",
          "CH SNS PEANUT PARENT",
          "CH SNS PEANUT PARENT",
          "CH SNS PEANUT PARENT",
          "CH SNS PEANUT PARENT",
          "CH SNS PEANUT PARENT",
          "CH SNS PEANUT PARENT",
          "CH SNS PEANUT PARENT",
          "CH SNS PEANUT PARENT",
          "CH SNS PEANUT PARENT",
          "CH SNS PEANUT PARENT",
          "CH SNS PEANUT PARENT",
          "CH SNS PEANUT PARENT",
          "CH SNS PEANUT PARENT",
          "CH SNS PEANUT PARENT",
          "CH SNS PEANUT PARENT",
          "CH SNS PEANUT PARENT",
          "CH SNS PEANUT PARENT",
          "CH SNS PEANUT PARENT",
          "CH SNS PEANUT PARENT",
          "CH SNS PEANUT PARENT",
          "CH SNS PEANUT PARENT",
          "CH SNS PEANUT PARENT",
          "CH SNS PEANUT PARENT",
          "CH SNS PEANUT PARENT",
          "CH SNS PEANUT PARENT",
          "CH SNS PEANUT PARENT",
          "CH SNS PEANUT PARENT",
          "CH SNS PEANUT PARENT",
          "CH SNS PEANUT PARENT",
          "CH SNS CDA DK CHOC PEA  ALM PARENT",
          "CH TRAIL MIX F&N PARENT",
          "CH TRAIL MIX F&N PARENT",
          "CH TRAIL MIX F&N PARENT",
          "CH TRAIL MIX F&N PARENT",
          "CH TRAIL MIX F&N PARENT",
          "CH SNS DK CHOC PEA ALM PARENT",
          "CH SNS ALMOND PARENT",
          "CH SNS DK CHOC PEA ALM PARENT",
          "CH SNS ALMOND PARENT",
          "CH SNS DK CHOC PEA ALM PARENT",
          "CH SNS DK CHOC PEA ALM PARENT",
          "CH SNS ALMOND PARENT",
          "CH SNS ALMOND PARENT",
          "CH SNS DK CHOC PEA ALM PARENT",
          "CH SNS DK CHOC PEA ALM PARENT",
          "CH SNS ALMOND PARENT",
          "CH SNS ALMOND PARENT",
          "CH SNS ALMOND PARENT",
          "CH SNS PEANUT PARENT",
          "CH SNS PEANUT PARENT",
          "CH SNS PEANUT PARENT",
          "CH SNS PEANUT PARENT",
          "CH SNS PEANUT PARENT",
          "CH SNS PEANUT PARENT",
          "CH SNS PEANUT PARENT",
          "CH SNS PEANUT PARENT",
          "CH SNS PEANUT PARENT",
          "CH SNS PEANUT PARENT",
          "CH SNS PEANUT PARENT",
          "CH SNS PEANUT PARENT",
          "CH SNS CDA DK CHOC PEA  ALM PARENT",
          "CH SNS ALMOND PARENT",
          "CH SNS DK CHOC PEA ALM PARENT",
          "CH SNS DK CHOC PEA ALM PARENT",
          "CH SNS DK CHOC PEA ALM PARENT",
          "CH SNS DK CHOC PEA ALM PARENT",
          "CH SNS CHOCOLATE PRETZEL NUT PARENT",
          "CH SNS CHOCOLATE PRETZEL NUT PARENT",
          "CH TRAIL MIX F&N PARENT",
          "CH TRAIL MIX F&N PARENT",
          "CH TRAIL MIX F&N PARENT",
          "CH TRAIL MIX F&N PARENT",
          "CH TRAIL MIX F&N PARENT",
          "CH TRAIL MIX F&N PARENT",
          "CH SNS PEANUT PARENT",
          "CH SNS PEANUT PARENT",
          "CH SNS PEANUT PARENT",
          "CH SNS PEANUT PARENT",
          "CH SNS PEANUT PARENT",
          "CH SNS PEANUT PARENT",
          "CH SNS PEANUT PARENT",
          "CH SNS PEANUT PARENT",
          "CH SNS PEANUT PARENT",
          "CH SNS PEANUT PARENT",
          "CH SNS CDA DK CHOC PEA  ALM PARENT",
          "CH SNS DK CHOC PEA ALM PARENT",
          "CH SNS DK CHOC PEA ALM PARENT",
          "CH SNS DK CHOC PEA ALM PARENT",
          "CH SNS ALMOND PARENT"
         ],
         "yaxis": "y"
        }
       ],
       "layout": {
        "legend": {
         "tracegroupgap": 0
        },
        "template": {
         "data": {
          "bar": [
           {
            "error_x": {
             "color": "#2a3f5f"
            },
            "error_y": {
             "color": "#2a3f5f"
            },
            "marker": {
             "line": {
              "color": "#E5ECF6",
              "width": 0.5
             },
             "pattern": {
              "fillmode": "overlay",
              "size": 10,
              "solidity": 0.2
             }
            },
            "type": "bar"
           }
          ],
          "barpolar": [
           {
            "marker": {
             "line": {
              "color": "#E5ECF6",
              "width": 0.5
             },
             "pattern": {
              "fillmode": "overlay",
              "size": 10,
              "solidity": 0.2
             }
            },
            "type": "barpolar"
           }
          ],
          "carpet": [
           {
            "aaxis": {
             "endlinecolor": "#2a3f5f",
             "gridcolor": "white",
             "linecolor": "white",
             "minorgridcolor": "white",
             "startlinecolor": "#2a3f5f"
            },
            "baxis": {
             "endlinecolor": "#2a3f5f",
             "gridcolor": "white",
             "linecolor": "white",
             "minorgridcolor": "white",
             "startlinecolor": "#2a3f5f"
            },
            "type": "carpet"
           }
          ],
          "choropleth": [
           {
            "colorbar": {
             "outlinewidth": 0,
             "ticks": ""
            },
            "type": "choropleth"
           }
          ],
          "contour": [
           {
            "colorbar": {
             "outlinewidth": 0,
             "ticks": ""
            },
            "colorscale": [
             [
              0,
              "#0d0887"
             ],
             [
              0.1111111111111111,
              "#46039f"
             ],
             [
              0.2222222222222222,
              "#7201a8"
             ],
             [
              0.3333333333333333,
              "#9c179e"
             ],
             [
              0.4444444444444444,
              "#bd3786"
             ],
             [
              0.5555555555555556,
              "#d8576b"
             ],
             [
              0.6666666666666666,
              "#ed7953"
             ],
             [
              0.7777777777777778,
              "#fb9f3a"
             ],
             [
              0.8888888888888888,
              "#fdca26"
             ],
             [
              1,
              "#f0f921"
             ]
            ],
            "type": "contour"
           }
          ],
          "contourcarpet": [
           {
            "colorbar": {
             "outlinewidth": 0,
             "ticks": ""
            },
            "type": "contourcarpet"
           }
          ],
          "heatmap": [
           {
            "colorbar": {
             "outlinewidth": 0,
             "ticks": ""
            },
            "colorscale": [
             [
              0,
              "#0d0887"
             ],
             [
              0.1111111111111111,
              "#46039f"
             ],
             [
              0.2222222222222222,
              "#7201a8"
             ],
             [
              0.3333333333333333,
              "#9c179e"
             ],
             [
              0.4444444444444444,
              "#bd3786"
             ],
             [
              0.5555555555555556,
              "#d8576b"
             ],
             [
              0.6666666666666666,
              "#ed7953"
             ],
             [
              0.7777777777777778,
              "#fb9f3a"
             ],
             [
              0.8888888888888888,
              "#fdca26"
             ],
             [
              1,
              "#f0f921"
             ]
            ],
            "type": "heatmap"
           }
          ],
          "heatmapgl": [
           {
            "colorbar": {
             "outlinewidth": 0,
             "ticks": ""
            },
            "colorscale": [
             [
              0,
              "#0d0887"
             ],
             [
              0.1111111111111111,
              "#46039f"
             ],
             [
              0.2222222222222222,
              "#7201a8"
             ],
             [
              0.3333333333333333,
              "#9c179e"
             ],
             [
              0.4444444444444444,
              "#bd3786"
             ],
             [
              0.5555555555555556,
              "#d8576b"
             ],
             [
              0.6666666666666666,
              "#ed7953"
             ],
             [
              0.7777777777777778,
              "#fb9f3a"
             ],
             [
              0.8888888888888888,
              "#fdca26"
             ],
             [
              1,
              "#f0f921"
             ]
            ],
            "type": "heatmapgl"
           }
          ],
          "histogram": [
           {
            "marker": {
             "pattern": {
              "fillmode": "overlay",
              "size": 10,
              "solidity": 0.2
             }
            },
            "type": "histogram"
           }
          ],
          "histogram2d": [
           {
            "colorbar": {
             "outlinewidth": 0,
             "ticks": ""
            },
            "colorscale": [
             [
              0,
              "#0d0887"
             ],
             [
              0.1111111111111111,
              "#46039f"
             ],
             [
              0.2222222222222222,
              "#7201a8"
             ],
             [
              0.3333333333333333,
              "#9c179e"
             ],
             [
              0.4444444444444444,
              "#bd3786"
             ],
             [
              0.5555555555555556,
              "#d8576b"
             ],
             [
              0.6666666666666666,
              "#ed7953"
             ],
             [
              0.7777777777777778,
              "#fb9f3a"
             ],
             [
              0.8888888888888888,
              "#fdca26"
             ],
             [
              1,
              "#f0f921"
             ]
            ],
            "type": "histogram2d"
           }
          ],
          "histogram2dcontour": [
           {
            "colorbar": {
             "outlinewidth": 0,
             "ticks": ""
            },
            "colorscale": [
             [
              0,
              "#0d0887"
             ],
             [
              0.1111111111111111,
              "#46039f"
             ],
             [
              0.2222222222222222,
              "#7201a8"
             ],
             [
              0.3333333333333333,
              "#9c179e"
             ],
             [
              0.4444444444444444,
              "#bd3786"
             ],
             [
              0.5555555555555556,
              "#d8576b"
             ],
             [
              0.6666666666666666,
              "#ed7953"
             ],
             [
              0.7777777777777778,
              "#fb9f3a"
             ],
             [
              0.8888888888888888,
              "#fdca26"
             ],
             [
              1,
              "#f0f921"
             ]
            ],
            "type": "histogram2dcontour"
           }
          ],
          "mesh3d": [
           {
            "colorbar": {
             "outlinewidth": 0,
             "ticks": ""
            },
            "type": "mesh3d"
           }
          ],
          "parcoords": [
           {
            "line": {
             "colorbar": {
              "outlinewidth": 0,
              "ticks": ""
             }
            },
            "type": "parcoords"
           }
          ],
          "pie": [
           {
            "automargin": true,
            "type": "pie"
           }
          ],
          "scatter": [
           {
            "fillpattern": {
             "fillmode": "overlay",
             "size": 10,
             "solidity": 0.2
            },
            "type": "scatter"
           }
          ],
          "scatter3d": [
           {
            "line": {
             "colorbar": {
              "outlinewidth": 0,
              "ticks": ""
             }
            },
            "marker": {
             "colorbar": {
              "outlinewidth": 0,
              "ticks": ""
             }
            },
            "type": "scatter3d"
           }
          ],
          "scattercarpet": [
           {
            "marker": {
             "colorbar": {
              "outlinewidth": 0,
              "ticks": ""
             }
            },
            "type": "scattercarpet"
           }
          ],
          "scattergeo": [
           {
            "marker": {
             "colorbar": {
              "outlinewidth": 0,
              "ticks": ""
             }
            },
            "type": "scattergeo"
           }
          ],
          "scattergl": [
           {
            "marker": {
             "colorbar": {
              "outlinewidth": 0,
              "ticks": ""
             }
            },
            "type": "scattergl"
           }
          ],
          "scattermapbox": [
           {
            "marker": {
             "colorbar": {
              "outlinewidth": 0,
              "ticks": ""
             }
            },
            "type": "scattermapbox"
           }
          ],
          "scatterpolar": [
           {
            "marker": {
             "colorbar": {
              "outlinewidth": 0,
              "ticks": ""
             }
            },
            "type": "scatterpolar"
           }
          ],
          "scatterpolargl": [
           {
            "marker": {
             "colorbar": {
              "outlinewidth": 0,
              "ticks": ""
             }
            },
            "type": "scatterpolargl"
           }
          ],
          "scatterternary": [
           {
            "marker": {
             "colorbar": {
              "outlinewidth": 0,
              "ticks": ""
             }
            },
            "type": "scatterternary"
           }
          ],
          "surface": [
           {
            "colorbar": {
             "outlinewidth": 0,
             "ticks": ""
            },
            "colorscale": [
             [
              0,
              "#0d0887"
             ],
             [
              0.1111111111111111,
              "#46039f"
             ],
             [
              0.2222222222222222,
              "#7201a8"
             ],
             [
              0.3333333333333333,
              "#9c179e"
             ],
             [
              0.4444444444444444,
              "#bd3786"
             ],
             [
              0.5555555555555556,
              "#d8576b"
             ],
             [
              0.6666666666666666,
              "#ed7953"
             ],
             [
              0.7777777777777778,
              "#fb9f3a"
             ],
             [
              0.8888888888888888,
              "#fdca26"
             ],
             [
              1,
              "#f0f921"
             ]
            ],
            "type": "surface"
           }
          ],
          "table": [
           {
            "cells": {
             "fill": {
              "color": "#EBF0F8"
             },
             "line": {
              "color": "white"
             }
            },
            "header": {
             "fill": {
              "color": "#C8D4E3"
             },
             "line": {
              "color": "white"
             }
            },
            "type": "table"
           }
          ]
         },
         "layout": {
          "annotationdefaults": {
           "arrowcolor": "#2a3f5f",
           "arrowhead": 0,
           "arrowwidth": 1
          },
          "autotypenumbers": "strict",
          "coloraxis": {
           "colorbar": {
            "outlinewidth": 0,
            "ticks": ""
           }
          },
          "colorscale": {
           "diverging": [
            [
             0,
             "#8e0152"
            ],
            [
             0.1,
             "#c51b7d"
            ],
            [
             0.2,
             "#de77ae"
            ],
            [
             0.3,
             "#f1b6da"
            ],
            [
             0.4,
             "#fde0ef"
            ],
            [
             0.5,
             "#f7f7f7"
            ],
            [
             0.6,
             "#e6f5d0"
            ],
            [
             0.7,
             "#b8e186"
            ],
            [
             0.8,
             "#7fbc41"
            ],
            [
             0.9,
             "#4d9221"
            ],
            [
             1,
             "#276419"
            ]
           ],
           "sequential": [
            [
             0,
             "#0d0887"
            ],
            [
             0.1111111111111111,
             "#46039f"
            ],
            [
             0.2222222222222222,
             "#7201a8"
            ],
            [
             0.3333333333333333,
             "#9c179e"
            ],
            [
             0.4444444444444444,
             "#bd3786"
            ],
            [
             0.5555555555555556,
             "#d8576b"
            ],
            [
             0.6666666666666666,
             "#ed7953"
            ],
            [
             0.7777777777777778,
             "#fb9f3a"
            ],
            [
             0.8888888888888888,
             "#fdca26"
            ],
            [
             1,
             "#f0f921"
            ]
           ],
           "sequentialminus": [
            [
             0,
             "#0d0887"
            ],
            [
             0.1111111111111111,
             "#46039f"
            ],
            [
             0.2222222222222222,
             "#7201a8"
            ],
            [
             0.3333333333333333,
             "#9c179e"
            ],
            [
             0.4444444444444444,
             "#bd3786"
            ],
            [
             0.5555555555555556,
             "#d8576b"
            ],
            [
             0.6666666666666666,
             "#ed7953"
            ],
            [
             0.7777777777777778,
             "#fb9f3a"
            ],
            [
             0.8888888888888888,
             "#fdca26"
            ],
            [
             1,
             "#f0f921"
            ]
           ]
          },
          "colorway": [
           "#636efa",
           "#EF553B",
           "#00cc96",
           "#ab63fa",
           "#FFA15A",
           "#19d3f3",
           "#FF6692",
           "#B6E880",
           "#FF97FF",
           "#FECB52"
          ],
          "font": {
           "color": "#2a3f5f"
          },
          "geo": {
           "bgcolor": "white",
           "lakecolor": "white",
           "landcolor": "#E5ECF6",
           "showlakes": true,
           "showland": true,
           "subunitcolor": "white"
          },
          "hoverlabel": {
           "align": "left"
          },
          "hovermode": "closest",
          "mapbox": {
           "style": "light"
          },
          "paper_bgcolor": "white",
          "plot_bgcolor": "#E5ECF6",
          "polar": {
           "angularaxis": {
            "gridcolor": "white",
            "linecolor": "white",
            "ticks": ""
           },
           "bgcolor": "#E5ECF6",
           "radialaxis": {
            "gridcolor": "white",
            "linecolor": "white",
            "ticks": ""
           }
          },
          "scene": {
           "xaxis": {
            "backgroundcolor": "#E5ECF6",
            "gridcolor": "white",
            "gridwidth": 2,
            "linecolor": "white",
            "showbackground": true,
            "ticks": "",
            "zerolinecolor": "white"
           },
           "yaxis": {
            "backgroundcolor": "#E5ECF6",
            "gridcolor": "white",
            "gridwidth": 2,
            "linecolor": "white",
            "showbackground": true,
            "ticks": "",
            "zerolinecolor": "white"
           },
           "zaxis": {
            "backgroundcolor": "#E5ECF6",
            "gridcolor": "white",
            "gridwidth": 2,
            "linecolor": "white",
            "showbackground": true,
            "ticks": "",
            "zerolinecolor": "white"
           }
          },
          "shapedefaults": {
           "line": {
            "color": "#2a3f5f"
           }
          },
          "ternary": {
           "aaxis": {
            "gridcolor": "white",
            "linecolor": "white",
            "ticks": ""
           },
           "baxis": {
            "gridcolor": "white",
            "linecolor": "white",
            "ticks": ""
           },
           "bgcolor": "#E5ECF6",
           "caxis": {
            "gridcolor": "white",
            "linecolor": "white",
            "ticks": ""
           }
          },
          "title": {
           "x": 0.05
          },
          "xaxis": {
           "automargin": true,
           "gridcolor": "white",
           "linecolor": "white",
           "ticks": "",
           "title": {
            "standoff": 15
           },
           "zerolinecolor": "white",
           "zerolinewidth": 2
          },
          "yaxis": {
           "automargin": true,
           "gridcolor": "white",
           "linecolor": "white",
           "ticks": "",
           "title": {
            "standoff": 15
           },
           "zerolinecolor": "white",
           "zerolinewidth": 2
          }
         }
        },
        "title": {
         "text": "Production Status by Day (Model)"
        },
        "xaxis": {
         "anchor": "y",
         "domain": [
          0,
          1
         ],
         "title": {
          "text": "day_number"
         }
        },
        "yaxis": {
         "anchor": "x",
         "domain": [
          0,
          1
         ],
         "title": {
          "text": "active_product"
         }
        }
       }
      }
     },
     "metadata": {},
     "output_type": "display_data"
    }
   ],
   "source": [
    "df = df_prod_plan.with_columns(\n",
    "    pl.when(pl.col(\"production_plan\") > 0).then(pl.col(\"product_name\")).otherwise(None).alias(\"active_product\")\n",
    ").drop_nulls()\n",
    "fig = px.scatter(df,x = \"day_number\", y = \"active_product\", title = \"Production Status by Day (Model)\")\n",
    "fig"
   ]
  },
  {
   "cell_type": "code",
   "execution_count": 16,
   "metadata": {},
   "outputs": [
    {
     "data": {
      "application/vnd.plotly.v1+json": {
       "config": {
        "plotlyServerURL": "https://plot.ly"
       },
       "data": [
        {
         "hovertemplate": "date=%{x}<br>active_product=%{y}<extra></extra>",
         "legendgroup": "",
         "marker": {
          "color": "#636efa",
          "symbol": "circle"
         },
         "mode": "markers",
         "name": "",
         "orientation": "v",
         "showlegend": false,
         "type": "scatter",
         "x": [
          "2022-05-30T00:00:00",
          "2022-06-02T00:00:00",
          "2022-06-04T00:00:00",
          "2022-06-08T00:00:00",
          "2022-06-12T00:00:00",
          "2022-06-13T00:00:00",
          "2022-06-15T00:00:00",
          "2022-06-16T00:00:00",
          "2022-06-19T00:00:00",
          "2022-06-20T00:00:00",
          "2022-06-23T00:00:00",
          "2022-06-24T00:00:00",
          "2022-06-25T00:00:00",
          "2022-06-26T00:00:00",
          "2022-06-27T00:00:00",
          "2022-06-28T00:00:00",
          "2022-07-03T00:00:00",
          "2022-07-04T00:00:00",
          "2022-07-05T00:00:00",
          "2022-07-06T00:00:00",
          "2022-07-09T00:00:00",
          "2022-07-11T00:00:00",
          "2022-07-12T00:00:00",
          "2022-07-14T00:00:00",
          "2022-07-15T00:00:00",
          "2022-07-19T00:00:00",
          "2022-07-21T00:00:00",
          "2022-07-22T00:00:00",
          "2022-07-23T00:00:00",
          "2022-07-25T00:00:00",
          "2022-07-26T00:00:00",
          "2022-07-26T00:00:00",
          "2022-07-27T00:00:00",
          "2022-07-28T00:00:00",
          "2022-07-29T00:00:00",
          "2022-07-29T00:00:00",
          "2022-07-30T00:00:00",
          "2022-08-02T00:00:00",
          "2022-08-04T00:00:00",
          "2022-08-06T00:00:00",
          "2022-08-10T00:00:00",
          "2022-08-13T00:00:00",
          "2022-08-14T00:00:00",
          "2022-08-17T00:00:00",
          "2022-08-18T00:00:00",
          "2022-08-22T00:00:00",
          "2022-08-23T00:00:00",
          "2022-08-24T00:00:00",
          "2022-08-30T00:00:00",
          "2022-08-31T00:00:00",
          "2022-09-02T00:00:00",
          "2022-09-02T00:00:00",
          "2022-09-03T00:00:00",
          "2022-09-05T00:00:00",
          "2022-09-13T00:00:00",
          "2022-09-15T00:00:00",
          "2022-09-19T00:00:00",
          "2022-09-25T00:00:00",
          "2022-09-26T00:00:00",
          "2022-09-26T00:00:00",
          "2022-09-29T00:00:00",
          "2022-09-30T00:00:00",
          "2022-10-01T00:00:00",
          "2022-10-02T00:00:00",
          "2022-10-04T00:00:00",
          "2022-10-07T00:00:00",
          "2022-10-08T00:00:00",
          "2022-10-09T00:00:00",
          "2022-10-10T00:00:00",
          "2022-10-12T00:00:00",
          "2022-10-14T00:00:00",
          "2022-10-15T00:00:00",
          "2022-10-21T00:00:00",
          "2022-10-25T00:00:00",
          "2022-10-25T00:00:00",
          "2022-10-26T00:00:00",
          "2022-10-27T00:00:00",
          "2022-10-28T00:00:00",
          "2022-10-29T00:00:00",
          "2022-10-30T00:00:00",
          "2022-11-01T00:00:00",
          "2022-11-02T00:00:00",
          "2022-11-02T00:00:00",
          "2022-11-03T00:00:00",
          "2022-11-11T00:00:00",
          "2022-11-13T00:00:00",
          "2022-11-14T00:00:00",
          "2022-11-15T00:00:00",
          "2022-11-16T00:00:00",
          "2022-11-18T00:00:00",
          "2022-11-19T00:00:00",
          "2022-11-20T00:00:00",
          "2022-11-21T00:00:00",
          "2022-11-22T00:00:00",
          "2022-11-23T00:00:00",
          "2022-11-26T00:00:00",
          "2022-11-27T00:00:00",
          "2022-11-28T00:00:00",
          "2022-11-29T00:00:00",
          "2022-11-30T00:00:00",
          "2022-12-04T00:00:00",
          "2022-12-13T00:00:00",
          "2022-12-14T00:00:00",
          "2022-12-19T00:00:00",
          "2023-01-09T00:00:00",
          "2023-01-10T00:00:00",
          "2023-01-20T00:00:00",
          "2023-01-21T00:00:00",
          "2023-01-22T00:00:00",
          "2023-01-23T00:00:00",
          "2023-01-29T00:00:00",
          "2023-02-17T00:00:00",
          "2023-03-02T00:00:00",
          "2023-03-09T00:00:00",
          "2023-03-10T00:00:00",
          "2023-03-13T00:00:00",
          "2023-03-15T00:00:00",
          "2023-03-18T00:00:00",
          "2023-03-21T00:00:00",
          "2023-03-24T00:00:00",
          "2023-03-28T00:00:00",
          "2023-03-29T00:00:00",
          "2023-04-14T00:00:00",
          "2023-04-15T00:00:00",
          "2023-04-17T00:00:00",
          "2023-04-23T00:00:00",
          "2023-04-27T00:00:00",
          "2023-05-01T00:00:00",
          "2023-05-08T00:00:00",
          "2023-05-15T00:00:00",
          "2023-05-18T00:00:00",
          "2023-05-22T00:00:00",
          "2022-05-31T00:00:00",
          "2022-06-01T00:00:00",
          "2022-06-03T00:00:00",
          "2022-06-05T00:00:00",
          "2022-06-11T00:00:00",
          "2022-06-14T00:00:00",
          "2022-06-21T00:00:00",
          "2022-06-21T00:00:00",
          "2022-06-29T00:00:00",
          "2022-06-30T00:00:00",
          "2022-07-07T00:00:00",
          "2022-07-08T00:00:00",
          "2022-07-10T00:00:00",
          "2022-07-13T00:00:00",
          "2022-07-17T00:00:00",
          "2022-07-18T00:00:00",
          "2022-07-20T00:00:00",
          "2022-07-21T00:00:00",
          "2022-07-24T00:00:00",
          "2022-07-29T00:00:00",
          "2022-07-29T00:00:00",
          "2022-07-31T00:00:00",
          "2022-07-31T00:00:00",
          "2022-08-01T00:00:00",
          "2022-08-03T00:00:00",
          "2022-08-05T00:00:00",
          "2022-08-07T00:00:00",
          "2022-08-10T00:00:00",
          "2022-08-11T00:00:00",
          "2022-08-12T00:00:00",
          "2022-08-15T00:00:00",
          "2022-08-16T00:00:00",
          "2022-08-16T00:00:00",
          "2022-08-19T00:00:00",
          "2022-08-20T00:00:00",
          "2022-08-21T00:00:00",
          "2022-08-25T00:00:00",
          "2022-08-26T00:00:00",
          "2022-08-27T00:00:00",
          "2022-08-28T00:00:00",
          "2022-08-29T00:00:00",
          "2022-09-01T00:00:00",
          "2022-09-02T00:00:00",
          "2022-09-04T00:00:00",
          "2022-09-08T00:00:00",
          "2022-09-14T00:00:00",
          "2022-09-16T00:00:00",
          "2022-09-16T00:00:00",
          "2022-09-17T00:00:00",
          "2022-09-20T00:00:00",
          "2022-09-21T00:00:00",
          "2022-09-22T00:00:00",
          "2022-09-24T00:00:00",
          "2022-09-27T00:00:00",
          "2022-09-28T00:00:00",
          "2022-09-30T00:00:00",
          "2022-10-02T00:00:00",
          "2022-10-02T00:00:00",
          "2022-10-03T00:00:00",
          "2022-10-05T00:00:00",
          "2022-10-06T00:00:00",
          "2022-10-11T00:00:00",
          "2022-10-13T00:00:00",
          "2022-10-18T00:00:00",
          "2022-10-19T00:00:00",
          "2022-10-20T00:00:00",
          "2022-10-22T00:00:00",
          "2022-10-30T00:00:00",
          "2022-10-31T00:00:00",
          "2022-11-07T00:00:00",
          "2022-11-08T00:00:00",
          "2022-11-09T00:00:00",
          "2022-11-10T00:00:00",
          "2022-11-12T00:00:00",
          "2022-11-17T00:00:00",
          "2022-11-22T00:00:00",
          "2022-12-01T00:00:00",
          "2022-12-02T00:00:00",
          "2022-12-02T00:00:00",
          "2022-12-05T00:00:00",
          "2022-12-06T00:00:00",
          "2022-12-07T00:00:00",
          "2022-12-08T00:00:00",
          "2022-12-09T00:00:00",
          "2022-12-10T00:00:00",
          "2022-12-12T00:00:00",
          "2022-12-15T00:00:00",
          "2022-12-15T00:00:00",
          "2022-12-15T00:00:00",
          "2022-12-16T00:00:00",
          "2022-12-17T00:00:00",
          "2022-12-18T00:00:00",
          "2023-01-11T00:00:00",
          "2023-01-19T00:00:00",
          "2023-01-24T00:00:00",
          "2023-01-25T00:00:00",
          "2023-01-26T00:00:00",
          "2023-01-27T00:00:00",
          "2023-02-15T00:00:00",
          "2023-02-16T00:00:00",
          "2023-02-28T00:00:00",
          "2023-03-01T00:00:00",
          "2023-03-06T00:00:00",
          "2023-03-07T00:00:00",
          "2023-03-08T00:00:00",
          "2023-03-11T00:00:00",
          "2023-03-14T00:00:00",
          "2023-03-16T00:00:00",
          "2023-03-17T00:00:00",
          "2023-03-20T00:00:00",
          "2023-03-22T00:00:00",
          "2023-03-22T00:00:00",
          "2023-03-23T00:00:00",
          "2023-03-27T00:00:00",
          "2023-03-30T00:00:00",
          "2023-04-11T00:00:00",
          "2023-04-12T00:00:00",
          "2023-04-13T00:00:00",
          "2023-04-16T00:00:00",
          "2023-04-24T00:00:00",
          "2023-04-25T00:00:00",
          "2023-04-25T00:00:00",
          "2023-04-26T00:00:00",
          "2023-04-26T00:00:00",
          "2023-04-30T00:00:00",
          "2023-05-02T00:00:00",
          "2023-05-03T00:00:00",
          "2023-05-04T00:00:00",
          "2023-05-05T00:00:00",
          "2023-05-06T00:00:00",
          "2023-05-07T00:00:00",
          "2023-05-09T00:00:00",
          "2023-05-10T00:00:00",
          "2023-05-11T00:00:00",
          "2023-05-12T00:00:00",
          "2023-05-13T00:00:00",
          "2023-05-14T00:00:00",
          "2023-05-16T00:00:00",
          "2023-05-16T00:00:00",
          "2023-05-17T00:00:00"
         ],
         "xaxis": "x",
         "y": [
          "CH SNS ALMOND PARENT",
          "CH SNS ALMOND PARENT",
          "CH SNS ALMOND PARENT",
          "CH SNS ALMOND PARENT",
          "CH SNS PEANUT PARENT",
          "CH SNS PEANUT PARENT",
          "CH SNS PEANUT PARENT",
          "CH SNS PEANUT PARENT",
          "CH PROTEIN PB DK CHOC PARENT",
          "CH PROTEIN PB DK CHOC PARENT",
          "CH PROTEIN PB DK CHOC PARENT",
          "CH PROTEIN PB DK CHOC PARENT",
          "CH PROTEIN PB DK CHOC PARENT",
          "CH PROTEIN PB DK CHOC PARENT",
          "CH PROTEIN PB DK CHOC PARENT",
          "CH PROTEIN PB DK CHOC PARENT",
          "CH TRAIL MIX F&N PARENT",
          "CH TRAIL MIX F&N PARENT",
          "CH TRAIL MIX F&N PARENT",
          "CH TRAIL MIX F&N PARENT",
          "CH TRAIL MIX F&N PARENT",
          "CH TRAIL MIX F&N PARENT",
          "CH TRAIL MIX F&N PARENT",
          "CH TRAIL MIX F&N PARENT",
          "CH TRAIL MIX F&N PARENT",
          "CH SNS ALMOND PARENT",
          "CH SNS ALMOND PARENT",
          "CH SNS ALMOND PARENT",
          "CH SNS PEANUT PARENT",
          "CH SNS PEANUT PARENT",
          "CH SNS ALMOND PARENT",
          "CH SNS PEANUT PARENT",
          "CH SNS PEANUT PARENT",
          "CH SNS PEANUT PARENT",
          "CH SNS PEANUT PARENT",
          "CH TRAIL MIX F&N PARENT",
          "CH SNS PEANUT PARENT",
          "CH SNS PEANUT PARENT",
          "CH SNS PEANUT PARENT",
          "CH SNS PEANUT PARENT",
          "CH SNS PEANUT PARENT",
          "CH SNS ALMOND PARENT",
          "CH SNS ALMOND PARENT",
          "CH SNS ALMOND PARENT",
          "CH SNS PEANUT PARENT",
          "CH SNS PEANUT PARENT",
          "CH SNS PEANUT PARENT",
          "CH SNS PEANUT PARENT",
          "CH SNS PEANUT PARENT",
          "CH SNS PEANUT PARENT",
          "CH SNS PEANUT PARENT",
          "CH TRAIL MIX F&N PARENT",
          "CH SNS PEANUT PARENT",
          "CH SNS PEANUT PARENT",
          "CH PROTEIN PB DK CHOC PARENT",
          "CH PROTEIN PB DK CHOC PARENT",
          "CH TRAIL MIX F&N PARENT",
          "CH SNS ALMOND PARENT",
          "CH SNS ALMOND PARENT",
          "CH TRAIL MIX F&N PARENT",
          "CH SNS PEANUT PARENT",
          "CH SNS PEANUT PARENT",
          "CH SNS PEANUT PARENT",
          "CH TRAIL MIX F&N PARENT",
          "CH SNS PEANUT PARENT",
          "CH SNS PEANUT PARENT",
          "CH SNS PEANUT PARENT",
          "CH SNS PEANUT PARENT",
          "CH SNS PEANUT PARENT",
          "CH SNS PEANUT PARENT",
          "CH SNS PEANUT PARENT",
          "CH SNS PEANUT PARENT",
          "CH TRAIL MIX F&N PARENT",
          "CH TRAIL MIX F&N PARENT",
          "CH SNS ALMOND PARENT",
          "CH SNS ALMOND PARENT",
          "CH SNS ALMOND PARENT",
          "CH SNS ALMOND PARENT",
          "CH SNS ALMOND PARENT",
          "CH SNS ALMOND PARENT",
          "CH SNS CHOCOLATE PRETZEL NUT PARENT",
          "CH SNS CHOCOLATE PRETZEL NUT PARENT",
          "CH SNS ALMOND PARENT",
          "CH SNS CHOCOLATE PRETZEL NUT PARENT",
          "CH SNS PEANUT PARENT",
          "CH SNS PEANUT PARENT",
          "CH SNS PEANUT PARENT",
          "CH SNS PEANUT PARENT",
          "CH SNS PEANUT PARENT",
          "CH SNS PEANUT PARENT",
          "CH SNS PEANUT PARENT",
          "CH TRAIL MIX F&N PARENT",
          "CH TRAIL MIX F&N PARENT",
          "CH SNS PEANUT PARENT",
          "CH TRAIL MIX F&N PARENT",
          "CH TRAIL MIX F&N PARENT",
          "CH TRAIL MIX F&N PARENT",
          "CH TRAIL MIX F&N PARENT",
          "CH TRAIL MIX F&N PARENT",
          "CH TRAIL MIX F&N PARENT",
          "CH SNS ALMOND PARENT",
          "CH SNS PEANUT PARENT",
          "CH SNS PEANUT PARENT",
          "CH SNS PEANUT PARENT",
          "CH TRAIL MIX F&N PARENT",
          "CH TRAIL MIX F&N PARENT",
          "CH SNS CDA DK CHOC PEA  ALM PARENT",
          "CH SNS CDA DK CHOC PEA  ALM PARENT",
          "CH SNS CDA DK CHOC PEA  ALM PARENT",
          "CH SNS DK CHOC PEA ALM PARENT",
          "CH SNS DK CHOC PEA ALM PARENT",
          "CH SNS CHOCOLATE PRETZEL NUT PARENT",
          "CH SNS PEANUT PARENT",
          "CH TRAIL MIX F&N PARENT",
          "CH TRAIL MIX F&N PARENT",
          "CH SNS CDA DK CHOC PEA  ALM PARENT",
          "CH SNS CDA DK CHOC PEA  ALM PARENT",
          "CH SNS CDA DK CHOC PEA  ALM PARENT",
          "CH SNS DK CHOC PEA ALM PARENT",
          "CH SNS DK CHOC PEA ALM PARENT",
          "CH SNS DK CHOC PEA ALM PARENT",
          "CH SNS DK CHOC PEA ALM PARENT",
          "CH SNS PEANUT PARENT",
          "CH SNS PEANUT PARENT",
          "CH SNS PEANUT PARENT",
          "CH TRAIL MIX F&N PARENT",
          "CH TRAIL MIX F&N PARENT",
          "CH SNS DK CHOC PEA ALM PARENT",
          "CH SNS DK CHOC PEA ALM PARENT",
          "CH SNS CDA DK CHOC PEA  ALM PARENT",
          "CH SNS CDA DK CHOC PEA  ALM PARENT",
          "CH SNS CDA DK CHOC PEA  ALM PARENT",
          "CH SNS ALMOND PARENT",
          "CH SNS ALMOND PARENT",
          "CH SNS ALMOND PARENT",
          "CH SNS ALMOND PARENT",
          "CH SNS PEANUT PARENT",
          "CH SNS PEANUT PARENT",
          "CH PROTEIN PB DK CHOC PARENT",
          "CH SNS PEANUT PARENT",
          "CH PROTEIN PB DK CHOC PARENT",
          "CH PROTEIN PB DK CHOC PARENT",
          "CH TRAIL MIX F&N PARENT",
          "CH TRAIL MIX F&N PARENT",
          "CH TRAIL MIX F&N PARENT",
          "CH TRAIL MIX F&N PARENT",
          "CH SNS ALMOND PARENT",
          "CH SNS ALMOND PARENT",
          "CH SNS ALMOND PARENT",
          "CH TRAIL MIX F&N PARENT",
          "CH SNS PEANUT PARENT",
          "CH PROTEIN PB DK CHOC PARENT",
          "CH SNS ALMOND PARENT",
          "CH SNS PEANUT PARENT",
          "CH SNS ALMOND PARENT",
          "CH SNS PEANUT PARENT",
          "CH SNS PEANUT PARENT",
          "CH SNS PEANUT PARENT",
          "CH SNS PEANUT PARENT",
          "CH SNS ALMOND PARENT",
          "CH SNS ALMOND PARENT",
          "CH SNS ALMOND PARENT",
          "CH SNS ALMOND PARENT",
          "CH SNS ALMOND PARENT",
          "CH SNS PEANUT PARENT",
          "CH SNS PEANUT PARENT",
          "CH SNS PEANUT PARENT",
          "CH SNS PEANUT PARENT",
          "CH SNS PEANUT PARENT",
          "CH SNS PEANUT PARENT",
          "CH SNS PEANUT PARENT",
          "CH SNS PEANUT PARENT",
          "CH SNS PEANUT PARENT",
          "CH SNS PEANUT PARENT",
          "CH SNS ALMOND PARENT",
          "CH SNS PEANUT PARENT",
          "CH SNS PEANUT PARENT",
          "CH PROTEIN PB DK CHOC PARENT",
          "CH SNS PEANUT PARENT",
          "CH PROTEIN PB DK CHOC PARENT",
          "CH PROTEIN PB DK CHOC PARENT",
          "CH TRAIL MIX F&N PARENT",
          "CH TRAIL MIX F&N PARENT",
          "CH TRAIL MIX F&N PARENT",
          "CH SNS ALMOND PARENT",
          "CH SNS ALMOND PARENT",
          "CH SNS ALMOND PARENT",
          "CH PROTEIN PB DK CHOC PARENT",
          "CH SNS PEANUT PARENT",
          "CH SNS ALMOND PARENT",
          "CH SNS PEANUT PARENT",
          "CH SNS PEANUT PARENT",
          "CH SNS PEANUT PARENT",
          "CH SNS PEANUT PARENT",
          "CH SNS PEANUT PARENT",
          "CH TRAIL MIX F&N PARENT",
          "CH TRAIL MIX F&N PARENT",
          "CH TRAIL MIX F&N PARENT",
          "CH TRAIL MIX F&N PARENT",
          "CH TRAIL MIX F&N PARENT",
          "CH SNS CHOCOLATE PRETZEL NUT PARENT",
          "CH SNS PEANUT PARENT",
          "CH SNS PEANUT PARENT",
          "CH SNS PEANUT PARENT",
          "CH SNS PEANUT PARENT",
          "CH SNS PEANUT PARENT",
          "CH SNS PEANUT PARENT",
          "CH TRAIL MIX F&N PARENT",
          "CH TRAIL MIX F&N PARENT",
          "CH SNS PEANUT PARENT",
          "CH TRAIL MIX F&N PARENT",
          "CH SNS ALMOND PARENT",
          "CH SNS ALMOND PARENT",
          "CH SNS ALMOND PARENT",
          "CH SNS CHOCOLATE PRETZEL NUT PARENT",
          "CH SNS CHOCOLATE PRETZEL NUT PARENT",
          "CH SNS CHOCOLATE PRETZEL NUT PARENT",
          "CH SNS PEANUT PARENT",
          "CH TRAIL MIX F&N PARENT",
          "CH SNS ALMOND PARENT",
          "CH SNS PEANUT PARENT",
          "CH SNS PEANUT PARENT",
          "CH SNS PEANUT PARENT",
          "CH SNS PEANUT PARENT",
          "CH TRAIL MIX F&N PARENT",
          "CH SNS CDA DK CHOC PEA  ALM PARENT",
          "CH SNS DK CHOC PEA ALM PARENT",
          "CH SNS DK CHOC PEA ALM PARENT",
          "CH SNS DK CHOC PEA ALM PARENT",
          "CH SNS DK CHOC PEA ALM PARENT",
          "CH SNS CHOCOLATE PRETZEL NUT PARENT",
          "CH SNS CHOCOLATE PRETZEL NUT PARENT",
          "CH SNS PEANUT PARENT",
          "CH SNS PEANUT PARENT",
          "CH TRAIL MIX F&N PARENT",
          "CH TRAIL MIX F&N PARENT",
          "CH TRAIL MIX F&N PARENT",
          "CH TRAIL MIX F&N PARENT",
          "CH SNS CDA DK CHOC PEA  ALM PARENT",
          "CH SNS CDA DK CHOC PEA  ALM PARENT",
          "CH SNS CDA DK CHOC PEA  ALM PARENT",
          "CH SNS DK CHOC PEA ALM PARENT",
          "CH SNS DK CHOC PEA ALM PARENT",
          "CH SNS CDA DK CHOC PEA  ALM PARENT",
          "CH SNS DK CHOC PEA ALM PARENT",
          "CH SNS DK CHOC PEA ALM PARENT",
          "CH SNS DK CHOC PEA ALM PARENT",
          "CH SNS PEANUT PARENT",
          "CH SNS PEANUT PARENT",
          "CH SNS PEANUT PARENT",
          "CH SNS PEANUT PARENT",
          "CH TRAIL MIX F&N PARENT",
          "CH SNS CDA DK CHOC PEA  ALM PARENT",
          "CH TRAIL MIX F&N PARENT",
          "CH SNS PEANUT PARENT",
          "CH TRAIL MIX F&N PARENT",
          "CH SNS DK CHOC PEA ALM PARENT",
          "CH SNS DK CHOC PEA ALM PARENT",
          "CH SNS DK CHOC PEA ALM PARENT",
          "CH SNS DK CHOC PEA ALM PARENT",
          "CH SNS DK CHOC PEA ALM PARENT",
          "CH SNS DK CHOC PEA ALM PARENT",
          "CH SNS DK CHOC PEA ALM PARENT",
          "CH SNS DK CHOC PEA ALM PARENT",
          "CH SNS DK CHOC PEA ALM PARENT",
          "CH SNS DK CHOC PEA ALM PARENT",
          "CH SNS DK CHOC PEA ALM PARENT",
          "CH SNS DK CHOC PEA ALM PARENT",
          "CH SNS DK CHOC PEA ALM PARENT",
          "CH SNS CDA DK CHOC PEA  ALM PARENT",
          "CH SNS DK CHOC PEA ALM PARENT",
          "CH SNS CDA DK CHOC PEA  ALM PARENT"
         ],
         "yaxis": "y"
        }
       ],
       "layout": {
        "legend": {
         "tracegroupgap": 0
        },
        "template": {
         "data": {
          "bar": [
           {
            "error_x": {
             "color": "#2a3f5f"
            },
            "error_y": {
             "color": "#2a3f5f"
            },
            "marker": {
             "line": {
              "color": "#E5ECF6",
              "width": 0.5
             },
             "pattern": {
              "fillmode": "overlay",
              "size": 10,
              "solidity": 0.2
             }
            },
            "type": "bar"
           }
          ],
          "barpolar": [
           {
            "marker": {
             "line": {
              "color": "#E5ECF6",
              "width": 0.5
             },
             "pattern": {
              "fillmode": "overlay",
              "size": 10,
              "solidity": 0.2
             }
            },
            "type": "barpolar"
           }
          ],
          "carpet": [
           {
            "aaxis": {
             "endlinecolor": "#2a3f5f",
             "gridcolor": "white",
             "linecolor": "white",
             "minorgridcolor": "white",
             "startlinecolor": "#2a3f5f"
            },
            "baxis": {
             "endlinecolor": "#2a3f5f",
             "gridcolor": "white",
             "linecolor": "white",
             "minorgridcolor": "white",
             "startlinecolor": "#2a3f5f"
            },
            "type": "carpet"
           }
          ],
          "choropleth": [
           {
            "colorbar": {
             "outlinewidth": 0,
             "ticks": ""
            },
            "type": "choropleth"
           }
          ],
          "contour": [
           {
            "colorbar": {
             "outlinewidth": 0,
             "ticks": ""
            },
            "colorscale": [
             [
              0,
              "#0d0887"
             ],
             [
              0.1111111111111111,
              "#46039f"
             ],
             [
              0.2222222222222222,
              "#7201a8"
             ],
             [
              0.3333333333333333,
              "#9c179e"
             ],
             [
              0.4444444444444444,
              "#bd3786"
             ],
             [
              0.5555555555555556,
              "#d8576b"
             ],
             [
              0.6666666666666666,
              "#ed7953"
             ],
             [
              0.7777777777777778,
              "#fb9f3a"
             ],
             [
              0.8888888888888888,
              "#fdca26"
             ],
             [
              1,
              "#f0f921"
             ]
            ],
            "type": "contour"
           }
          ],
          "contourcarpet": [
           {
            "colorbar": {
             "outlinewidth": 0,
             "ticks": ""
            },
            "type": "contourcarpet"
           }
          ],
          "heatmap": [
           {
            "colorbar": {
             "outlinewidth": 0,
             "ticks": ""
            },
            "colorscale": [
             [
              0,
              "#0d0887"
             ],
             [
              0.1111111111111111,
              "#46039f"
             ],
             [
              0.2222222222222222,
              "#7201a8"
             ],
             [
              0.3333333333333333,
              "#9c179e"
             ],
             [
              0.4444444444444444,
              "#bd3786"
             ],
             [
              0.5555555555555556,
              "#d8576b"
             ],
             [
              0.6666666666666666,
              "#ed7953"
             ],
             [
              0.7777777777777778,
              "#fb9f3a"
             ],
             [
              0.8888888888888888,
              "#fdca26"
             ],
             [
              1,
              "#f0f921"
             ]
            ],
            "type": "heatmap"
           }
          ],
          "heatmapgl": [
           {
            "colorbar": {
             "outlinewidth": 0,
             "ticks": ""
            },
            "colorscale": [
             [
              0,
              "#0d0887"
             ],
             [
              0.1111111111111111,
              "#46039f"
             ],
             [
              0.2222222222222222,
              "#7201a8"
             ],
             [
              0.3333333333333333,
              "#9c179e"
             ],
             [
              0.4444444444444444,
              "#bd3786"
             ],
             [
              0.5555555555555556,
              "#d8576b"
             ],
             [
              0.6666666666666666,
              "#ed7953"
             ],
             [
              0.7777777777777778,
              "#fb9f3a"
             ],
             [
              0.8888888888888888,
              "#fdca26"
             ],
             [
              1,
              "#f0f921"
             ]
            ],
            "type": "heatmapgl"
           }
          ],
          "histogram": [
           {
            "marker": {
             "pattern": {
              "fillmode": "overlay",
              "size": 10,
              "solidity": 0.2
             }
            },
            "type": "histogram"
           }
          ],
          "histogram2d": [
           {
            "colorbar": {
             "outlinewidth": 0,
             "ticks": ""
            },
            "colorscale": [
             [
              0,
              "#0d0887"
             ],
             [
              0.1111111111111111,
              "#46039f"
             ],
             [
              0.2222222222222222,
              "#7201a8"
             ],
             [
              0.3333333333333333,
              "#9c179e"
             ],
             [
              0.4444444444444444,
              "#bd3786"
             ],
             [
              0.5555555555555556,
              "#d8576b"
             ],
             [
              0.6666666666666666,
              "#ed7953"
             ],
             [
              0.7777777777777778,
              "#fb9f3a"
             ],
             [
              0.8888888888888888,
              "#fdca26"
             ],
             [
              1,
              "#f0f921"
             ]
            ],
            "type": "histogram2d"
           }
          ],
          "histogram2dcontour": [
           {
            "colorbar": {
             "outlinewidth": 0,
             "ticks": ""
            },
            "colorscale": [
             [
              0,
              "#0d0887"
             ],
             [
              0.1111111111111111,
              "#46039f"
             ],
             [
              0.2222222222222222,
              "#7201a8"
             ],
             [
              0.3333333333333333,
              "#9c179e"
             ],
             [
              0.4444444444444444,
              "#bd3786"
             ],
             [
              0.5555555555555556,
              "#d8576b"
             ],
             [
              0.6666666666666666,
              "#ed7953"
             ],
             [
              0.7777777777777778,
              "#fb9f3a"
             ],
             [
              0.8888888888888888,
              "#fdca26"
             ],
             [
              1,
              "#f0f921"
             ]
            ],
            "type": "histogram2dcontour"
           }
          ],
          "mesh3d": [
           {
            "colorbar": {
             "outlinewidth": 0,
             "ticks": ""
            },
            "type": "mesh3d"
           }
          ],
          "parcoords": [
           {
            "line": {
             "colorbar": {
              "outlinewidth": 0,
              "ticks": ""
             }
            },
            "type": "parcoords"
           }
          ],
          "pie": [
           {
            "automargin": true,
            "type": "pie"
           }
          ],
          "scatter": [
           {
            "fillpattern": {
             "fillmode": "overlay",
             "size": 10,
             "solidity": 0.2
            },
            "type": "scatter"
           }
          ],
          "scatter3d": [
           {
            "line": {
             "colorbar": {
              "outlinewidth": 0,
              "ticks": ""
             }
            },
            "marker": {
             "colorbar": {
              "outlinewidth": 0,
              "ticks": ""
             }
            },
            "type": "scatter3d"
           }
          ],
          "scattercarpet": [
           {
            "marker": {
             "colorbar": {
              "outlinewidth": 0,
              "ticks": ""
             }
            },
            "type": "scattercarpet"
           }
          ],
          "scattergeo": [
           {
            "marker": {
             "colorbar": {
              "outlinewidth": 0,
              "ticks": ""
             }
            },
            "type": "scattergeo"
           }
          ],
          "scattergl": [
           {
            "marker": {
             "colorbar": {
              "outlinewidth": 0,
              "ticks": ""
             }
            },
            "type": "scattergl"
           }
          ],
          "scattermapbox": [
           {
            "marker": {
             "colorbar": {
              "outlinewidth": 0,
              "ticks": ""
             }
            },
            "type": "scattermapbox"
           }
          ],
          "scatterpolar": [
           {
            "marker": {
             "colorbar": {
              "outlinewidth": 0,
              "ticks": ""
             }
            },
            "type": "scatterpolar"
           }
          ],
          "scatterpolargl": [
           {
            "marker": {
             "colorbar": {
              "outlinewidth": 0,
              "ticks": ""
             }
            },
            "type": "scatterpolargl"
           }
          ],
          "scatterternary": [
           {
            "marker": {
             "colorbar": {
              "outlinewidth": 0,
              "ticks": ""
             }
            },
            "type": "scatterternary"
           }
          ],
          "surface": [
           {
            "colorbar": {
             "outlinewidth": 0,
             "ticks": ""
            },
            "colorscale": [
             [
              0,
              "#0d0887"
             ],
             [
              0.1111111111111111,
              "#46039f"
             ],
             [
              0.2222222222222222,
              "#7201a8"
             ],
             [
              0.3333333333333333,
              "#9c179e"
             ],
             [
              0.4444444444444444,
              "#bd3786"
             ],
             [
              0.5555555555555556,
              "#d8576b"
             ],
             [
              0.6666666666666666,
              "#ed7953"
             ],
             [
              0.7777777777777778,
              "#fb9f3a"
             ],
             [
              0.8888888888888888,
              "#fdca26"
             ],
             [
              1,
              "#f0f921"
             ]
            ],
            "type": "surface"
           }
          ],
          "table": [
           {
            "cells": {
             "fill": {
              "color": "#EBF0F8"
             },
             "line": {
              "color": "white"
             }
            },
            "header": {
             "fill": {
              "color": "#C8D4E3"
             },
             "line": {
              "color": "white"
             }
            },
            "type": "table"
           }
          ]
         },
         "layout": {
          "annotationdefaults": {
           "arrowcolor": "#2a3f5f",
           "arrowhead": 0,
           "arrowwidth": 1
          },
          "autotypenumbers": "strict",
          "coloraxis": {
           "colorbar": {
            "outlinewidth": 0,
            "ticks": ""
           }
          },
          "colorscale": {
           "diverging": [
            [
             0,
             "#8e0152"
            ],
            [
             0.1,
             "#c51b7d"
            ],
            [
             0.2,
             "#de77ae"
            ],
            [
             0.3,
             "#f1b6da"
            ],
            [
             0.4,
             "#fde0ef"
            ],
            [
             0.5,
             "#f7f7f7"
            ],
            [
             0.6,
             "#e6f5d0"
            ],
            [
             0.7,
             "#b8e186"
            ],
            [
             0.8,
             "#7fbc41"
            ],
            [
             0.9,
             "#4d9221"
            ],
            [
             1,
             "#276419"
            ]
           ],
           "sequential": [
            [
             0,
             "#0d0887"
            ],
            [
             0.1111111111111111,
             "#46039f"
            ],
            [
             0.2222222222222222,
             "#7201a8"
            ],
            [
             0.3333333333333333,
             "#9c179e"
            ],
            [
             0.4444444444444444,
             "#bd3786"
            ],
            [
             0.5555555555555556,
             "#d8576b"
            ],
            [
             0.6666666666666666,
             "#ed7953"
            ],
            [
             0.7777777777777778,
             "#fb9f3a"
            ],
            [
             0.8888888888888888,
             "#fdca26"
            ],
            [
             1,
             "#f0f921"
            ]
           ],
           "sequentialminus": [
            [
             0,
             "#0d0887"
            ],
            [
             0.1111111111111111,
             "#46039f"
            ],
            [
             0.2222222222222222,
             "#7201a8"
            ],
            [
             0.3333333333333333,
             "#9c179e"
            ],
            [
             0.4444444444444444,
             "#bd3786"
            ],
            [
             0.5555555555555556,
             "#d8576b"
            ],
            [
             0.6666666666666666,
             "#ed7953"
            ],
            [
             0.7777777777777778,
             "#fb9f3a"
            ],
            [
             0.8888888888888888,
             "#fdca26"
            ],
            [
             1,
             "#f0f921"
            ]
           ]
          },
          "colorway": [
           "#636efa",
           "#EF553B",
           "#00cc96",
           "#ab63fa",
           "#FFA15A",
           "#19d3f3",
           "#FF6692",
           "#B6E880",
           "#FF97FF",
           "#FECB52"
          ],
          "font": {
           "color": "#2a3f5f"
          },
          "geo": {
           "bgcolor": "white",
           "lakecolor": "white",
           "landcolor": "#E5ECF6",
           "showlakes": true,
           "showland": true,
           "subunitcolor": "white"
          },
          "hoverlabel": {
           "align": "left"
          },
          "hovermode": "closest",
          "mapbox": {
           "style": "light"
          },
          "paper_bgcolor": "white",
          "plot_bgcolor": "#E5ECF6",
          "polar": {
           "angularaxis": {
            "gridcolor": "white",
            "linecolor": "white",
            "ticks": ""
           },
           "bgcolor": "#E5ECF6",
           "radialaxis": {
            "gridcolor": "white",
            "linecolor": "white",
            "ticks": ""
           }
          },
          "scene": {
           "xaxis": {
            "backgroundcolor": "#E5ECF6",
            "gridcolor": "white",
            "gridwidth": 2,
            "linecolor": "white",
            "showbackground": true,
            "ticks": "",
            "zerolinecolor": "white"
           },
           "yaxis": {
            "backgroundcolor": "#E5ECF6",
            "gridcolor": "white",
            "gridwidth": 2,
            "linecolor": "white",
            "showbackground": true,
            "ticks": "",
            "zerolinecolor": "white"
           },
           "zaxis": {
            "backgroundcolor": "#E5ECF6",
            "gridcolor": "white",
            "gridwidth": 2,
            "linecolor": "white",
            "showbackground": true,
            "ticks": "",
            "zerolinecolor": "white"
           }
          },
          "shapedefaults": {
           "line": {
            "color": "#2a3f5f"
           }
          },
          "ternary": {
           "aaxis": {
            "gridcolor": "white",
            "linecolor": "white",
            "ticks": ""
           },
           "baxis": {
            "gridcolor": "white",
            "linecolor": "white",
            "ticks": ""
           },
           "bgcolor": "#E5ECF6",
           "caxis": {
            "gridcolor": "white",
            "linecolor": "white",
            "ticks": ""
           }
          },
          "title": {
           "x": 0.05
          },
          "xaxis": {
           "automargin": true,
           "gridcolor": "white",
           "linecolor": "white",
           "ticks": "",
           "title": {
            "standoff": 15
           },
           "zerolinecolor": "white",
           "zerolinewidth": 2
          },
          "yaxis": {
           "automargin": true,
           "gridcolor": "white",
           "linecolor": "white",
           "ticks": "",
           "title": {
            "standoff": 15
           },
           "zerolinecolor": "white",
           "zerolinewidth": 2
          }
         }
        },
        "title": {
         "text": "Production Status by Day (Actual)"
        },
        "xaxis": {
         "anchor": "y",
         "domain": [
          0,
          1
         ],
         "title": {
          "text": "date"
         }
        },
        "yaxis": {
         "anchor": "x",
         "domain": [
          0,
          1
         ],
         "title": {
          "text": "active_product"
         }
        }
       }
      }
     },
     "metadata": {},
     "output_type": "display_data"
    }
   ],
   "source": [
    "df = data_act_production.with_columns(\n",
    "    pl.when(pl.col(\"actual_production_ea\") > 0).then(pl.col(\"product_name\")).otherwise(None).alias(\"active_product\")\n",
    ").drop_nulls()\n",
    "fig = px.scatter(df,x = \"date\", y = \"active_product\", title = \"Production Status by Day (Actual)\")\n",
    "fig"
   ]
  },
  {
   "cell_type": "code",
   "execution_count": 17,
   "metadata": {},
   "outputs": [
    {
     "data": {
      "application/vnd.plotly.v1+json": {
       "config": {
        "plotlyServerURL": "https://plot.ly"
       },
       "data": [
        {
         "name": "Run Length in Days (Model)",
         "text": [
          1.3,
          2.4,
          4.3,
          11.5,
          1.9,
          1,
          1.2
         ],
         "type": "bar",
         "x": [
          "CH SNS CHOCOLATE PRETZEL NUT PARENT",
          "CH SNS ALMOND PARENT",
          "CH TRAIL MIX F&N PARENT",
          "CH SNS PEANUT PARENT",
          "CH SNS DK CHOC PEA ALM PARENT",
          "CH SNS CDA DK CHOC PEA  ALM PARENT",
          "CH PROTEIN PB DK CHOC PARENT"
         ],
         "y": [
          1.3,
          2.4,
          4.3,
          11.5,
          1.9,
          1,
          1.2
         ]
        },
        {
         "name": "Run Length in Days (Actual)",
         "text": [
          3.3,
          3.1,
          3.4,
          6.1,
          5.2,
          2.8,
          3.6
         ],
         "type": "bar",
         "x": [
          "CH SNS CHOCOLATE PRETZEL NUT PARENT",
          "CH SNS ALMOND PARENT",
          "CH TRAIL MIX F&N PARENT",
          "CH SNS PEANUT PARENT",
          "CH SNS DK CHOC PEA ALM PARENT",
          "CH SNS CDA DK CHOC PEA  ALM PARENT",
          "CH PROTEIN PB DK CHOC PARENT"
         ],
         "y": [
          3.3,
          3.1,
          3.4,
          6.1,
          5.2,
          2.8,
          3.6
         ]
        },
        {
         "name": "Mean Cycle Time in Days (Model)",
         "text": [
          40.8,
          25.3,
          44.1,
          20,
          31.8,
          83,
          26.8
         ],
         "type": "bar",
         "x": [
          "CH SNS CHOCOLATE PRETZEL NUT PARENT",
          "CH SNS ALMOND PARENT",
          "CH TRAIL MIX F&N PARENT",
          "CH SNS PEANUT PARENT",
          "CH SNS DK CHOC PEA ALM PARENT",
          "CH SNS CDA DK CHOC PEA  ALM PARENT",
          "CH PROTEIN PB DK CHOC PARENT"
         ],
         "y": [
          40.8,
          25.3,
          44.1,
          20,
          31.8,
          83,
          26.8
         ]
        },
        {
         "name": "Mean Cycle Time in Days (Actual)",
         "text": [
          88.5,
          22.9,
          18.2,
          15.7,
          47.6,
          49.6,
          57.7
         ],
         "type": "bar",
         "x": [
          "CH SNS CHOCOLATE PRETZEL NUT PARENT",
          "CH SNS ALMOND PARENT",
          "CH TRAIL MIX F&N PARENT",
          "CH SNS PEANUT PARENT",
          "CH SNS DK CHOC PEA ALM PARENT",
          "CH SNS CDA DK CHOC PEA  ALM PARENT",
          "CH PROTEIN PB DK CHOC PARENT"
         ],
         "y": [
          88.5,
          22.9,
          18.2,
          15.7,
          47.6,
          49.6,
          57.7
         ]
        }
       ],
       "layout": {
        "barmode": "group",
        "template": {
         "data": {
          "bar": [
           {
            "error_x": {
             "color": "#2a3f5f"
            },
            "error_y": {
             "color": "#2a3f5f"
            },
            "marker": {
             "line": {
              "color": "#E5ECF6",
              "width": 0.5
             },
             "pattern": {
              "fillmode": "overlay",
              "size": 10,
              "solidity": 0.2
             }
            },
            "type": "bar"
           }
          ],
          "barpolar": [
           {
            "marker": {
             "line": {
              "color": "#E5ECF6",
              "width": 0.5
             },
             "pattern": {
              "fillmode": "overlay",
              "size": 10,
              "solidity": 0.2
             }
            },
            "type": "barpolar"
           }
          ],
          "carpet": [
           {
            "aaxis": {
             "endlinecolor": "#2a3f5f",
             "gridcolor": "white",
             "linecolor": "white",
             "minorgridcolor": "white",
             "startlinecolor": "#2a3f5f"
            },
            "baxis": {
             "endlinecolor": "#2a3f5f",
             "gridcolor": "white",
             "linecolor": "white",
             "minorgridcolor": "white",
             "startlinecolor": "#2a3f5f"
            },
            "type": "carpet"
           }
          ],
          "choropleth": [
           {
            "colorbar": {
             "outlinewidth": 0,
             "ticks": ""
            },
            "type": "choropleth"
           }
          ],
          "contour": [
           {
            "colorbar": {
             "outlinewidth": 0,
             "ticks": ""
            },
            "colorscale": [
             [
              0,
              "#0d0887"
             ],
             [
              0.1111111111111111,
              "#46039f"
             ],
             [
              0.2222222222222222,
              "#7201a8"
             ],
             [
              0.3333333333333333,
              "#9c179e"
             ],
             [
              0.4444444444444444,
              "#bd3786"
             ],
             [
              0.5555555555555556,
              "#d8576b"
             ],
             [
              0.6666666666666666,
              "#ed7953"
             ],
             [
              0.7777777777777778,
              "#fb9f3a"
             ],
             [
              0.8888888888888888,
              "#fdca26"
             ],
             [
              1,
              "#f0f921"
             ]
            ],
            "type": "contour"
           }
          ],
          "contourcarpet": [
           {
            "colorbar": {
             "outlinewidth": 0,
             "ticks": ""
            },
            "type": "contourcarpet"
           }
          ],
          "heatmap": [
           {
            "colorbar": {
             "outlinewidth": 0,
             "ticks": ""
            },
            "colorscale": [
             [
              0,
              "#0d0887"
             ],
             [
              0.1111111111111111,
              "#46039f"
             ],
             [
              0.2222222222222222,
              "#7201a8"
             ],
             [
              0.3333333333333333,
              "#9c179e"
             ],
             [
              0.4444444444444444,
              "#bd3786"
             ],
             [
              0.5555555555555556,
              "#d8576b"
             ],
             [
              0.6666666666666666,
              "#ed7953"
             ],
             [
              0.7777777777777778,
              "#fb9f3a"
             ],
             [
              0.8888888888888888,
              "#fdca26"
             ],
             [
              1,
              "#f0f921"
             ]
            ],
            "type": "heatmap"
           }
          ],
          "heatmapgl": [
           {
            "colorbar": {
             "outlinewidth": 0,
             "ticks": ""
            },
            "colorscale": [
             [
              0,
              "#0d0887"
             ],
             [
              0.1111111111111111,
              "#46039f"
             ],
             [
              0.2222222222222222,
              "#7201a8"
             ],
             [
              0.3333333333333333,
              "#9c179e"
             ],
             [
              0.4444444444444444,
              "#bd3786"
             ],
             [
              0.5555555555555556,
              "#d8576b"
             ],
             [
              0.6666666666666666,
              "#ed7953"
             ],
             [
              0.7777777777777778,
              "#fb9f3a"
             ],
             [
              0.8888888888888888,
              "#fdca26"
             ],
             [
              1,
              "#f0f921"
             ]
            ],
            "type": "heatmapgl"
           }
          ],
          "histogram": [
           {
            "marker": {
             "pattern": {
              "fillmode": "overlay",
              "size": 10,
              "solidity": 0.2
             }
            },
            "type": "histogram"
           }
          ],
          "histogram2d": [
           {
            "colorbar": {
             "outlinewidth": 0,
             "ticks": ""
            },
            "colorscale": [
             [
              0,
              "#0d0887"
             ],
             [
              0.1111111111111111,
              "#46039f"
             ],
             [
              0.2222222222222222,
              "#7201a8"
             ],
             [
              0.3333333333333333,
              "#9c179e"
             ],
             [
              0.4444444444444444,
              "#bd3786"
             ],
             [
              0.5555555555555556,
              "#d8576b"
             ],
             [
              0.6666666666666666,
              "#ed7953"
             ],
             [
              0.7777777777777778,
              "#fb9f3a"
             ],
             [
              0.8888888888888888,
              "#fdca26"
             ],
             [
              1,
              "#f0f921"
             ]
            ],
            "type": "histogram2d"
           }
          ],
          "histogram2dcontour": [
           {
            "colorbar": {
             "outlinewidth": 0,
             "ticks": ""
            },
            "colorscale": [
             [
              0,
              "#0d0887"
             ],
             [
              0.1111111111111111,
              "#46039f"
             ],
             [
              0.2222222222222222,
              "#7201a8"
             ],
             [
              0.3333333333333333,
              "#9c179e"
             ],
             [
              0.4444444444444444,
              "#bd3786"
             ],
             [
              0.5555555555555556,
              "#d8576b"
             ],
             [
              0.6666666666666666,
              "#ed7953"
             ],
             [
              0.7777777777777778,
              "#fb9f3a"
             ],
             [
              0.8888888888888888,
              "#fdca26"
             ],
             [
              1,
              "#f0f921"
             ]
            ],
            "type": "histogram2dcontour"
           }
          ],
          "mesh3d": [
           {
            "colorbar": {
             "outlinewidth": 0,
             "ticks": ""
            },
            "type": "mesh3d"
           }
          ],
          "parcoords": [
           {
            "line": {
             "colorbar": {
              "outlinewidth": 0,
              "ticks": ""
             }
            },
            "type": "parcoords"
           }
          ],
          "pie": [
           {
            "automargin": true,
            "type": "pie"
           }
          ],
          "scatter": [
           {
            "fillpattern": {
             "fillmode": "overlay",
             "size": 10,
             "solidity": 0.2
            },
            "type": "scatter"
           }
          ],
          "scatter3d": [
           {
            "line": {
             "colorbar": {
              "outlinewidth": 0,
              "ticks": ""
             }
            },
            "marker": {
             "colorbar": {
              "outlinewidth": 0,
              "ticks": ""
             }
            },
            "type": "scatter3d"
           }
          ],
          "scattercarpet": [
           {
            "marker": {
             "colorbar": {
              "outlinewidth": 0,
              "ticks": ""
             }
            },
            "type": "scattercarpet"
           }
          ],
          "scattergeo": [
           {
            "marker": {
             "colorbar": {
              "outlinewidth": 0,
              "ticks": ""
             }
            },
            "type": "scattergeo"
           }
          ],
          "scattergl": [
           {
            "marker": {
             "colorbar": {
              "outlinewidth": 0,
              "ticks": ""
             }
            },
            "type": "scattergl"
           }
          ],
          "scattermapbox": [
           {
            "marker": {
             "colorbar": {
              "outlinewidth": 0,
              "ticks": ""
             }
            },
            "type": "scattermapbox"
           }
          ],
          "scatterpolar": [
           {
            "marker": {
             "colorbar": {
              "outlinewidth": 0,
              "ticks": ""
             }
            },
            "type": "scatterpolar"
           }
          ],
          "scatterpolargl": [
           {
            "marker": {
             "colorbar": {
              "outlinewidth": 0,
              "ticks": ""
             }
            },
            "type": "scatterpolargl"
           }
          ],
          "scatterternary": [
           {
            "marker": {
             "colorbar": {
              "outlinewidth": 0,
              "ticks": ""
             }
            },
            "type": "scatterternary"
           }
          ],
          "surface": [
           {
            "colorbar": {
             "outlinewidth": 0,
             "ticks": ""
            },
            "colorscale": [
             [
              0,
              "#0d0887"
             ],
             [
              0.1111111111111111,
              "#46039f"
             ],
             [
              0.2222222222222222,
              "#7201a8"
             ],
             [
              0.3333333333333333,
              "#9c179e"
             ],
             [
              0.4444444444444444,
              "#bd3786"
             ],
             [
              0.5555555555555556,
              "#d8576b"
             ],
             [
              0.6666666666666666,
              "#ed7953"
             ],
             [
              0.7777777777777778,
              "#fb9f3a"
             ],
             [
              0.8888888888888888,
              "#fdca26"
             ],
             [
              1,
              "#f0f921"
             ]
            ],
            "type": "surface"
           }
          ],
          "table": [
           {
            "cells": {
             "fill": {
              "color": "#EBF0F8"
             },
             "line": {
              "color": "white"
             }
            },
            "header": {
             "fill": {
              "color": "#C8D4E3"
             },
             "line": {
              "color": "white"
             }
            },
            "type": "table"
           }
          ]
         },
         "layout": {
          "annotationdefaults": {
           "arrowcolor": "#2a3f5f",
           "arrowhead": 0,
           "arrowwidth": 1
          },
          "autotypenumbers": "strict",
          "coloraxis": {
           "colorbar": {
            "outlinewidth": 0,
            "ticks": ""
           }
          },
          "colorscale": {
           "diverging": [
            [
             0,
             "#8e0152"
            ],
            [
             0.1,
             "#c51b7d"
            ],
            [
             0.2,
             "#de77ae"
            ],
            [
             0.3,
             "#f1b6da"
            ],
            [
             0.4,
             "#fde0ef"
            ],
            [
             0.5,
             "#f7f7f7"
            ],
            [
             0.6,
             "#e6f5d0"
            ],
            [
             0.7,
             "#b8e186"
            ],
            [
             0.8,
             "#7fbc41"
            ],
            [
             0.9,
             "#4d9221"
            ],
            [
             1,
             "#276419"
            ]
           ],
           "sequential": [
            [
             0,
             "#0d0887"
            ],
            [
             0.1111111111111111,
             "#46039f"
            ],
            [
             0.2222222222222222,
             "#7201a8"
            ],
            [
             0.3333333333333333,
             "#9c179e"
            ],
            [
             0.4444444444444444,
             "#bd3786"
            ],
            [
             0.5555555555555556,
             "#d8576b"
            ],
            [
             0.6666666666666666,
             "#ed7953"
            ],
            [
             0.7777777777777778,
             "#fb9f3a"
            ],
            [
             0.8888888888888888,
             "#fdca26"
            ],
            [
             1,
             "#f0f921"
            ]
           ],
           "sequentialminus": [
            [
             0,
             "#0d0887"
            ],
            [
             0.1111111111111111,
             "#46039f"
            ],
            [
             0.2222222222222222,
             "#7201a8"
            ],
            [
             0.3333333333333333,
             "#9c179e"
            ],
            [
             0.4444444444444444,
             "#bd3786"
            ],
            [
             0.5555555555555556,
             "#d8576b"
            ],
            [
             0.6666666666666666,
             "#ed7953"
            ],
            [
             0.7777777777777778,
             "#fb9f3a"
            ],
            [
             0.8888888888888888,
             "#fdca26"
            ],
            [
             1,
             "#f0f921"
            ]
           ]
          },
          "colorway": [
           "#636efa",
           "#EF553B",
           "#00cc96",
           "#ab63fa",
           "#FFA15A",
           "#19d3f3",
           "#FF6692",
           "#B6E880",
           "#FF97FF",
           "#FECB52"
          ],
          "font": {
           "color": "#2a3f5f"
          },
          "geo": {
           "bgcolor": "white",
           "lakecolor": "white",
           "landcolor": "#E5ECF6",
           "showlakes": true,
           "showland": true,
           "subunitcolor": "white"
          },
          "hoverlabel": {
           "align": "left"
          },
          "hovermode": "closest",
          "mapbox": {
           "style": "light"
          },
          "paper_bgcolor": "white",
          "plot_bgcolor": "#E5ECF6",
          "polar": {
           "angularaxis": {
            "gridcolor": "white",
            "linecolor": "white",
            "ticks": ""
           },
           "bgcolor": "#E5ECF6",
           "radialaxis": {
            "gridcolor": "white",
            "linecolor": "white",
            "ticks": ""
           }
          },
          "scene": {
           "xaxis": {
            "backgroundcolor": "#E5ECF6",
            "gridcolor": "white",
            "gridwidth": 2,
            "linecolor": "white",
            "showbackground": true,
            "ticks": "",
            "zerolinecolor": "white"
           },
           "yaxis": {
            "backgroundcolor": "#E5ECF6",
            "gridcolor": "white",
            "gridwidth": 2,
            "linecolor": "white",
            "showbackground": true,
            "ticks": "",
            "zerolinecolor": "white"
           },
           "zaxis": {
            "backgroundcolor": "#E5ECF6",
            "gridcolor": "white",
            "gridwidth": 2,
            "linecolor": "white",
            "showbackground": true,
            "ticks": "",
            "zerolinecolor": "white"
           }
          },
          "shapedefaults": {
           "line": {
            "color": "#2a3f5f"
           }
          },
          "ternary": {
           "aaxis": {
            "gridcolor": "white",
            "linecolor": "white",
            "ticks": ""
           },
           "baxis": {
            "gridcolor": "white",
            "linecolor": "white",
            "ticks": ""
           },
           "bgcolor": "#E5ECF6",
           "caxis": {
            "gridcolor": "white",
            "linecolor": "white",
            "ticks": ""
           }
          },
          "title": {
           "x": 0.05
          },
          "xaxis": {
           "automargin": true,
           "gridcolor": "white",
           "linecolor": "white",
           "ticks": "",
           "title": {
            "standoff": 15
           },
           "zerolinecolor": "white",
           "zerolinewidth": 2
          },
          "yaxis": {
           "automargin": true,
           "gridcolor": "white",
           "linecolor": "white",
           "ticks": "",
           "title": {
            "standoff": 15
           },
           "zerolinecolor": "white",
           "zerolinewidth": 2
          }
         }
        }
       }
      }
     },
     "metadata": {},
     "output_type": "display_data"
    }
   ],
   "source": [
    "fig = go.Figure(data=[\n",
    "    go.Bar(\n",
    "        name='Run Length in Days (Model)', \n",
    "        x = df_run_length_cycle_time[\"product_name\"], \n",
    "        y = df_run_length_cycle_time[\"mean_run_length_model\"],\n",
    "        text = df_run_length_cycle_time[\"mean_run_length_model\"]\n",
    "    ),\n",
    "    go.Bar(\n",
    "        name='Run Length in Days (Actual)', \n",
    "        x = df_run_length_cycle_time[\"product_name\"], \n",
    "        y = df_run_length_cycle_time[\"mean_run_length_actual\"],\n",
    "        text = df_run_length_cycle_time[\"mean_run_length_actual\"]\n",
    "    ),\n",
    "    go.Bar(\n",
    "        name='Mean Cycle Time in Days (Model)', \n",
    "        x = df_run_length_cycle_time[\"product_name\"], \n",
    "        y = df_run_length_cycle_time[\"mean_cycle_days_model\"],\n",
    "        text = df_run_length_cycle_time[\"mean_cycle_days_model\"]\n",
    "    ),\n",
    "    go.Bar(\n",
    "        name='Mean Cycle Time in Days (Actual)', \n",
    "        x = df_run_length_cycle_time[\"product_name\"], \n",
    "        y = df_run_length_cycle_time[\"mean_cycle_days_actual\"],\n",
    "        text = df_run_length_cycle_time[\"mean_cycle_days_actual\"]\n",
    "    )\n",
    "])\n",
    "# Change the bar mode\n",
    "fig.update_layout(barmode='group')\n",
    "fig.show()"
   ]
  },
  {
   "cell_type": "code",
   "execution_count": 18,
   "metadata": {},
   "outputs": [
    {
     "data": {
      "application/vnd.plotly.v1+json": {
       "config": {
        "plotlyServerURL": "https://plot.ly"
       },
       "data": [
        {
         "alignmentgroup": "True",
         "hovertemplate": "product_name=%{x}<br>demand=%{y}<extra></extra>",
         "legendgroup": "",
         "marker": {
          "color": "#636efa",
          "pattern": {
           "shape": ""
          }
         },
         "name": "",
         "offsetgroup": "",
         "orientation": "v",
         "showlegend": false,
         "textposition": "auto",
         "type": "bar",
         "x": [
          "CH SNS PEANUT PARENT",
          "CH PROTEIN PB DK CHOC PARENT",
          "CH TRAIL MIX F&N PARENT",
          "CH SNS ALMOND PARENT",
          "CH SNS DK CHOC PEA ALM PARENT",
          "CH SNS CDA DK CHOC PEA  ALM PARENT",
          "CH SNS CHOCOLATE PRETZEL NUT PARENT",
          "CH GG TREATS BARS PARENT",
          "CH REESES TREATS BARS PARENT"
         ],
         "xaxis": "x",
         "y": [
          6080195.408019231,
          3480668.730876751,
          2569584.4481538464,
          2531363.7612980762,
          1947369.7787596146,
          475380.92307692306,
          206745.6923076923,
          0,
          0
         ],
         "yaxis": "y"
        }
       ],
       "layout": {
        "barmode": "relative",
        "legend": {
         "tracegroupgap": 0
        },
        "margin": {
         "t": 60
        },
        "template": {
         "data": {
          "bar": [
           {
            "error_x": {
             "color": "#2a3f5f"
            },
            "error_y": {
             "color": "#2a3f5f"
            },
            "marker": {
             "line": {
              "color": "#E5ECF6",
              "width": 0.5
             },
             "pattern": {
              "fillmode": "overlay",
              "size": 10,
              "solidity": 0.2
             }
            },
            "type": "bar"
           }
          ],
          "barpolar": [
           {
            "marker": {
             "line": {
              "color": "#E5ECF6",
              "width": 0.5
             },
             "pattern": {
              "fillmode": "overlay",
              "size": 10,
              "solidity": 0.2
             }
            },
            "type": "barpolar"
           }
          ],
          "carpet": [
           {
            "aaxis": {
             "endlinecolor": "#2a3f5f",
             "gridcolor": "white",
             "linecolor": "white",
             "minorgridcolor": "white",
             "startlinecolor": "#2a3f5f"
            },
            "baxis": {
             "endlinecolor": "#2a3f5f",
             "gridcolor": "white",
             "linecolor": "white",
             "minorgridcolor": "white",
             "startlinecolor": "#2a3f5f"
            },
            "type": "carpet"
           }
          ],
          "choropleth": [
           {
            "colorbar": {
             "outlinewidth": 0,
             "ticks": ""
            },
            "type": "choropleth"
           }
          ],
          "contour": [
           {
            "colorbar": {
             "outlinewidth": 0,
             "ticks": ""
            },
            "colorscale": [
             [
              0,
              "#0d0887"
             ],
             [
              0.1111111111111111,
              "#46039f"
             ],
             [
              0.2222222222222222,
              "#7201a8"
             ],
             [
              0.3333333333333333,
              "#9c179e"
             ],
             [
              0.4444444444444444,
              "#bd3786"
             ],
             [
              0.5555555555555556,
              "#d8576b"
             ],
             [
              0.6666666666666666,
              "#ed7953"
             ],
             [
              0.7777777777777778,
              "#fb9f3a"
             ],
             [
              0.8888888888888888,
              "#fdca26"
             ],
             [
              1,
              "#f0f921"
             ]
            ],
            "type": "contour"
           }
          ],
          "contourcarpet": [
           {
            "colorbar": {
             "outlinewidth": 0,
             "ticks": ""
            },
            "type": "contourcarpet"
           }
          ],
          "heatmap": [
           {
            "colorbar": {
             "outlinewidth": 0,
             "ticks": ""
            },
            "colorscale": [
             [
              0,
              "#0d0887"
             ],
             [
              0.1111111111111111,
              "#46039f"
             ],
             [
              0.2222222222222222,
              "#7201a8"
             ],
             [
              0.3333333333333333,
              "#9c179e"
             ],
             [
              0.4444444444444444,
              "#bd3786"
             ],
             [
              0.5555555555555556,
              "#d8576b"
             ],
             [
              0.6666666666666666,
              "#ed7953"
             ],
             [
              0.7777777777777778,
              "#fb9f3a"
             ],
             [
              0.8888888888888888,
              "#fdca26"
             ],
             [
              1,
              "#f0f921"
             ]
            ],
            "type": "heatmap"
           }
          ],
          "heatmapgl": [
           {
            "colorbar": {
             "outlinewidth": 0,
             "ticks": ""
            },
            "colorscale": [
             [
              0,
              "#0d0887"
             ],
             [
              0.1111111111111111,
              "#46039f"
             ],
             [
              0.2222222222222222,
              "#7201a8"
             ],
             [
              0.3333333333333333,
              "#9c179e"
             ],
             [
              0.4444444444444444,
              "#bd3786"
             ],
             [
              0.5555555555555556,
              "#d8576b"
             ],
             [
              0.6666666666666666,
              "#ed7953"
             ],
             [
              0.7777777777777778,
              "#fb9f3a"
             ],
             [
              0.8888888888888888,
              "#fdca26"
             ],
             [
              1,
              "#f0f921"
             ]
            ],
            "type": "heatmapgl"
           }
          ],
          "histogram": [
           {
            "marker": {
             "pattern": {
              "fillmode": "overlay",
              "size": 10,
              "solidity": 0.2
             }
            },
            "type": "histogram"
           }
          ],
          "histogram2d": [
           {
            "colorbar": {
             "outlinewidth": 0,
             "ticks": ""
            },
            "colorscale": [
             [
              0,
              "#0d0887"
             ],
             [
              0.1111111111111111,
              "#46039f"
             ],
             [
              0.2222222222222222,
              "#7201a8"
             ],
             [
              0.3333333333333333,
              "#9c179e"
             ],
             [
              0.4444444444444444,
              "#bd3786"
             ],
             [
              0.5555555555555556,
              "#d8576b"
             ],
             [
              0.6666666666666666,
              "#ed7953"
             ],
             [
              0.7777777777777778,
              "#fb9f3a"
             ],
             [
              0.8888888888888888,
              "#fdca26"
             ],
             [
              1,
              "#f0f921"
             ]
            ],
            "type": "histogram2d"
           }
          ],
          "histogram2dcontour": [
           {
            "colorbar": {
             "outlinewidth": 0,
             "ticks": ""
            },
            "colorscale": [
             [
              0,
              "#0d0887"
             ],
             [
              0.1111111111111111,
              "#46039f"
             ],
             [
              0.2222222222222222,
              "#7201a8"
             ],
             [
              0.3333333333333333,
              "#9c179e"
             ],
             [
              0.4444444444444444,
              "#bd3786"
             ],
             [
              0.5555555555555556,
              "#d8576b"
             ],
             [
              0.6666666666666666,
              "#ed7953"
             ],
             [
              0.7777777777777778,
              "#fb9f3a"
             ],
             [
              0.8888888888888888,
              "#fdca26"
             ],
             [
              1,
              "#f0f921"
             ]
            ],
            "type": "histogram2dcontour"
           }
          ],
          "mesh3d": [
           {
            "colorbar": {
             "outlinewidth": 0,
             "ticks": ""
            },
            "type": "mesh3d"
           }
          ],
          "parcoords": [
           {
            "line": {
             "colorbar": {
              "outlinewidth": 0,
              "ticks": ""
             }
            },
            "type": "parcoords"
           }
          ],
          "pie": [
           {
            "automargin": true,
            "type": "pie"
           }
          ],
          "scatter": [
           {
            "fillpattern": {
             "fillmode": "overlay",
             "size": 10,
             "solidity": 0.2
            },
            "type": "scatter"
           }
          ],
          "scatter3d": [
           {
            "line": {
             "colorbar": {
              "outlinewidth": 0,
              "ticks": ""
             }
            },
            "marker": {
             "colorbar": {
              "outlinewidth": 0,
              "ticks": ""
             }
            },
            "type": "scatter3d"
           }
          ],
          "scattercarpet": [
           {
            "marker": {
             "colorbar": {
              "outlinewidth": 0,
              "ticks": ""
             }
            },
            "type": "scattercarpet"
           }
          ],
          "scattergeo": [
           {
            "marker": {
             "colorbar": {
              "outlinewidth": 0,
              "ticks": ""
             }
            },
            "type": "scattergeo"
           }
          ],
          "scattergl": [
           {
            "marker": {
             "colorbar": {
              "outlinewidth": 0,
              "ticks": ""
             }
            },
            "type": "scattergl"
           }
          ],
          "scattermapbox": [
           {
            "marker": {
             "colorbar": {
              "outlinewidth": 0,
              "ticks": ""
             }
            },
            "type": "scattermapbox"
           }
          ],
          "scatterpolar": [
           {
            "marker": {
             "colorbar": {
              "outlinewidth": 0,
              "ticks": ""
             }
            },
            "type": "scatterpolar"
           }
          ],
          "scatterpolargl": [
           {
            "marker": {
             "colorbar": {
              "outlinewidth": 0,
              "ticks": ""
             }
            },
            "type": "scatterpolargl"
           }
          ],
          "scatterternary": [
           {
            "marker": {
             "colorbar": {
              "outlinewidth": 0,
              "ticks": ""
             }
            },
            "type": "scatterternary"
           }
          ],
          "surface": [
           {
            "colorbar": {
             "outlinewidth": 0,
             "ticks": ""
            },
            "colorscale": [
             [
              0,
              "#0d0887"
             ],
             [
              0.1111111111111111,
              "#46039f"
             ],
             [
              0.2222222222222222,
              "#7201a8"
             ],
             [
              0.3333333333333333,
              "#9c179e"
             ],
             [
              0.4444444444444444,
              "#bd3786"
             ],
             [
              0.5555555555555556,
              "#d8576b"
             ],
             [
              0.6666666666666666,
              "#ed7953"
             ],
             [
              0.7777777777777778,
              "#fb9f3a"
             ],
             [
              0.8888888888888888,
              "#fdca26"
             ],
             [
              1,
              "#f0f921"
             ]
            ],
            "type": "surface"
           }
          ],
          "table": [
           {
            "cells": {
             "fill": {
              "color": "#EBF0F8"
             },
             "line": {
              "color": "white"
             }
            },
            "header": {
             "fill": {
              "color": "#C8D4E3"
             },
             "line": {
              "color": "white"
             }
            },
            "type": "table"
           }
          ]
         },
         "layout": {
          "annotationdefaults": {
           "arrowcolor": "#2a3f5f",
           "arrowhead": 0,
           "arrowwidth": 1
          },
          "autotypenumbers": "strict",
          "coloraxis": {
           "colorbar": {
            "outlinewidth": 0,
            "ticks": ""
           }
          },
          "colorscale": {
           "diverging": [
            [
             0,
             "#8e0152"
            ],
            [
             0.1,
             "#c51b7d"
            ],
            [
             0.2,
             "#de77ae"
            ],
            [
             0.3,
             "#f1b6da"
            ],
            [
             0.4,
             "#fde0ef"
            ],
            [
             0.5,
             "#f7f7f7"
            ],
            [
             0.6,
             "#e6f5d0"
            ],
            [
             0.7,
             "#b8e186"
            ],
            [
             0.8,
             "#7fbc41"
            ],
            [
             0.9,
             "#4d9221"
            ],
            [
             1,
             "#276419"
            ]
           ],
           "sequential": [
            [
             0,
             "#0d0887"
            ],
            [
             0.1111111111111111,
             "#46039f"
            ],
            [
             0.2222222222222222,
             "#7201a8"
            ],
            [
             0.3333333333333333,
             "#9c179e"
            ],
            [
             0.4444444444444444,
             "#bd3786"
            ],
            [
             0.5555555555555556,
             "#d8576b"
            ],
            [
             0.6666666666666666,
             "#ed7953"
            ],
            [
             0.7777777777777778,
             "#fb9f3a"
            ],
            [
             0.8888888888888888,
             "#fdca26"
            ],
            [
             1,
             "#f0f921"
            ]
           ],
           "sequentialminus": [
            [
             0,
             "#0d0887"
            ],
            [
             0.1111111111111111,
             "#46039f"
            ],
            [
             0.2222222222222222,
             "#7201a8"
            ],
            [
             0.3333333333333333,
             "#9c179e"
            ],
            [
             0.4444444444444444,
             "#bd3786"
            ],
            [
             0.5555555555555556,
             "#d8576b"
            ],
            [
             0.6666666666666666,
             "#ed7953"
            ],
            [
             0.7777777777777778,
             "#fb9f3a"
            ],
            [
             0.8888888888888888,
             "#fdca26"
            ],
            [
             1,
             "#f0f921"
            ]
           ]
          },
          "colorway": [
           "#636efa",
           "#EF553B",
           "#00cc96",
           "#ab63fa",
           "#FFA15A",
           "#19d3f3",
           "#FF6692",
           "#B6E880",
           "#FF97FF",
           "#FECB52"
          ],
          "font": {
           "color": "#2a3f5f"
          },
          "geo": {
           "bgcolor": "white",
           "lakecolor": "white",
           "landcolor": "#E5ECF6",
           "showlakes": true,
           "showland": true,
           "subunitcolor": "white"
          },
          "hoverlabel": {
           "align": "left"
          },
          "hovermode": "closest",
          "mapbox": {
           "style": "light"
          },
          "paper_bgcolor": "white",
          "plot_bgcolor": "#E5ECF6",
          "polar": {
           "angularaxis": {
            "gridcolor": "white",
            "linecolor": "white",
            "ticks": ""
           },
           "bgcolor": "#E5ECF6",
           "radialaxis": {
            "gridcolor": "white",
            "linecolor": "white",
            "ticks": ""
           }
          },
          "scene": {
           "xaxis": {
            "backgroundcolor": "#E5ECF6",
            "gridcolor": "white",
            "gridwidth": 2,
            "linecolor": "white",
            "showbackground": true,
            "ticks": "",
            "zerolinecolor": "white"
           },
           "yaxis": {
            "backgroundcolor": "#E5ECF6",
            "gridcolor": "white",
            "gridwidth": 2,
            "linecolor": "white",
            "showbackground": true,
            "ticks": "",
            "zerolinecolor": "white"
           },
           "zaxis": {
            "backgroundcolor": "#E5ECF6",
            "gridcolor": "white",
            "gridwidth": 2,
            "linecolor": "white",
            "showbackground": true,
            "ticks": "",
            "zerolinecolor": "white"
           }
          },
          "shapedefaults": {
           "line": {
            "color": "#2a3f5f"
           }
          },
          "ternary": {
           "aaxis": {
            "gridcolor": "white",
            "linecolor": "white",
            "ticks": ""
           },
           "baxis": {
            "gridcolor": "white",
            "linecolor": "white",
            "ticks": ""
           },
           "bgcolor": "#E5ECF6",
           "caxis": {
            "gridcolor": "white",
            "linecolor": "white",
            "ticks": ""
           }
          },
          "title": {
           "x": 0.05
          },
          "xaxis": {
           "automargin": true,
           "gridcolor": "white",
           "linecolor": "white",
           "ticks": "",
           "title": {
            "standoff": 15
           },
           "zerolinecolor": "white",
           "zerolinewidth": 2
          },
          "yaxis": {
           "automargin": true,
           "gridcolor": "white",
           "linecolor": "white",
           "ticks": "",
           "title": {
            "standoff": 15
           },
           "zerolinecolor": "white",
           "zerolinewidth": 2
          }
         }
        },
        "xaxis": {
         "anchor": "y",
         "domain": [
          0,
          1
         ],
         "title": {
          "text": "product_name"
         }
        },
        "yaxis": {
         "anchor": "x",
         "domain": [
          0,
          1
         ],
         "title": {
          "text": "demand"
         }
        }
       }
      }
     },
     "metadata": {},
     "output_type": "display_data"
    }
   ],
   "source": [
    "df = data_mps.groupby(\"product_name\").agg([pl.mean(\"demand\")]).sort(by = \"demand\", descending=True)\n",
    "px.bar(df,x = \"product_name\",y = \"demand\")"
   ]
  },
  {
   "cell_type": "markdown",
   "metadata": {},
   "source": [
    "#### Product Wise Analysis"
   ]
  },
  {
   "cell_type": "code",
   "execution_count": 19,
   "metadata": {},
   "outputs": [
    {
     "name": "stdout",
     "output_type": "stream",
     "text": [
      "['CH PROTEIN PB DK CHOC PARENT', 'CH TRAIL MIX F&N PARENT', 'CH SNS CHOCOLATE PRETZEL NUT PARENT', 'CH SNS ALMOND PARENT', 'CH SNS DK CHOC PEA ALM PARENT', 'CH SNS CDA DK CHOC PEA  ALM PARENT', 'CH SNS PEANUT PARENT']\n"
     ]
    },
    {
     "data": {
      "text/plain": [
       "'CH SNS PEANUT PARENT'"
      ]
     },
     "execution_count": 19,
     "metadata": {},
     "output_type": "execute_result"
    }
   ],
   "source": [
    "product_list = list(df_run_length_cycle_time[\"product_name\"].unique())\n",
    "print(product_list)\n",
    "product_name = \"CH SNS PEANUT PARENT\"\n",
    "product_name"
   ]
  },
  {
   "cell_type": "code",
   "execution_count": 20,
   "metadata": {},
   "outputs": [
    {
     "name": "stderr",
     "output_type": "stream",
     "text": [
      "c:\\Users\\G666966\\OneDrive - General Mills\\.virtualenvs\\production_scheduling\\Lib\\site-packages\\plotly\\graph_objs\\_deprecations.py:378: DeprecationWarning:\n",
      "\n",
      "plotly.graph_objs.Line is deprecated.\n",
      "Please replace it with one of the following more specific types\n",
      "  - plotly.graph_objs.scatter.Line\n",
      "  - plotly.graph_objs.layout.shape.Line\n",
      "  - etc.\n",
      "\n",
      "\n"
     ]
    },
    {
     "data": {
      "application/vnd.plotly.v1+json": {
       "config": {
        "plotlyServerURL": "https://plot.ly"
       },
       "data": [
        {
         "name": "production_plan_AL",
         "type": "bar",
         "x": [
          0,
          1,
          2,
          3,
          4,
          5,
          6,
          7,
          8,
          9,
          10,
          11,
          12,
          13,
          14,
          15,
          16,
          17,
          18,
          19,
          20,
          21,
          22,
          23,
          24,
          25,
          26,
          27,
          28,
          29,
          30,
          31,
          32,
          33,
          34,
          35,
          36,
          37,
          38,
          39,
          40,
          41,
          42,
          43,
          44,
          45,
          46,
          47,
          48,
          49,
          50,
          51
         ],
         "y": [
          0,
          0,
          0,
          0,
          0,
          1831157,
          2067393,
          0,
          0,
          7929590,
          5180572,
          10481633,
          14042502,
          14471751,
          14471751,
          14471751,
          14471751,
          12404358,
          0,
          0,
          0,
          0,
          0,
          0,
          0,
          0,
          0,
          0,
          263223,
          12404358,
          0,
          0,
          0,
          3315913,
          11614442,
          14471751,
          14471751,
          14471751,
          2067393,
          0,
          0,
          11232375,
          12404358,
          0,
          0,
          6202179,
          14471751,
          0,
          0,
          0,
          0,
          0
         ]
        },
        {
         "name": "production_actual",
         "type": "bar",
         "x": [
          0,
          1,
          2,
          3,
          4,
          5,
          6,
          7,
          8,
          9,
          10,
          11,
          12,
          13,
          14,
          15,
          16,
          17,
          18,
          19,
          20,
          21,
          22,
          23,
          24,
          25,
          26,
          27,
          28,
          29,
          30,
          31,
          32,
          33,
          34,
          35,
          36,
          37,
          38,
          39,
          40,
          41,
          42,
          43,
          44,
          45,
          46,
          47,
          48,
          49,
          50,
          51
         ],
         "y": [
          2422521.01125,
          11307265.7925,
          9757991.895,
          54432.2025,
          0,
          1018657.2825,
          12834300.45375,
          5202438.51375,
          14828714.29125,
          14036362.44525,
          3673151.955,
          9289214.5125,
          15158998.38375,
          15440601.4425,
          471745.755,
          327600,
          1885248,
          7723059.53925,
          12824201.30625,
          10069957.4625,
          2774160,
          4841856,
          2308464,
          15759675.705,
          9454275.15075,
          9072.03375,
          54432.2025,
          3100032,
          11325796.39125,
          2883887.9685,
          0,
          0,
          475944,
          1574567.22375,
          0,
          0,
          0,
          0,
          103536,
          1447968.0675,
          0,
          2916074.05275,
          18144.0675,
          943491.51,
          0,
          2202384,
          229248,
          2304,
          38399.76,
          4822889.85675,
          5469286.86,
          950256
         ]
        },
        {
         "name": "actual_production_non_AL",
         "type": "bar",
         "x": [
          0,
          1,
          2,
          3,
          4,
          5,
          6,
          7,
          8,
          9,
          10,
          11,
          12,
          13,
          14,
          15,
          16,
          17,
          18,
          19,
          20,
          21,
          22,
          23,
          24,
          25,
          26,
          27,
          28,
          29,
          30,
          31,
          32,
          33,
          34,
          35,
          36,
          37,
          38,
          39,
          40,
          41,
          42,
          43,
          44,
          45,
          46,
          47,
          48,
          49,
          50,
          51
         ],
         "y": [
          2422521.01125,
          8850408.67125,
          2270592,
          0,
          0,
          1018657.2825,
          12834300.45375,
          1638144,
          0,
          0,
          3608064,
          2291328,
          0,
          0,
          0,
          327600,
          1885248,
          524160,
          228816,
          0,
          2774160,
          4841856,
          2308464,
          1024848,
          16128,
          0,
          0,
          3100032,
          8188416,
          2878848,
          0,
          0,
          475944,
          1574567.22375,
          0,
          0,
          0,
          0,
          103536,
          18144.0675,
          0,
          2916074.05275,
          18144.0675,
          943491.51,
          0,
          0,
          0,
          0,
          38399.76,
          4822889.85675,
          5469286.86,
          950256
         ]
        },
        {
         "name": "actual_production_AL",
         "type": "bar",
         "x": [
          0,
          1,
          2,
          3,
          4,
          5,
          6,
          7,
          8,
          9,
          10,
          11,
          12,
          13,
          14,
          15,
          16,
          17,
          18,
          19,
          20,
          21,
          22,
          23,
          24,
          25,
          26,
          27,
          28,
          29,
          30,
          31,
          32,
          33,
          34,
          35,
          36,
          37,
          38,
          39,
          40,
          41,
          42,
          43,
          44,
          45,
          46,
          47,
          48,
          49,
          50,
          51
         ],
         "y": [
          0,
          2456857.12125,
          7487399.895,
          54432.2025,
          0,
          0,
          0,
          3564294.51375,
          14828714.29125,
          14036362.44525,
          65087.955000000075,
          6997886.512499999,
          15158998.38375,
          15440601.4425,
          471745.755,
          0,
          0,
          7198899.53925,
          12595385.30625,
          10069957.4625,
          0,
          0,
          0,
          14734827.705,
          9438147.15075,
          9072.03375,
          54432.2025,
          0,
          3137380.3912499994,
          5039.968499999959,
          0,
          0,
          0,
          0,
          0,
          0,
          0,
          0,
          0,
          1429824,
          0,
          0,
          0,
          0,
          0,
          2202384,
          229248,
          2304,
          0,
          0,
          0,
          0
         ]
        },
        {
         "name": "demand",
         "type": "scatter",
         "x": [
          0,
          1,
          2,
          3,
          4,
          5,
          6,
          7,
          8,
          9,
          10,
          11,
          12,
          13,
          14,
          15,
          16,
          17,
          18,
          19,
          20,
          21,
          22,
          23,
          24,
          25,
          26,
          27,
          28,
          29,
          30,
          31,
          32,
          33,
          34,
          35,
          36,
          37,
          38,
          39,
          40,
          41,
          42,
          43,
          44,
          45,
          46,
          47,
          48,
          49,
          50,
          51
         ],
         "y": [
          4759599.018,
          2851357.77375,
          3403459.91925,
          2803420.01475,
          4516159.6935,
          4768212.483,
          5019990.09,
          3813910.33425,
          7732009.3815,
          7929592.82325,
          8788637.9415,
          12772966.20675,
          11611234.0995,
          13918569.60675,
          8701391.6355,
          6966469.31625,
          4960079.9505,
          6834907.09275,
          7074288.264,
          3371582.11875,
          3501062.85,
          4304782.68225,
          6171430.00725,
          5552513.92275,
          3922039.953,
          4480358.7585,
          4011458.10825,
          5983045.75725,
          4296020.80425,
          4504757.838,
          4793981.91375,
          4502339.406,
          6113695.04475,
          4890481.46475,
          5209413.72375,
          5371130.63025,
          5809557.84975,
          7499901.09525,
          9867392.9475,
          11192269.67625,
          12269128.2345,
          10757841.18525,
          7390605.41475,
          4799624.64075,
          4328030.892,
          6022827.546,
          5120481.14325,
          5568550.767,
          3944375.7525,
          4830166.32,
          5756465.964,
          806591.16
         ]
        },
        {
         "name": "closing_inventory_plan",
         "type": "scatter",
         "x": [
          0,
          1,
          2,
          3,
          4,
          5,
          6,
          7,
          8,
          9,
          10,
          11,
          12,
          13,
          14,
          15,
          16,
          17,
          18,
          19,
          20,
          21,
          22,
          23,
          24,
          25,
          26,
          27,
          28,
          29,
          30,
          31,
          32,
          33,
          34,
          35,
          36,
          37,
          38,
          39,
          40,
          41,
          42,
          43,
          44,
          45,
          46,
          47,
          48,
          49,
          50,
          51
         ],
         "y": [
          17937147.69225,
          23936198.58975,
          22803330.6705,
          19999910.65575,
          15483750.96225,
          13565352.798792,
          23447057.101572,
          21271290.767322,
          13539281.385822,
          13539281.385822,
          13539281.385822,
          13539281.385822,
          15970555.482566,
          16523743.449023,
          22294109.38673,
          30126997.643687,
          41523923.266394,
          47617539.807822,
          40772067.543822,
          37400485.425072,
          36673582.575072,
          37210655.892822,
          33347689.885572,
          28820023.962822,
          24914112.009822,
          20433753.251322,
          16422295.143072,
          13539281.385822,
          17694899.954144,
          28473353.750322,
          23679371.836572,
          19177032.430572,
          13539281.385822,
          13539281.385822,
          19944315.093171,
          29044942.036128,
          37707141.759585,
          44678998.237542,
          36982535.229072,
          25808409.620322,
          13539281.385822,
          16929894.747348,
          21961797.034276,
          18105663.903526,
          13777633.011526,
          13956987.282615,
          23308263.712572,
          17739712.945572,
          13833736.953072,
          13826460.489822,
          13539281.385822,
          13682946.225822
         ]
        },
        {
         "name": "closing_inventory_actual_calculated",
         "type": "scatter",
         "x": [
          0,
          1,
          2,
          3,
          4,
          5,
          6,
          7,
          8,
          9,
          10,
          11,
          12,
          13,
          14,
          15,
          16,
          17,
          18,
          19,
          20,
          21,
          22,
          23,
          24,
          25,
          26,
          27,
          28,
          29,
          30,
          31,
          32,
          33,
          34,
          35,
          36,
          37,
          38,
          39,
          40,
          41,
          42,
          43,
          44,
          45,
          46,
          47,
          48,
          49,
          50,
          51
         ],
         "y": [
          17937147.69225,
          26393055.711,
          32747587.68675,
          29998599.8745,
          25482440.181,
          21732884.9805,
          29547195.34425,
          30935723.52375,
          38032428.4335,
          44139198.0555,
          39023712.069,
          35539960.37475,
          39087724.659,
          40609756.49475,
          32380110.61425,
          25741241.298,
          22666409.3475,
          23554561.794,
          29304474.83625,
          36002850.18,
          35275947.33,
          35813020.64775,
          31950054.6405,
          42157216.42275,
          47689451.6205,
          43218164.89575,
          39261138.99,
          36378125.23275,
          43407900.81975,
          41787030.95025,
          36993049.0365,
          32490709.6305,
          26852958.58575,
          23537044.34475,
          18327630.621,
          12956499.99075,
          7146942.141,
          -352958.95425,
          -10116815.90175,
          -19861117.5105,
          -32130245.745,
          -39972012.8775,
          -47344474.22475,
          -51200607.3555,
          -55528638.2475,
          -59349081.7935,
          -64240314.93675,
          -69806561.70375,
          -73712537.69625,
          -73719814.1595,
          -74006993.2635,
          -73863328.4235
         ]
        },
        {
         "name": "safety_stock",
         "type": "scatter",
         "x": [
          0,
          1,
          2,
          3,
          4,
          5,
          6,
          7,
          8,
          9,
          10,
          11,
          12,
          13,
          14,
          15,
          16,
          17,
          18,
          19,
          20,
          21,
          22,
          23,
          24,
          25,
          26,
          27,
          28,
          29,
          30,
          31,
          32,
          33,
          34,
          35,
          36,
          37,
          38,
          39,
          40,
          41,
          42,
          43,
          44,
          45,
          46,
          47,
          48,
          49,
          50,
          51
         ],
         "y": [
          13539281.385822,
          13539281.385822,
          13539281.385822,
          13539281.385822,
          13539281.385822,
          13539281.385822,
          13539281.385822,
          13539281.385822,
          13539281.385822,
          13539281.385822,
          13539281.385822,
          13539281.385822,
          13539281.385822,
          13539281.385822,
          13539281.385822,
          13539281.385822,
          13539281.385822,
          13539281.385822,
          13539281.385822,
          13539281.385822,
          13539281.385822,
          13539281.385822,
          13539281.385822,
          13539281.385822,
          13539281.385822,
          13539281.385822,
          13539281.385822,
          13539281.385822,
          13539281.385822,
          13539281.385822,
          13539281.385822,
          13539281.385822,
          13539281.385822,
          13539281.385822,
          13539281.385822,
          13539281.385822,
          13539281.385822,
          13539281.385822,
          13539281.385822,
          13539281.385822,
          13539281.385822,
          13539281.385822,
          13539281.385822,
          13539281.385822,
          13539281.385822,
          13539281.385822,
          13539281.385822,
          13539281.385822,
          13539281.385822,
          13539281.385822,
          13539281.385822,
          13539281.385822
         ]
        },
        {
         "name": "inventory_capacity",
         "type": "scatter",
         "x": [
          0,
          1,
          2,
          3,
          4,
          5,
          6,
          7,
          8,
          9,
          10,
          11,
          12,
          13,
          14,
          15,
          16,
          17,
          18,
          19,
          20,
          21,
          22,
          23,
          24,
          25,
          26,
          27,
          28,
          29,
          30,
          31,
          32,
          33,
          34,
          35,
          36,
          37,
          38,
          39,
          40,
          41,
          42,
          43,
          44,
          45,
          46,
          47,
          48,
          49,
          50,
          51
         ],
         "y": [
          50631491.312928,
          50631491.312928,
          50631491.312928,
          50631491.312928,
          50631491.312928,
          50631491.312928,
          50631491.312928,
          50631491.312928,
          50631491.312928,
          50631491.312928,
          50631491.312928,
          50631491.312928,
          50631491.312928,
          50631491.312928,
          50631491.312928,
          50631491.312928,
          50631491.312928,
          50631491.312928,
          50631491.312928,
          50631491.312928,
          50631491.312928,
          50631491.312928,
          50631491.312928,
          50631491.312928,
          50631491.312928,
          50631491.312928,
          50631491.312928,
          50631491.312928,
          50631491.312928,
          50631491.312928,
          50631491.312928,
          50631491.312928,
          50631491.312928,
          50631491.312928,
          50631491.312928,
          50631491.312928,
          50631491.312928,
          50631491.312928,
          50631491.312928,
          50631491.312928,
          50631491.312928,
          50631491.312928,
          50631491.312928,
          50631491.312928,
          50631491.312928,
          50631491.312928,
          50631491.312928,
          50631491.312928,
          50631491.312928,
          50631491.312928,
          50631491.312928,
          50631491.312928
         ]
        }
       ],
       "layout": {
        "barmode": "group",
        "template": {
         "data": {
          "bar": [
           {
            "error_x": {
             "color": "#2a3f5f"
            },
            "error_y": {
             "color": "#2a3f5f"
            },
            "marker": {
             "line": {
              "color": "#E5ECF6",
              "width": 0.5
             },
             "pattern": {
              "fillmode": "overlay",
              "size": 10,
              "solidity": 0.2
             }
            },
            "type": "bar"
           }
          ],
          "barpolar": [
           {
            "marker": {
             "line": {
              "color": "#E5ECF6",
              "width": 0.5
             },
             "pattern": {
              "fillmode": "overlay",
              "size": 10,
              "solidity": 0.2
             }
            },
            "type": "barpolar"
           }
          ],
          "carpet": [
           {
            "aaxis": {
             "endlinecolor": "#2a3f5f",
             "gridcolor": "white",
             "linecolor": "white",
             "minorgridcolor": "white",
             "startlinecolor": "#2a3f5f"
            },
            "baxis": {
             "endlinecolor": "#2a3f5f",
             "gridcolor": "white",
             "linecolor": "white",
             "minorgridcolor": "white",
             "startlinecolor": "#2a3f5f"
            },
            "type": "carpet"
           }
          ],
          "choropleth": [
           {
            "colorbar": {
             "outlinewidth": 0,
             "ticks": ""
            },
            "type": "choropleth"
           }
          ],
          "contour": [
           {
            "colorbar": {
             "outlinewidth": 0,
             "ticks": ""
            },
            "colorscale": [
             [
              0,
              "#0d0887"
             ],
             [
              0.1111111111111111,
              "#46039f"
             ],
             [
              0.2222222222222222,
              "#7201a8"
             ],
             [
              0.3333333333333333,
              "#9c179e"
             ],
             [
              0.4444444444444444,
              "#bd3786"
             ],
             [
              0.5555555555555556,
              "#d8576b"
             ],
             [
              0.6666666666666666,
              "#ed7953"
             ],
             [
              0.7777777777777778,
              "#fb9f3a"
             ],
             [
              0.8888888888888888,
              "#fdca26"
             ],
             [
              1,
              "#f0f921"
             ]
            ],
            "type": "contour"
           }
          ],
          "contourcarpet": [
           {
            "colorbar": {
             "outlinewidth": 0,
             "ticks": ""
            },
            "type": "contourcarpet"
           }
          ],
          "heatmap": [
           {
            "colorbar": {
             "outlinewidth": 0,
             "ticks": ""
            },
            "colorscale": [
             [
              0,
              "#0d0887"
             ],
             [
              0.1111111111111111,
              "#46039f"
             ],
             [
              0.2222222222222222,
              "#7201a8"
             ],
             [
              0.3333333333333333,
              "#9c179e"
             ],
             [
              0.4444444444444444,
              "#bd3786"
             ],
             [
              0.5555555555555556,
              "#d8576b"
             ],
             [
              0.6666666666666666,
              "#ed7953"
             ],
             [
              0.7777777777777778,
              "#fb9f3a"
             ],
             [
              0.8888888888888888,
              "#fdca26"
             ],
             [
              1,
              "#f0f921"
             ]
            ],
            "type": "heatmap"
           }
          ],
          "heatmapgl": [
           {
            "colorbar": {
             "outlinewidth": 0,
             "ticks": ""
            },
            "colorscale": [
             [
              0,
              "#0d0887"
             ],
             [
              0.1111111111111111,
              "#46039f"
             ],
             [
              0.2222222222222222,
              "#7201a8"
             ],
             [
              0.3333333333333333,
              "#9c179e"
             ],
             [
              0.4444444444444444,
              "#bd3786"
             ],
             [
              0.5555555555555556,
              "#d8576b"
             ],
             [
              0.6666666666666666,
              "#ed7953"
             ],
             [
              0.7777777777777778,
              "#fb9f3a"
             ],
             [
              0.8888888888888888,
              "#fdca26"
             ],
             [
              1,
              "#f0f921"
             ]
            ],
            "type": "heatmapgl"
           }
          ],
          "histogram": [
           {
            "marker": {
             "pattern": {
              "fillmode": "overlay",
              "size": 10,
              "solidity": 0.2
             }
            },
            "type": "histogram"
           }
          ],
          "histogram2d": [
           {
            "colorbar": {
             "outlinewidth": 0,
             "ticks": ""
            },
            "colorscale": [
             [
              0,
              "#0d0887"
             ],
             [
              0.1111111111111111,
              "#46039f"
             ],
             [
              0.2222222222222222,
              "#7201a8"
             ],
             [
              0.3333333333333333,
              "#9c179e"
             ],
             [
              0.4444444444444444,
              "#bd3786"
             ],
             [
              0.5555555555555556,
              "#d8576b"
             ],
             [
              0.6666666666666666,
              "#ed7953"
             ],
             [
              0.7777777777777778,
              "#fb9f3a"
             ],
             [
              0.8888888888888888,
              "#fdca26"
             ],
             [
              1,
              "#f0f921"
             ]
            ],
            "type": "histogram2d"
           }
          ],
          "histogram2dcontour": [
           {
            "colorbar": {
             "outlinewidth": 0,
             "ticks": ""
            },
            "colorscale": [
             [
              0,
              "#0d0887"
             ],
             [
              0.1111111111111111,
              "#46039f"
             ],
             [
              0.2222222222222222,
              "#7201a8"
             ],
             [
              0.3333333333333333,
              "#9c179e"
             ],
             [
              0.4444444444444444,
              "#bd3786"
             ],
             [
              0.5555555555555556,
              "#d8576b"
             ],
             [
              0.6666666666666666,
              "#ed7953"
             ],
             [
              0.7777777777777778,
              "#fb9f3a"
             ],
             [
              0.8888888888888888,
              "#fdca26"
             ],
             [
              1,
              "#f0f921"
             ]
            ],
            "type": "histogram2dcontour"
           }
          ],
          "mesh3d": [
           {
            "colorbar": {
             "outlinewidth": 0,
             "ticks": ""
            },
            "type": "mesh3d"
           }
          ],
          "parcoords": [
           {
            "line": {
             "colorbar": {
              "outlinewidth": 0,
              "ticks": ""
             }
            },
            "type": "parcoords"
           }
          ],
          "pie": [
           {
            "automargin": true,
            "type": "pie"
           }
          ],
          "scatter": [
           {
            "fillpattern": {
             "fillmode": "overlay",
             "size": 10,
             "solidity": 0.2
            },
            "type": "scatter"
           }
          ],
          "scatter3d": [
           {
            "line": {
             "colorbar": {
              "outlinewidth": 0,
              "ticks": ""
             }
            },
            "marker": {
             "colorbar": {
              "outlinewidth": 0,
              "ticks": ""
             }
            },
            "type": "scatter3d"
           }
          ],
          "scattercarpet": [
           {
            "marker": {
             "colorbar": {
              "outlinewidth": 0,
              "ticks": ""
             }
            },
            "type": "scattercarpet"
           }
          ],
          "scattergeo": [
           {
            "marker": {
             "colorbar": {
              "outlinewidth": 0,
              "ticks": ""
             }
            },
            "type": "scattergeo"
           }
          ],
          "scattergl": [
           {
            "marker": {
             "colorbar": {
              "outlinewidth": 0,
              "ticks": ""
             }
            },
            "type": "scattergl"
           }
          ],
          "scattermapbox": [
           {
            "marker": {
             "colorbar": {
              "outlinewidth": 0,
              "ticks": ""
             }
            },
            "type": "scattermapbox"
           }
          ],
          "scatterpolar": [
           {
            "marker": {
             "colorbar": {
              "outlinewidth": 0,
              "ticks": ""
             }
            },
            "type": "scatterpolar"
           }
          ],
          "scatterpolargl": [
           {
            "marker": {
             "colorbar": {
              "outlinewidth": 0,
              "ticks": ""
             }
            },
            "type": "scatterpolargl"
           }
          ],
          "scatterternary": [
           {
            "marker": {
             "colorbar": {
              "outlinewidth": 0,
              "ticks": ""
             }
            },
            "type": "scatterternary"
           }
          ],
          "surface": [
           {
            "colorbar": {
             "outlinewidth": 0,
             "ticks": ""
            },
            "colorscale": [
             [
              0,
              "#0d0887"
             ],
             [
              0.1111111111111111,
              "#46039f"
             ],
             [
              0.2222222222222222,
              "#7201a8"
             ],
             [
              0.3333333333333333,
              "#9c179e"
             ],
             [
              0.4444444444444444,
              "#bd3786"
             ],
             [
              0.5555555555555556,
              "#d8576b"
             ],
             [
              0.6666666666666666,
              "#ed7953"
             ],
             [
              0.7777777777777778,
              "#fb9f3a"
             ],
             [
              0.8888888888888888,
              "#fdca26"
             ],
             [
              1,
              "#f0f921"
             ]
            ],
            "type": "surface"
           }
          ],
          "table": [
           {
            "cells": {
             "fill": {
              "color": "#EBF0F8"
             },
             "line": {
              "color": "white"
             }
            },
            "header": {
             "fill": {
              "color": "#C8D4E3"
             },
             "line": {
              "color": "white"
             }
            },
            "type": "table"
           }
          ]
         },
         "layout": {
          "annotationdefaults": {
           "arrowcolor": "#2a3f5f",
           "arrowhead": 0,
           "arrowwidth": 1
          },
          "autotypenumbers": "strict",
          "coloraxis": {
           "colorbar": {
            "outlinewidth": 0,
            "ticks": ""
           }
          },
          "colorscale": {
           "diverging": [
            [
             0,
             "#8e0152"
            ],
            [
             0.1,
             "#c51b7d"
            ],
            [
             0.2,
             "#de77ae"
            ],
            [
             0.3,
             "#f1b6da"
            ],
            [
             0.4,
             "#fde0ef"
            ],
            [
             0.5,
             "#f7f7f7"
            ],
            [
             0.6,
             "#e6f5d0"
            ],
            [
             0.7,
             "#b8e186"
            ],
            [
             0.8,
             "#7fbc41"
            ],
            [
             0.9,
             "#4d9221"
            ],
            [
             1,
             "#276419"
            ]
           ],
           "sequential": [
            [
             0,
             "#0d0887"
            ],
            [
             0.1111111111111111,
             "#46039f"
            ],
            [
             0.2222222222222222,
             "#7201a8"
            ],
            [
             0.3333333333333333,
             "#9c179e"
            ],
            [
             0.4444444444444444,
             "#bd3786"
            ],
            [
             0.5555555555555556,
             "#d8576b"
            ],
            [
             0.6666666666666666,
             "#ed7953"
            ],
            [
             0.7777777777777778,
             "#fb9f3a"
            ],
            [
             0.8888888888888888,
             "#fdca26"
            ],
            [
             1,
             "#f0f921"
            ]
           ],
           "sequentialminus": [
            [
             0,
             "#0d0887"
            ],
            [
             0.1111111111111111,
             "#46039f"
            ],
            [
             0.2222222222222222,
             "#7201a8"
            ],
            [
             0.3333333333333333,
             "#9c179e"
            ],
            [
             0.4444444444444444,
             "#bd3786"
            ],
            [
             0.5555555555555556,
             "#d8576b"
            ],
            [
             0.6666666666666666,
             "#ed7953"
            ],
            [
             0.7777777777777778,
             "#fb9f3a"
            ],
            [
             0.8888888888888888,
             "#fdca26"
            ],
            [
             1,
             "#f0f921"
            ]
           ]
          },
          "colorway": [
           "#636efa",
           "#EF553B",
           "#00cc96",
           "#ab63fa",
           "#FFA15A",
           "#19d3f3",
           "#FF6692",
           "#B6E880",
           "#FF97FF",
           "#FECB52"
          ],
          "font": {
           "color": "#2a3f5f"
          },
          "geo": {
           "bgcolor": "white",
           "lakecolor": "white",
           "landcolor": "#E5ECF6",
           "showlakes": true,
           "showland": true,
           "subunitcolor": "white"
          },
          "hoverlabel": {
           "align": "left"
          },
          "hovermode": "closest",
          "mapbox": {
           "style": "light"
          },
          "paper_bgcolor": "white",
          "plot_bgcolor": "#E5ECF6",
          "polar": {
           "angularaxis": {
            "gridcolor": "white",
            "linecolor": "white",
            "ticks": ""
           },
           "bgcolor": "#E5ECF6",
           "radialaxis": {
            "gridcolor": "white",
            "linecolor": "white",
            "ticks": ""
           }
          },
          "scene": {
           "xaxis": {
            "backgroundcolor": "#E5ECF6",
            "gridcolor": "white",
            "gridwidth": 2,
            "linecolor": "white",
            "showbackground": true,
            "ticks": "",
            "zerolinecolor": "white"
           },
           "yaxis": {
            "backgroundcolor": "#E5ECF6",
            "gridcolor": "white",
            "gridwidth": 2,
            "linecolor": "white",
            "showbackground": true,
            "ticks": "",
            "zerolinecolor": "white"
           },
           "zaxis": {
            "backgroundcolor": "#E5ECF6",
            "gridcolor": "white",
            "gridwidth": 2,
            "linecolor": "white",
            "showbackground": true,
            "ticks": "",
            "zerolinecolor": "white"
           }
          },
          "shapedefaults": {
           "line": {
            "color": "#2a3f5f"
           }
          },
          "ternary": {
           "aaxis": {
            "gridcolor": "white",
            "linecolor": "white",
            "ticks": ""
           },
           "baxis": {
            "gridcolor": "white",
            "linecolor": "white",
            "ticks": ""
           },
           "bgcolor": "#E5ECF6",
           "caxis": {
            "gridcolor": "white",
            "linecolor": "white",
            "ticks": ""
           }
          },
          "title": {
           "x": 0.05
          },
          "xaxis": {
           "automargin": true,
           "gridcolor": "white",
           "linecolor": "white",
           "ticks": "",
           "title": {
            "standoff": 15
           },
           "zerolinecolor": "white",
           "zerolinewidth": 2
          },
          "yaxis": {
           "automargin": true,
           "gridcolor": "white",
           "linecolor": "white",
           "ticks": "",
           "title": {
            "standoff": 15
           },
           "zerolinecolor": "white",
           "zerolinewidth": 2
          }
         }
        },
        "title": {
         "text": "CH SNS PEANUT PARENT"
        },
        "xaxis": {
         "title": {
          "text": "Week Number"
         }
        }
       }
      }
     },
     "metadata": {},
     "output_type": "display_data"
    }
   ],
   "source": [
    "df = data_mps.filter(pl.col(\"product_name\") == product_name)\n",
    "agg_cols = [\"production_plan_AL\",\"production_actual\",\"actual_production_non_AL\",\n",
    "            \"actual_production_AL\",\"demand\",\"closing_inventory_plan\",\n",
    "            \"closing_inventory_actual_calculated\",\"safety_stock\",\"inventory_capacity\"]\n",
    "df = df.groupby([\"week_nbr\"]).agg(\n",
    "    [\n",
    "        pl.sum(col) for col in agg_cols\n",
    "    ]\n",
    ").sort(by = \"week_nbr\")\n",
    "bar_cols = [\"production_plan_AL\",\"production_actual\",\"actual_production_non_AL\",\"actual_production_AL\"]\n",
    "line_cols = [\"demand\",\"closing_inventory_plan\",\"closing_inventory_actual_calculated\",\"safety_stock\", \"inventory_capacity\"]\n",
    "fig = go.Figure()\n",
    "for col in bar_cols:\n",
    "    fig.add_trace(\n",
    "        go.Bar(\n",
    "            name=col, \n",
    "            x=df[\"week_nbr\"], \n",
    "            y=df[col]\n",
    "        )\n",
    "    )\n",
    "for col in line_cols:\n",
    "    fig.add_trace(\n",
    "        go.Line(\n",
    "            name=col, \n",
    "            x=df[\"week_nbr\"], \n",
    "            y=df[col]\n",
    "        )\n",
    "    )\n",
    "# Change the bar mode\n",
    "fig.update_xaxes(title = \"Week Number\")\n",
    "fig.update_layout(barmode='group',title = product_name)\n",
    "fig.show()"
   ]
  },
  {
   "cell_type": "code",
   "execution_count": 22,
   "metadata": {},
   "outputs": [],
   "source": [
    "# df_utilization_plan[\"production_plan\"].sum()/df_utilization_plan[\"line_rate_per_day\"].sum()"
   ]
  },
  {
   "cell_type": "code",
   "execution_count": 24,
   "metadata": {},
   "outputs": [
    {
     "data": {
      "application/vnd.plotly.v1+json": {
       "config": {
        "plotlyServerURL": "https://plot.ly"
       },
       "data": [
        {
         "alignmentgroup": "True",
         "hovertemplate": "week_nbr=%{x}<br>utilization=%{text}<extra></extra>",
         "legendgroup": "",
         "marker": {
          "color": "#636efa",
          "pattern": {
           "shape": ""
          }
         },
         "name": "",
         "offsetgroup": "",
         "orientation": "v",
         "showlegend": false,
         "text": [
          null,
          null,
          null,
          null,
          null,
          null,
          null,
          null,
          null,
          null,
          null,
          null,
          null,
          null,
          null,
          null,
          null,
          null,
          null,
          null,
          null,
          null,
          null,
          null,
          null,
          null,
          null,
          null,
          null,
          null,
          null,
          null,
          null,
          null,
          null,
          null,
          null,
          null,
          null,
          null,
          null,
          null,
          null,
          null,
          null,
          null,
          null,
          null
         ],
         "textposition": "auto",
         "type": "bar",
         "x": [
          0,
          1,
          2,
          3,
          4,
          5,
          6,
          7,
          8,
          9,
          10,
          11,
          12,
          13,
          14,
          15,
          16,
          17,
          18,
          19,
          20,
          21,
          22,
          23,
          24,
          25,
          26,
          27,
          28,
          29,
          30,
          31,
          32,
          33,
          34,
          35,
          36,
          37,
          38,
          39,
          40,
          41,
          42,
          43,
          44,
          45,
          46,
          47
         ],
         "xaxis": "x",
         "y": [
          null,
          null,
          null,
          null,
          null,
          null,
          null,
          null,
          null,
          null,
          null,
          null,
          null,
          null,
          null,
          null,
          null,
          null,
          null,
          null,
          null,
          null,
          null,
          null,
          null,
          null,
          null,
          null,
          null,
          null,
          null,
          null,
          null,
          null,
          null,
          null,
          null,
          null,
          null,
          null,
          null,
          null,
          null,
          null,
          null,
          null,
          null,
          null
         ],
         "yaxis": "y"
        }
       ],
       "layout": {
        "barmode": "relative",
        "legend": {
         "tracegroupgap": 0
        },
        "template": {
         "data": {
          "bar": [
           {
            "error_x": {
             "color": "#2a3f5f"
            },
            "error_y": {
             "color": "#2a3f5f"
            },
            "marker": {
             "line": {
              "color": "#E5ECF6",
              "width": 0.5
             },
             "pattern": {
              "fillmode": "overlay",
              "size": 10,
              "solidity": 0.2
             }
            },
            "type": "bar"
           }
          ],
          "barpolar": [
           {
            "marker": {
             "line": {
              "color": "#E5ECF6",
              "width": 0.5
             },
             "pattern": {
              "fillmode": "overlay",
              "size": 10,
              "solidity": 0.2
             }
            },
            "type": "barpolar"
           }
          ],
          "carpet": [
           {
            "aaxis": {
             "endlinecolor": "#2a3f5f",
             "gridcolor": "white",
             "linecolor": "white",
             "minorgridcolor": "white",
             "startlinecolor": "#2a3f5f"
            },
            "baxis": {
             "endlinecolor": "#2a3f5f",
             "gridcolor": "white",
             "linecolor": "white",
             "minorgridcolor": "white",
             "startlinecolor": "#2a3f5f"
            },
            "type": "carpet"
           }
          ],
          "choropleth": [
           {
            "colorbar": {
             "outlinewidth": 0,
             "ticks": ""
            },
            "type": "choropleth"
           }
          ],
          "contour": [
           {
            "colorbar": {
             "outlinewidth": 0,
             "ticks": ""
            },
            "colorscale": [
             [
              0,
              "#0d0887"
             ],
             [
              0.1111111111111111,
              "#46039f"
             ],
             [
              0.2222222222222222,
              "#7201a8"
             ],
             [
              0.3333333333333333,
              "#9c179e"
             ],
             [
              0.4444444444444444,
              "#bd3786"
             ],
             [
              0.5555555555555556,
              "#d8576b"
             ],
             [
              0.6666666666666666,
              "#ed7953"
             ],
             [
              0.7777777777777778,
              "#fb9f3a"
             ],
             [
              0.8888888888888888,
              "#fdca26"
             ],
             [
              1,
              "#f0f921"
             ]
            ],
            "type": "contour"
           }
          ],
          "contourcarpet": [
           {
            "colorbar": {
             "outlinewidth": 0,
             "ticks": ""
            },
            "type": "contourcarpet"
           }
          ],
          "heatmap": [
           {
            "colorbar": {
             "outlinewidth": 0,
             "ticks": ""
            },
            "colorscale": [
             [
              0,
              "#0d0887"
             ],
             [
              0.1111111111111111,
              "#46039f"
             ],
             [
              0.2222222222222222,
              "#7201a8"
             ],
             [
              0.3333333333333333,
              "#9c179e"
             ],
             [
              0.4444444444444444,
              "#bd3786"
             ],
             [
              0.5555555555555556,
              "#d8576b"
             ],
             [
              0.6666666666666666,
              "#ed7953"
             ],
             [
              0.7777777777777778,
              "#fb9f3a"
             ],
             [
              0.8888888888888888,
              "#fdca26"
             ],
             [
              1,
              "#f0f921"
             ]
            ],
            "type": "heatmap"
           }
          ],
          "heatmapgl": [
           {
            "colorbar": {
             "outlinewidth": 0,
             "ticks": ""
            },
            "colorscale": [
             [
              0,
              "#0d0887"
             ],
             [
              0.1111111111111111,
              "#46039f"
             ],
             [
              0.2222222222222222,
              "#7201a8"
             ],
             [
              0.3333333333333333,
              "#9c179e"
             ],
             [
              0.4444444444444444,
              "#bd3786"
             ],
             [
              0.5555555555555556,
              "#d8576b"
             ],
             [
              0.6666666666666666,
              "#ed7953"
             ],
             [
              0.7777777777777778,
              "#fb9f3a"
             ],
             [
              0.8888888888888888,
              "#fdca26"
             ],
             [
              1,
              "#f0f921"
             ]
            ],
            "type": "heatmapgl"
           }
          ],
          "histogram": [
           {
            "marker": {
             "pattern": {
              "fillmode": "overlay",
              "size": 10,
              "solidity": 0.2
             }
            },
            "type": "histogram"
           }
          ],
          "histogram2d": [
           {
            "colorbar": {
             "outlinewidth": 0,
             "ticks": ""
            },
            "colorscale": [
             [
              0,
              "#0d0887"
             ],
             [
              0.1111111111111111,
              "#46039f"
             ],
             [
              0.2222222222222222,
              "#7201a8"
             ],
             [
              0.3333333333333333,
              "#9c179e"
             ],
             [
              0.4444444444444444,
              "#bd3786"
             ],
             [
              0.5555555555555556,
              "#d8576b"
             ],
             [
              0.6666666666666666,
              "#ed7953"
             ],
             [
              0.7777777777777778,
              "#fb9f3a"
             ],
             [
              0.8888888888888888,
              "#fdca26"
             ],
             [
              1,
              "#f0f921"
             ]
            ],
            "type": "histogram2d"
           }
          ],
          "histogram2dcontour": [
           {
            "colorbar": {
             "outlinewidth": 0,
             "ticks": ""
            },
            "colorscale": [
             [
              0,
              "#0d0887"
             ],
             [
              0.1111111111111111,
              "#46039f"
             ],
             [
              0.2222222222222222,
              "#7201a8"
             ],
             [
              0.3333333333333333,
              "#9c179e"
             ],
             [
              0.4444444444444444,
              "#bd3786"
             ],
             [
              0.5555555555555556,
              "#d8576b"
             ],
             [
              0.6666666666666666,
              "#ed7953"
             ],
             [
              0.7777777777777778,
              "#fb9f3a"
             ],
             [
              0.8888888888888888,
              "#fdca26"
             ],
             [
              1,
              "#f0f921"
             ]
            ],
            "type": "histogram2dcontour"
           }
          ],
          "mesh3d": [
           {
            "colorbar": {
             "outlinewidth": 0,
             "ticks": ""
            },
            "type": "mesh3d"
           }
          ],
          "parcoords": [
           {
            "line": {
             "colorbar": {
              "outlinewidth": 0,
              "ticks": ""
             }
            },
            "type": "parcoords"
           }
          ],
          "pie": [
           {
            "automargin": true,
            "type": "pie"
           }
          ],
          "scatter": [
           {
            "fillpattern": {
             "fillmode": "overlay",
             "size": 10,
             "solidity": 0.2
            },
            "type": "scatter"
           }
          ],
          "scatter3d": [
           {
            "line": {
             "colorbar": {
              "outlinewidth": 0,
              "ticks": ""
             }
            },
            "marker": {
             "colorbar": {
              "outlinewidth": 0,
              "ticks": ""
             }
            },
            "type": "scatter3d"
           }
          ],
          "scattercarpet": [
           {
            "marker": {
             "colorbar": {
              "outlinewidth": 0,
              "ticks": ""
             }
            },
            "type": "scattercarpet"
           }
          ],
          "scattergeo": [
           {
            "marker": {
             "colorbar": {
              "outlinewidth": 0,
              "ticks": ""
             }
            },
            "type": "scattergeo"
           }
          ],
          "scattergl": [
           {
            "marker": {
             "colorbar": {
              "outlinewidth": 0,
              "ticks": ""
             }
            },
            "type": "scattergl"
           }
          ],
          "scattermapbox": [
           {
            "marker": {
             "colorbar": {
              "outlinewidth": 0,
              "ticks": ""
             }
            },
            "type": "scattermapbox"
           }
          ],
          "scatterpolar": [
           {
            "marker": {
             "colorbar": {
              "outlinewidth": 0,
              "ticks": ""
             }
            },
            "type": "scatterpolar"
           }
          ],
          "scatterpolargl": [
           {
            "marker": {
             "colorbar": {
              "outlinewidth": 0,
              "ticks": ""
             }
            },
            "type": "scatterpolargl"
           }
          ],
          "scatterternary": [
           {
            "marker": {
             "colorbar": {
              "outlinewidth": 0,
              "ticks": ""
             }
            },
            "type": "scatterternary"
           }
          ],
          "surface": [
           {
            "colorbar": {
             "outlinewidth": 0,
             "ticks": ""
            },
            "colorscale": [
             [
              0,
              "#0d0887"
             ],
             [
              0.1111111111111111,
              "#46039f"
             ],
             [
              0.2222222222222222,
              "#7201a8"
             ],
             [
              0.3333333333333333,
              "#9c179e"
             ],
             [
              0.4444444444444444,
              "#bd3786"
             ],
             [
              0.5555555555555556,
              "#d8576b"
             ],
             [
              0.6666666666666666,
              "#ed7953"
             ],
             [
              0.7777777777777778,
              "#fb9f3a"
             ],
             [
              0.8888888888888888,
              "#fdca26"
             ],
             [
              1,
              "#f0f921"
             ]
            ],
            "type": "surface"
           }
          ],
          "table": [
           {
            "cells": {
             "fill": {
              "color": "#EBF0F8"
             },
             "line": {
              "color": "white"
             }
            },
            "header": {
             "fill": {
              "color": "#C8D4E3"
             },
             "line": {
              "color": "white"
             }
            },
            "type": "table"
           }
          ]
         },
         "layout": {
          "annotationdefaults": {
           "arrowcolor": "#2a3f5f",
           "arrowhead": 0,
           "arrowwidth": 1
          },
          "autotypenumbers": "strict",
          "coloraxis": {
           "colorbar": {
            "outlinewidth": 0,
            "ticks": ""
           }
          },
          "colorscale": {
           "diverging": [
            [
             0,
             "#8e0152"
            ],
            [
             0.1,
             "#c51b7d"
            ],
            [
             0.2,
             "#de77ae"
            ],
            [
             0.3,
             "#f1b6da"
            ],
            [
             0.4,
             "#fde0ef"
            ],
            [
             0.5,
             "#f7f7f7"
            ],
            [
             0.6,
             "#e6f5d0"
            ],
            [
             0.7,
             "#b8e186"
            ],
            [
             0.8,
             "#7fbc41"
            ],
            [
             0.9,
             "#4d9221"
            ],
            [
             1,
             "#276419"
            ]
           ],
           "sequential": [
            [
             0,
             "#0d0887"
            ],
            [
             0.1111111111111111,
             "#46039f"
            ],
            [
             0.2222222222222222,
             "#7201a8"
            ],
            [
             0.3333333333333333,
             "#9c179e"
            ],
            [
             0.4444444444444444,
             "#bd3786"
            ],
            [
             0.5555555555555556,
             "#d8576b"
            ],
            [
             0.6666666666666666,
             "#ed7953"
            ],
            [
             0.7777777777777778,
             "#fb9f3a"
            ],
            [
             0.8888888888888888,
             "#fdca26"
            ],
            [
             1,
             "#f0f921"
            ]
           ],
           "sequentialminus": [
            [
             0,
             "#0d0887"
            ],
            [
             0.1111111111111111,
             "#46039f"
            ],
            [
             0.2222222222222222,
             "#7201a8"
            ],
            [
             0.3333333333333333,
             "#9c179e"
            ],
            [
             0.4444444444444444,
             "#bd3786"
            ],
            [
             0.5555555555555556,
             "#d8576b"
            ],
            [
             0.6666666666666666,
             "#ed7953"
            ],
            [
             0.7777777777777778,
             "#fb9f3a"
            ],
            [
             0.8888888888888888,
             "#fdca26"
            ],
            [
             1,
             "#f0f921"
            ]
           ]
          },
          "colorway": [
           "#636efa",
           "#EF553B",
           "#00cc96",
           "#ab63fa",
           "#FFA15A",
           "#19d3f3",
           "#FF6692",
           "#B6E880",
           "#FF97FF",
           "#FECB52"
          ],
          "font": {
           "color": "#2a3f5f"
          },
          "geo": {
           "bgcolor": "white",
           "lakecolor": "white",
           "landcolor": "#E5ECF6",
           "showlakes": true,
           "showland": true,
           "subunitcolor": "white"
          },
          "hoverlabel": {
           "align": "left"
          },
          "hovermode": "closest",
          "mapbox": {
           "style": "light"
          },
          "paper_bgcolor": "white",
          "plot_bgcolor": "#E5ECF6",
          "polar": {
           "angularaxis": {
            "gridcolor": "white",
            "linecolor": "white",
            "ticks": ""
           },
           "bgcolor": "#E5ECF6",
           "radialaxis": {
            "gridcolor": "white",
            "linecolor": "white",
            "ticks": ""
           }
          },
          "scene": {
           "xaxis": {
            "backgroundcolor": "#E5ECF6",
            "gridcolor": "white",
            "gridwidth": 2,
            "linecolor": "white",
            "showbackground": true,
            "ticks": "",
            "zerolinecolor": "white"
           },
           "yaxis": {
            "backgroundcolor": "#E5ECF6",
            "gridcolor": "white",
            "gridwidth": 2,
            "linecolor": "white",
            "showbackground": true,
            "ticks": "",
            "zerolinecolor": "white"
           },
           "zaxis": {
            "backgroundcolor": "#E5ECF6",
            "gridcolor": "white",
            "gridwidth": 2,
            "linecolor": "white",
            "showbackground": true,
            "ticks": "",
            "zerolinecolor": "white"
           }
          },
          "shapedefaults": {
           "line": {
            "color": "#2a3f5f"
           }
          },
          "ternary": {
           "aaxis": {
            "gridcolor": "white",
            "linecolor": "white",
            "ticks": ""
           },
           "baxis": {
            "gridcolor": "white",
            "linecolor": "white",
            "ticks": ""
           },
           "bgcolor": "#E5ECF6",
           "caxis": {
            "gridcolor": "white",
            "linecolor": "white",
            "ticks": ""
           }
          },
          "title": {
           "x": 0.05
          },
          "xaxis": {
           "automargin": true,
           "gridcolor": "white",
           "linecolor": "white",
           "ticks": "",
           "title": {
            "standoff": 15
           },
           "zerolinecolor": "white",
           "zerolinewidth": 2
          },
          "yaxis": {
           "automargin": true,
           "gridcolor": "white",
           "linecolor": "white",
           "ticks": "",
           "title": {
            "standoff": 15
           },
           "zerolinecolor": "white",
           "zerolinewidth": 2
          }
         }
        },
        "title": {
         "text": "Utilization % (Actual Production/Line Rate) by Week"
        },
        "xaxis": {
         "anchor": "y",
         "domain": [
          0,
          1
         ],
         "title": {
          "text": "week_nbr"
         }
        },
        "yaxis": {
         "anchor": "x",
         "domain": [
          0,
          1
         ],
         "title": {
          "text": "utilization"
         }
        }
       }
      }
     },
     "metadata": {},
     "output_type": "display_data"
    }
   ],
   "source": [
    "# df = df_utilization_plan.filter(pl.col(\"product_name\") == product_name)\n",
    "group_by_col = \"week_nbr\"\n",
    "df = df_utilization_plan.groupby(group_by_col).agg(\n",
    "    [\n",
    "        (pl.sum(\"production_plan\")*100/pl.sum(\"line_rate_per_day\")).round().alias(\"utilization\")\n",
    "    ]\n",
    ").sort(by = group_by_col)\n",
    "px.bar(df, x = group_by_col, y = \"utilization\", text=\"utilization\", title = \"Utilization % (Actual Production/Line Rate) by Week\")"
   ]
  },
  {
   "cell_type": "code",
   "execution_count": null,
   "metadata": {},
   "outputs": [],
   "source": []
  },
  {
   "cell_type": "markdown",
   "metadata": {},
   "source": [
    "#### Model Outputs"
   ]
  },
  {
   "cell_type": "code",
   "execution_count": 23,
   "metadata": {},
   "outputs": [],
   "source": [
    "# df_prod_plan = pl.read_excel(source = \"../Output/output_20230806174322.xlsx\", sheet_name = \"daily_production_plan\")\n",
    "# df_prod_plan = df_prod_plan.drop(columns = \"material_cd\")\n",
    "# df_prod_plan = df_prod_plan.melt(\n",
    "#     id_vars=[\"product_name\"], \n",
    "#     value_vars = [str(i) for i in range(335)] , \n",
    "#     variable_name = \"day_number\",\n",
    "#     value_name = \"production_status\"\n",
    "# ).with_columns(pl.col(\"day_number\").cast(pl.Int16))\n",
    "# df_prod_plan = df_prod_plan.with_columns((pl.col(\"day_number\")/7).floor().cast(pl.Int64).alias(\"week_nbr\"))\n",
    "# df_prod_plan = df_prod_plan.join(\n",
    "#     data_mps[[\"product_name\",\"week_nbr\",\"production_plan_AL\"]], \n",
    "#     on = [\"product_name\",\"week_nbr\"], \n",
    "#     how = \"left\"\n",
    "# )\n",
    "# df_prod_weekly = df_prod_plan.group_by([\"product_name\",\"week_nbr\"]).agg([\n",
    "#     pl.sum(\"production_status\").alias(\"total_days\")\n",
    "# ]).sort(by = \"week_nbr\")\n",
    "# df_prod_plan = df_prod_plan.join(df_prod_weekly,on = [\"product_name\",\"week_nbr\"])\n",
    "# df_prod_plan  = df_prod_plan.with_columns((pl.col(\"production_status\")/pl.col(\"total_days\")).alias(\"contribution\"))\n",
    "# df_prod_plan = df_prod_plan.fill_nan(0)\n",
    "# df_prod_plan = df_prod_plan.with_columns((pl.col(\"contribution\")*pl.col(\"production_plan_AL\")).alias(\"production\"))\n",
    "# df_prod_plan.head()"
   ]
  },
  {
   "cell_type": "code",
   "execution_count": 24,
   "metadata": {},
   "outputs": [],
   "source": [
    "# df_co = data_co\n",
    "# df_co = df_co.with_columns(\n",
    "#     [\n",
    "#         pl.col(\"period\").cast(pl.Float64),\n",
    "#         pl.col(\"CO_Time\").cast(pl.Float64)\n",
    "#     ]\n",
    "# )\n",
    "# df_co = df_co.filter(pl.col(\"CO_Flag\") == \"TRUE\").sort(by = \"period\")\n",
    "# df_co = df_co.with_columns(pl.col(\"period\").shift(1).alias(\"period_start\"))\n",
    "# df_co = df_co.with_columns(pl.col(\"period\").alias(\"period_end\"))\n",
    "# df_co = df_co.with_columns(pl.col(\"period\").diff().alias(\"run_length\")).fill_null(value = 0)\n",
    "# df_co.head()"
   ]
  },
  {
   "cell_type": "code",
   "execution_count": 25,
   "metadata": {},
   "outputs": [],
   "source": [
    "# df_run_length_model = df_co.group_by(\"from_product_name\").agg(\n",
    "#     [\n",
    "#         pl.mean(\"run_length\").round(1).alias(\"mean_run_length_model\"),\n",
    "#         pl.max(\"run_length\").round(1).alias(\"max_run_length_model\"),\n",
    "#         pl.min(\"run_length\").round(1).alias(\"min_run_length_model\"),\n",
    "#         pl.std(\"run_length\").round(1).alias(\"standard_deviation_run_length_model\"),\n",
    "#         pl.count(\"run_length\").alias(\"count_runs_model\")\n",
    "#     ]\n",
    "# )\n",
    "# df_run_length_model"
   ]
  },
  {
   "cell_type": "code",
   "execution_count": null,
   "metadata": {},
   "outputs": [],
   "source": []
  },
  {
   "cell_type": "code",
   "execution_count": 26,
   "metadata": {},
   "outputs": [],
   "source": [
    "# df_cycle_time_actual = data_prod_log.with_columns(pl.when(pl.col(\"activity\") != \"NP\").then(\"CO\").otherwise(\"NP\").alias(\"activity\"))\n",
    "# df_cycle_time_actual = df_cycle_time_actual.with_columns(pl.col(\"activity\").shift(1).alias(\"prev_activity\"))\n",
    "# df_cycle_time_actual = df_cycle_time_actual.with_columns(\n",
    "#     pl.when((pl.col(\"activity\") == \"CO\") & (pl.col(\"prev_activity\") == \"NP\"))\n",
    "#     .then(1)\n",
    "#     .otherwise(0)\n",
    "#     .alias(\"co_start_status\")\n",
    "# )\n",
    "# df_cycle_time_actual = df_cycle_time_actual.with_columns(\n",
    "#     pl.col(\"co_start_status\").cumsum().alias(\"co_id\")\n",
    "# )\n",
    "# df_cycle_time_actual = df_cycle_time_actual.with_columns(\n",
    "#     pl.when(pl.col(\"activity\") == \"NP\").then(None).otherwise(pl.col(\"co_id\")).alias(\"co_id\")\n",
    "# )\n",
    "# df_cycle_time_actual = df_cycle_time_actual.group_by([\"product_name\",\"co_id\"]).agg(\n",
    "#     [\n",
    "#         pl.col(\"production_duration\").sum().alias(\"cycle_days\")\n",
    "#     ]\n",
    "# ).drop_nulls()\n",
    "# df_cycle_time_actual = df_cycle_time_actual.group_by([\"product_name\"]).agg(\n",
    "#     [\n",
    "#         pl.mean(\"cycle_days\").round(1).alias(\"mean_cycle_days_act\"),\n",
    "#         pl.max(\"cycle_days\").round(1).alias(\"max_cycle_days_act\"),\n",
    "#         pl.min(\"cycle_days\").round(1).alias(\"min_cycle_days_act\"),\n",
    "#         pl.std(\"cycle_days\").round(1).alias(\"std_cycle_days_act\")\n",
    "#     ]\n",
    "# )\n",
    "# df_run_length_actual = data_prod_log.filter(pl.col(\"activity\") == \"NP\")\n",
    "# df_run_length_actual = df_run_length_actual.with_columns(\n",
    "#     (pl.col(\"production_duration\")/24).alias(\"run_length_days\"))\n",
    "# df_run_length_actual = df_run_length_actual.group_by(\"product_name\").agg(\n",
    "#     [\n",
    "#         pl.mean(\"run_length_days\").round(1).alias(\"mean_run_length_act\"),\n",
    "#         pl.max(\"run_length_days\").round(1).alias(\"max_run_length_act\"),\n",
    "#         pl.min(\"run_length_days\").round(1).alias(\"min_run_length_act\"),\n",
    "#         pl.std(\"run_length_days\").round(1).alias(\"standard_deviation_run_length_act\"),\n",
    "#         pl.count(\"run_length_days\").alias(\"count_runs_actual\")\n",
    "#     ]\n",
    "# )\n",
    "# df_run_length_cycle_time_act = df_run_length_actual.join(\n",
    "#     df_cycle_time_actual,\n",
    "#     on = \"product_name\"\n",
    "# )\n",
    "# df_run_length_cycle_time_act"
   ]
  }
 ],
 "metadata": {
  "kernelspec": {
   "display_name": "sequencing",
   "language": "python",
   "name": "python3"
  },
  "language_info": {
   "codemirror_mode": {
    "name": "ipython",
    "version": 3
   },
   "file_extension": ".py",
   "mimetype": "text/x-python",
   "name": "python",
   "nbconvert_exporter": "python",
   "pygments_lexer": "ipython3",
   "version": "3.11.4"
  },
  "orig_nbformat": 4
 },
 "nbformat": 4,
 "nbformat_minor": 2
}
