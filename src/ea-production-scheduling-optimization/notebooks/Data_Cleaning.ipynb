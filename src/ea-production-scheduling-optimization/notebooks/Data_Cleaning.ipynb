{
 "cells": [
  {
   "cell_type": "code",
   "execution_count": 1,
   "metadata": {},
   "outputs": [],
   "source": [
    "import pandas as pd\n",
    "import numpy as np\n",
    "import datetime as dt\n",
    "import math"
   ]
  },
  {
   "cell_type": "code",
   "execution_count": 5,
   "metadata": {},
   "outputs": [],
   "source": [
    "data_id = pd.read_excel(\"../data/F23_Inventory_Demand.xlsx\", sheet_name=\"Chewy\")\n",
    "data_cf = pd.read_excel(\"../data/F23_Inventory_Demand.xlsx\", sheet_name=\"Conversion Factor\")\n",
    "data_parent_product_mapping = pd.read_excel(\"../data/F23_Inventory_Demand.xlsx\",sheet_name=\"parent_product_mapping\")"
   ]
  },
  {
   "cell_type": "code",
   "execution_count": 31,
   "metadata": {},
   "outputs": [],
   "source": [
    "# print(data_id.info())\n",
    "# print(data_cf.info())\n",
    "# print(data_material_conversion.info())"
   ]
  },
  {
   "cell_type": "code",
   "execution_count": 14,
   "metadata": {},
   "outputs": [],
   "source": [
    "df = data_id.copy()\n",
    "df = df[(df[\"FiscalDate\"] <= dt.datetime(2023,6,1)) & \n",
    "        (df[\"FiscalDate\"] >= dt.datetime(2022,6,1)) & \n",
    "        (df[\"REGION\"] == \"NAT\")]\n",
    "df = df[df[\"BASEPRD_NBR\"].isin(data_parent_product_mapping[\"material_code_packaging\"])]\n",
    "df[\"LastFiscalYearEndDate\"] = dt.datetime(2022,6,5)\n",
    "df[\"day_number\"] = (df[\"FiscalDate\"] - df[\"LastFiscalYearEndDate\"]).dt.total_seconds()/(24*60*60)\n",
    "df[\"week_number\"] = df.apply(lambda x: math.floor(x[\"day_number\"]/7), axis = 1)\n",
    "df = df.merge(data_parent_product_mapping,how = \"left\", left_on = \"BASEPRD_NBR\", right_on = \"material_code_packaging\")\n",
    "df = df.merge(\n",
    "    data_cf[[\"material_cd\",\"conversion_factor\"]], \n",
    "    how = \"left\", \n",
    "    left_on = \"BASEPRD_NBR\", \n",
    "    right_on = \"material_cd\"\n",
    ")"
   ]
  },
  {
   "cell_type": "code",
   "execution_count": 15,
   "metadata": {},
   "outputs": [
    {
     "data": {
      "text/html": [
       "<div>\n",
       "<style scoped>\n",
       "    .dataframe tbody tr th:only-of-type {\n",
       "        vertical-align: middle;\n",
       "    }\n",
       "\n",
       "    .dataframe tbody tr th {\n",
       "        vertical-align: top;\n",
       "    }\n",
       "\n",
       "    .dataframe thead th {\n",
       "        text-align: right;\n",
       "    }\n",
       "</style>\n",
       "<table border=\"1\" class=\"dataframe\">\n",
       "  <thead>\n",
       "    <tr style=\"text-align: right;\">\n",
       "      <th></th>\n",
       "      <th>week_number</th>\n",
       "      <th>material_cd</th>\n",
       "      <th>demand</th>\n",
       "    </tr>\n",
       "  </thead>\n",
       "  <tbody>\n",
       "    <tr>\n",
       "      <th>7</th>\n",
       "      <td>0</td>\n",
       "      <td>4104398000</td>\n",
       "      <td>3.365120e+06</td>\n",
       "    </tr>\n",
       "    <tr>\n",
       "      <th>8</th>\n",
       "      <td>0</td>\n",
       "      <td>4127706000</td>\n",
       "      <td>2.010240e+06</td>\n",
       "    </tr>\n",
       "    <tr>\n",
       "      <th>9</th>\n",
       "      <td>0</td>\n",
       "      <td>4127707000</td>\n",
       "      <td>4.759599e+06</td>\n",
       "    </tr>\n",
       "    <tr>\n",
       "      <th>10</th>\n",
       "      <td>0</td>\n",
       "      <td>4127855000</td>\n",
       "      <td>1.469470e+06</td>\n",
       "    </tr>\n",
       "    <tr>\n",
       "      <th>11</th>\n",
       "      <td>0</td>\n",
       "      <td>4129853000</td>\n",
       "      <td>4.135440e+05</td>\n",
       "    </tr>\n",
       "  </tbody>\n",
       "</table>\n",
       "</div>"
      ],
      "text/plain": [
       "    week_number  material_cd        demand\n",
       "7             0   4104398000  3.365120e+06\n",
       "8             0   4127706000  2.010240e+06\n",
       "9             0   4127707000  4.759599e+06\n",
       "10            0   4127855000  1.469470e+06\n",
       "11            0   4129853000  4.135440e+05"
      ]
     },
     "execution_count": 15,
     "metadata": {},
     "output_type": "execute_result"
    }
   ],
   "source": [
    "df_demand = df.copy()\n",
    "df_demand[\"demand\"] = df_demand[\"EQC_DLVR_QTY\"]*df_demand[\"conversion_factor\"]\n",
    "df_demand = pd.pivot_table(\n",
    "    df_demand,index = [\"week_number\",\"material_code_processing\"],values = \"demand\",aggfunc = \"sum\"\n",
    ").reset_index()\n",
    "df_demand = df_demand[df_demand[\"week_number\"] >= 0].copy()\n",
    "df_demand = df_demand.rename(columns={\"material_code_processing\":\"material_cd\"})\n",
    "df_demand.head()"
   ]
  },
  {
   "cell_type": "code",
   "execution_count": 19,
   "metadata": {},
   "outputs": [],
   "source": [
    "df_demand.to_csv(\"../data/Demand.csv\")"
   ]
  },
  {
   "cell_type": "code",
   "execution_count": 5,
   "metadata": {},
   "outputs": [],
   "source": [
    "# df = data_id.copy()\n",
    "# df = df[(df[\"FiscalDate\"] <= dt.datetime(2023,5,1)) & \n",
    "#         (df[\"FiscalDate\"] >= dt.datetime(2022,6,1)) & \n",
    "#         (df[\"REGION\"] == \"NAT\")]\n",
    "# df = df[df[\"BASEPRD_NBR\"].isin(data_cf[\"material_cd\"])]\n",
    "# df[\"LastFiscalYearEndDate\"] = dt.datetime(2022,6,5)\n",
    "# df[\"day_number\"] = (df[\"FiscalDate\"] - df[\"LastFiscalYearEndDate\"]).dt.total_seconds()/(24*60*60)\n",
    "# df[\"week_number\"] = df.apply(lambda x: math.floor(x[\"day_number\"]/7), axis = 1)\n",
    "# df_demand = pd.pivot_table(\n",
    "#     df,index = [\"week_number\",\"BASEPRD_NBR\"],values = \"EQC_DLVR_QTY\",aggfunc = \"sum\"\n",
    "# ).reset_index().rename(columns = {\"EQC_DLVR_QTY\":\"demand_eqc\"})\n",
    "# df_demand = df_demand.merge(\n",
    "#     data_cf[[\"material_cd\",\"conversion_factor\"]], \n",
    "#     how = \"left\", \n",
    "#     left_on = \"BASEPRD_NBR\", \n",
    "#     right_on = \"material_cd\"\n",
    "# )\n",
    "# df_demand[\"demand\"] = df_demand[\"demand_eqc\"]*df_demand[\"conversion_factor\"]\n",
    "# df_demand = df_demand[df_demand[\"week_number\"] >= 0].copy()\n",
    "# df_demand.head()"
   ]
  },
  {
   "cell_type": "code",
   "execution_count": 16,
   "metadata": {},
   "outputs": [
    {
     "data": {
      "text/html": [
       "<div>\n",
       "<style scoped>\n",
       "    .dataframe tbody tr th:only-of-type {\n",
       "        vertical-align: middle;\n",
       "    }\n",
       "\n",
       "    .dataframe tbody tr th {\n",
       "        vertical-align: top;\n",
       "    }\n",
       "\n",
       "    .dataframe thead th {\n",
       "        text-align: right;\n",
       "    }\n",
       "</style>\n",
       "<table border=\"1\" class=\"dataframe\">\n",
       "  <thead>\n",
       "    <tr style=\"text-align: right;\">\n",
       "      <th></th>\n",
       "      <th>week_number</th>\n",
       "      <th>material_cd</th>\n",
       "      <th>FiscalDate</th>\n",
       "      <th>inventory</th>\n",
       "    </tr>\n",
       "  </thead>\n",
       "  <tbody>\n",
       "    <tr>\n",
       "      <th>7</th>\n",
       "      <td>0</td>\n",
       "      <td>4104398000</td>\n",
       "      <td>2022-06-11</td>\n",
       "      <td>2.555394e+07</td>\n",
       "    </tr>\n",
       "    <tr>\n",
       "      <th>8</th>\n",
       "      <td>0</td>\n",
       "      <td>4127706000</td>\n",
       "      <td>2022-06-11</td>\n",
       "      <td>2.443675e+07</td>\n",
       "    </tr>\n",
       "    <tr>\n",
       "      <th>9</th>\n",
       "      <td>0</td>\n",
       "      <td>4127707000</td>\n",
       "      <td>2022-06-11</td>\n",
       "      <td>2.760308e+07</td>\n",
       "    </tr>\n",
       "    <tr>\n",
       "      <th>10</th>\n",
       "      <td>0</td>\n",
       "      <td>4127855000</td>\n",
       "      <td>2022-06-11</td>\n",
       "      <td>1.107513e+07</td>\n",
       "    </tr>\n",
       "    <tr>\n",
       "      <th>11</th>\n",
       "      <td>0</td>\n",
       "      <td>4129853000</td>\n",
       "      <td>2022-06-11</td>\n",
       "      <td>4.998072e+06</td>\n",
       "    </tr>\n",
       "  </tbody>\n",
       "</table>\n",
       "</div>"
      ],
      "text/plain": [
       "    week_number  material_cd FiscalDate     inventory\n",
       "7             0   4104398000 2022-06-11  2.555394e+07\n",
       "8             0   4127706000 2022-06-11  2.443675e+07\n",
       "9             0   4127707000 2022-06-11  2.760308e+07\n",
       "10            0   4127855000 2022-06-11  1.107513e+07\n",
       "11            0   4129853000 2022-06-11  4.998072e+06"
      ]
     },
     "execution_count": 16,
     "metadata": {},
     "output_type": "execute_result"
    }
   ],
   "source": [
    "df_inv = df.copy()\n",
    "df_inv[\"inventory\"] = df_inv[\"Inventory\"]*df_inv[\"conversion_factor\"]\n",
    "df_inv = pd.pivot_table(df_inv,index = [\"week_number\",\"material_code_processing\",\"FiscalDate\"],values=\"inventory\", aggfunc=\"sum\").reset_index()\n",
    "df_inv_week_end = pd.pivot_table(df,index = [\"week_number\",\"material_code_processing\"],values = \"FiscalDate\",aggfunc = \"max\").reset_index()\n",
    "df_inv = df_inv_week_end.merge(\n",
    "    df_inv[[\"FiscalDate\",\"material_code_processing\",\"inventory\"]],\n",
    "    how = \"left\",\n",
    "    on = [\"FiscalDate\",\"material_code_processing\"]\n",
    ")\n",
    "df_inv = df_inv[df_inv[\"week_number\"] >= 0].copy()\n",
    "df_inv = df_inv.rename(columns = {\"material_code_processing\":\"material_cd\"})\n",
    "df_inv.head()"
   ]
  },
  {
   "cell_type": "code",
   "execution_count": 20,
   "metadata": {},
   "outputs": [],
   "source": [
    "df_inv.to_csv(\"../data/inventory.csv\")"
   ]
  },
  {
   "cell_type": "code",
   "execution_count": 13,
   "metadata": {},
   "outputs": [],
   "source": [
    "# df_inv = pd.pivot_table(df,index = [\"week_number\",\"BASEPRD_NBR\"],values = \"FiscalDate\",aggfunc = \"max\").reset_index()\n",
    "# df_inv = df_inv.merge(\n",
    "#     df[[\"FiscalDate\",\"BASEPRD_NBR\",\"Inventory\"]],\n",
    "#     how = \"left\",\n",
    "#     on = [\"FiscalDate\",\"BASEPRD_NBR\"]\n",
    "# ).rename(columns = {\"Inventory\":\"inventory_eqc\"})\n",
    "# df_inv = df_inv.merge(\n",
    "#     data_cf[[\"material_cd\",\"conversion_factor\"]],\n",
    "#     how = \"left\",\n",
    "#     left_on = \"BASEPRD_NBR\",\n",
    "#     right_on = \"material_cd\"\n",
    "# )\n",
    "# df_inv[\"inventory\"] = df_inv[\"inventory_eqc\"]*df_inv[\"conversion_factor\"]\n",
    "# df_inv = df_inv[df_inv[\"week_number\"] >= 0].copy()\n",
    "# df_inv.head()"
   ]
  },
  {
   "cell_type": "code",
   "execution_count": 21,
   "metadata": {},
   "outputs": [
    {
     "data": {
      "text/html": [
       "<div>\n",
       "<style scoped>\n",
       "    .dataframe tbody tr th:only-of-type {\n",
       "        vertical-align: middle;\n",
       "    }\n",
       "\n",
       "    .dataframe tbody tr th {\n",
       "        vertical-align: top;\n",
       "    }\n",
       "\n",
       "    .dataframe thead th {\n",
       "        text-align: right;\n",
       "    }\n",
       "</style>\n",
       "<table border=\"1\" class=\"dataframe\">\n",
       "  <thead>\n",
       "    <tr style=\"text-align: right;\">\n",
       "      <th></th>\n",
       "      <th>material_cd</th>\n",
       "      <th>days_before</th>\n",
       "      <th>inventory</th>\n",
       "    </tr>\n",
       "  </thead>\n",
       "  <tbody>\n",
       "    <tr>\n",
       "      <th>0</th>\n",
       "      <td>4104398000</td>\n",
       "      <td>1.0</td>\n",
       "      <td>2.665031e+07</td>\n",
       "    </tr>\n",
       "    <tr>\n",
       "      <th>1</th>\n",
       "      <td>4127706000</td>\n",
       "      <td>1.0</td>\n",
       "      <td>1.583866e+07</td>\n",
       "    </tr>\n",
       "    <tr>\n",
       "      <th>2</th>\n",
       "      <td>4127707000</td>\n",
       "      <td>1.0</td>\n",
       "      <td>2.027423e+07</td>\n",
       "    </tr>\n",
       "    <tr>\n",
       "      <th>3</th>\n",
       "      <td>4127855000</td>\n",
       "      <td>1.0</td>\n",
       "      <td>8.462518e+06</td>\n",
       "    </tr>\n",
       "    <tr>\n",
       "      <th>4</th>\n",
       "      <td>4129853000</td>\n",
       "      <td>1.0</td>\n",
       "      <td>3.312888e+06</td>\n",
       "    </tr>\n",
       "    <tr>\n",
       "      <th>5</th>\n",
       "      <td>4145723000</td>\n",
       "      <td>1.0</td>\n",
       "      <td>1.927490e+07</td>\n",
       "    </tr>\n",
       "    <tr>\n",
       "      <th>6</th>\n",
       "      <td>4145796000</td>\n",
       "      <td>1.0</td>\n",
       "      <td>3.454704e+06</td>\n",
       "    </tr>\n",
       "  </tbody>\n",
       "</table>\n",
       "</div>"
      ],
      "text/plain": [
       "   material_cd  days_before     inventory\n",
       "0   4104398000          1.0  2.665031e+07\n",
       "1   4127706000          1.0  1.583866e+07\n",
       "2   4127707000          1.0  2.027423e+07\n",
       "3   4127855000          1.0  8.462518e+06\n",
       "4   4129853000          1.0  3.312888e+06\n",
       "5   4145723000          1.0  1.927490e+07\n",
       "6   4145796000          1.0  3.454704e+06"
      ]
     },
     "execution_count": 21,
     "metadata": {},
     "output_type": "execute_result"
    }
   ],
   "source": [
    "df = data_id.copy()\n",
    "df = df[(df[\"FiscalDate\"] < dt.datetime(2022,6,6)) & \n",
    "        (df[\"REGION\"] == \"NAT\")]\n",
    "df = df[df[\"BASEPRD_NBR\"].isin(data_cf[\"material_cd\"])]\n",
    "df[\"NextFiscalYearStartDate\"] = dt.datetime(2022,6,6)\n",
    "df[\"days_before\"] = (df[\"NextFiscalYearStartDate\"] - df[\"FiscalDate\"]).dt.total_seconds()/(24*60*60)\n",
    "df = df.merge(data_parent_product_mapping,how = \"left\", left_on = \"BASEPRD_NBR\", right_on = \"material_code_packaging\")\n",
    "df = df.merge(\n",
    "    data_cf[[\"material_cd\",\"conversion_factor\"]], \n",
    "    how = \"left\", \n",
    "    left_on = \"BASEPRD_NBR\", \n",
    "    right_on = \"material_cd\"\n",
    ")\n",
    "df[\"inventory\"] = df[\"Inventory\"]*df[\"conversion_factor\"]\n",
    "df = pd.pivot_table(df, index = [\"material_code_processing\",\"days_before\"],values = \"inventory\",aggfunc=\"sum\").reset_index()\n",
    "df_inv = pd.pivot_table(df,index = \"material_code_processing\", values = \"days_before\",aggfunc=\"min\").reset_index()\n",
    "df_inv = df_inv.merge(df,how = \"left\",on = [\"material_code_processing\",\"days_before\"])\n",
    "df_inv = df_inv.rename(columns = {\"material_code_processing\":\"material_cd\"})\n",
    "df_inv"
   ]
  },
  {
   "cell_type": "code",
   "execution_count": 22,
   "metadata": {},
   "outputs": [],
   "source": [
    "df_inv.to_csv(\"../data/Beginning_Inventory.csv\")"
   ]
  },
  {
   "cell_type": "code",
   "execution_count": 25,
   "metadata": {},
   "outputs": [],
   "source": [
    "# df_demand.to_csv(\"Demand.csv\", index = False)\n",
    "# df_inv.to_csv(\"Inventory.csv\", index = False)"
   ]
  },
  {
   "cell_type": "code",
   "execution_count": 3,
   "metadata": {},
   "outputs": [
    {
     "data": {
      "text/html": [
       "<div>\n",
       "<style scoped>\n",
       "    .dataframe tbody tr th:only-of-type {\n",
       "        vertical-align: middle;\n",
       "    }\n",
       "\n",
       "    .dataframe tbody tr th {\n",
       "        vertical-align: top;\n",
       "    }\n",
       "\n",
       "    .dataframe thead th {\n",
       "        text-align: right;\n",
       "    }\n",
       "</style>\n",
       "<table border=\"1\" class=\"dataframe\">\n",
       "  <thead>\n",
       "    <tr style=\"text-align: right;\">\n",
       "      <th></th>\n",
       "      <th>material_code_processing</th>\n",
       "      <th>week_nbr</th>\n",
       "      <th>actual_production</th>\n",
       "    </tr>\n",
       "  </thead>\n",
       "  <tbody>\n",
       "    <tr>\n",
       "      <th>0</th>\n",
       "      <td>4104398000</td>\n",
       "      <td>0</td>\n",
       "      <td>7.520716e+06</td>\n",
       "    </tr>\n",
       "    <tr>\n",
       "      <th>1</th>\n",
       "      <td>4104398000</td>\n",
       "      <td>1</td>\n",
       "      <td>1.814407e+04</td>\n",
       "    </tr>\n",
       "    <tr>\n",
       "      <th>2</th>\n",
       "      <td>4104398000</td>\n",
       "      <td>2</td>\n",
       "      <td>0.000000e+00</td>\n",
       "    </tr>\n",
       "    <tr>\n",
       "      <th>3</th>\n",
       "      <td>4104398000</td>\n",
       "      <td>3</td>\n",
       "      <td>0.000000e+00</td>\n",
       "    </tr>\n",
       "    <tr>\n",
       "      <th>4</th>\n",
       "      <td>4104398000</td>\n",
       "      <td>4</td>\n",
       "      <td>4.794845e+06</td>\n",
       "    </tr>\n",
       "  </tbody>\n",
       "</table>\n",
       "</div>"
      ],
      "text/plain": [
       "   material_code_processing  week_nbr  actual_production\n",
       "0                4104398000         0       7.520716e+06\n",
       "1                4104398000         1       1.814407e+04\n",
       "2                4104398000         2       0.000000e+00\n",
       "3                4104398000         3       0.000000e+00\n",
       "4                4104398000         4       4.794845e+06"
      ]
     },
     "execution_count": 3,
     "metadata": {},
     "output_type": "execute_result"
    }
   ],
   "source": [
    "df_act_prod = pd.read_excel(\"../data/F23_Prod_Weekly.xlsx\", sheet_name=\"Actual Production Weekly\")\n",
    "df_act_prod = df_act_prod[df_act_prod[\"Material\"].isin(data_parent_product_mapping[\"material_code_packaging\"])]\n",
    "# df_act_prod = df_act_prod[df_act_prod[\"Plant\"] != \"AL\"]\n",
    "df_act_prod = df_act_prod.merge(\n",
    "    data_cf[[\"material_cd\",\"conversion_factor\"]],\n",
    "    how = \"left\", left_on = \"Material\", right_on = \"material_cd\")\n",
    "df_act_prod = df_act_prod.merge(\n",
    "    data_parent_product_mapping,\n",
    "    how = \"left\",left_on = \"Material\",right_on = \"material_code_packaging\")\n",
    "df_act_prod[\"week_nbr\"] = df_act_prod[\"Fiscal Week ID\"] - 1\n",
    "df_act_prod[\"actual_production\"] = df_act_prod[\"Actual Production (EQC)\"]*df_act_prod[\"conversion_factor\"]\n",
    "df_act_prod = pd.pivot_table(\n",
    "    df_act_prod, index = [\"material_code_processing\",\"week_nbr\"], \n",
    "    values=\"actual_production\", aggfunc = \"sum\").reset_index()\n",
    "df_act_prod.rename(columns = {\"material_code_processing\":\"material_cd\"})\n",
    "df_act_prod.head()"
   ]
  },
  {
   "cell_type": "code",
   "execution_count": 4,
   "metadata": {},
   "outputs": [],
   "source": [
    "# df_act_prod.to_csv(\"../Others/Actual_Production.csv\")"
   ]
  },
  {
   "cell_type": "code",
   "execution_count": null,
   "metadata": {},
   "outputs": [],
   "source": []
  },
  {
   "cell_type": "code",
   "execution_count": 1,
   "metadata": {},
   "outputs": [],
   "source": [
    "import polars as pl\n",
    "import numpy as np\n",
    "import pandas as pd"
   ]
  },
  {
   "cell_type": "code",
   "execution_count": 6,
   "metadata": {},
   "outputs": [],
   "source": [
    "df_mps = pl.read_excel(source = \"../output/output_20231024214820.xlsx\",sheet_name = \"MPS\")\n",
    "df_beg_inv = pl.read_excel(source = \"../output/output_20231024214820.xlsx\",sheet_name = \"beginning_inventory\")"
   ]
  },
  {
   "cell_type": "code",
   "execution_count": 3,
   "metadata": {},
   "outputs": [
    {
     "data": {
      "text/html": [
       "<div><style>\n",
       ".dataframe > thead > tr > th,\n",
       ".dataframe > tbody > tr > td {\n",
       "  text-align: right;\n",
       "}\n",
       "</style>\n",
       "<small>shape: (2, 19)</small><table border=\"1\" class=\"dataframe\"><thead><tr><th></th><th>material_cd</th><th>week_nbr</th><th>production_plan</th><th>actual_production_non_AL</th><th>actual_production_AL</th><th>actual_production</th><th>demand</th><th>total_production_plan</th><th>inventory_excess_plan</th><th>inventory_shortage_plan</th><th>inventory_overflow_plan</th><th>product_name</th><th>week_start_date</th><th>safety_stock</th><th>inventory_plan</th><th>FiscalDate</th><th>inventory_actual</th><th>inventory_shortage_actual</th></tr><tr><td>i64</td><td>i64</td><td>i64</td><td>i64</td><td>f64</td><td>f64</td><td>f64</td><td>f64</td><td>f64</td><td>f64</td><td>f64</td><td>f64</td><td>str</td><td>str</td><td>f64</td><td>f64</td><td>str</td><td>f64</td><td>f64</td></tr></thead><tbody><tr><td>0</td><td>4104398000</td><td>0</td><td>0</td><td>7.5207e6</td><td>0.0</td><td>7.5207e6</td><td>3.3651e6</td><td>7.5207e6</td><td>2.2296e7</td><td>0.0</td><td>6.9607e6</td><td>&quot;CH TRAIL MIX F…</td><td>&quot;2022-06-06 00:…</td><td>8.5100e6</td><td>3.7767e7</td><td>&quot;2022-06-11 00:…</td><td>2.5554e7</td><td>1.7044e7</td></tr><tr><td>1</td><td>4125119120</td><td>0</td><td>0</td><td>0.0</td><td>0.0</td><td>0.0</td><td>0.0</td><td>0.0</td><td>0.0</td><td>0.0</td><td>0.0</td><td>&quot;CH REESES TREA…</td><td>&quot;2022-06-06 00:…</td><td>0.0</td><td>0.0</td><td>null</td><td>0.0</td><td>0.0</td></tr></tbody></table></div>"
      ],
      "text/plain": [
       "shape: (2, 19)\n",
       "┌─────┬────────────┬──────────┬────────────┬───┬────────────┬────────────┬────────────┬────────────┐\n",
       "│     ┆ material_c ┆ week_nbr ┆ production ┆ … ┆ inventory_ ┆ FiscalDate ┆ inventory_ ┆ inventory_ │\n",
       "│ --- ┆ d          ┆ ---      ┆ _plan      ┆   ┆ plan       ┆ ---        ┆ actual     ┆ shortage_a │\n",
       "│ i64 ┆ ---        ┆ i64      ┆ ---        ┆   ┆ ---        ┆ str        ┆ ---        ┆ ctual      │\n",
       "│     ┆ i64        ┆          ┆ i64        ┆   ┆ f64        ┆            ┆ f64        ┆ ---        │\n",
       "│     ┆            ┆          ┆            ┆   ┆            ┆            ┆            ┆ f64        │\n",
       "╞═════╪════════════╪══════════╪════════════╪═══╪════════════╪════════════╪════════════╪════════════╡\n",
       "│ 0   ┆ 4104398000 ┆ 0        ┆ 0          ┆ … ┆ 3.7767e7   ┆ 2022-06-11 ┆ 2.5554e7   ┆ 1.7044e7   │\n",
       "│     ┆            ┆          ┆            ┆   ┆            ┆ 00:00:00   ┆            ┆            │\n",
       "│ 1   ┆ 4125119120 ┆ 0        ┆ 0          ┆ … ┆ 0.0        ┆ null       ┆ 0.0        ┆ 0.0        │\n",
       "└─────┴────────────┴──────────┴────────────┴───┴────────────┴────────────┴────────────┴────────────┘"
      ]
     },
     "metadata": {},
     "output_type": "display_data"
    },
    {
     "data": {
      "text/html": [
       "<div><style>\n",
       ".dataframe > thead > tr > th,\n",
       ".dataframe > tbody > tr > td {\n",
       "  text-align: right;\n",
       "}\n",
       "</style>\n",
       "<small>shape: (2, 2)</small><table border=\"1\" class=\"dataframe\"><thead><tr><th>material_cd</th><th>beginning_inventory</th></tr><tr><td>i64</td><td>f64</td></tr></thead><tbody><tr><td>4104398000</td><td>2.6650e7</td></tr><tr><td>4127706000</td><td>1.5839e7</td></tr></tbody></table></div>"
      ],
      "text/plain": [
       "shape: (2, 2)\n",
       "┌─────────────┬─────────────────────┐\n",
       "│ material_cd ┆ beginning_inventory │\n",
       "│ ---         ┆ ---                 │\n",
       "│ i64         ┆ f64                 │\n",
       "╞═════════════╪═════════════════════╡\n",
       "│ 4104398000  ┆ 2.6650e7            │\n",
       "│ 4127706000  ┆ 1.5839e7            │\n",
       "└─────────────┴─────────────────────┘"
      ]
     },
     "metadata": {},
     "output_type": "display_data"
    }
   ],
   "source": [
    "display(df_mps.head(2))\n",
    "display(df_beg_inv.head(2))"
   ]
  },
  {
   "cell_type": "code",
   "execution_count": 7,
   "metadata": {},
   "outputs": [
    {
     "data": {
      "text/html": [
       "<div><style>\n",
       ".dataframe > thead > tr > th,\n",
       ".dataframe > tbody > tr > td {\n",
       "  text-align: right;\n",
       "}\n",
       "</style>\n",
       "<small>shape: (5, 21)</small><table border=\"1\" class=\"dataframe\"><thead><tr><th></th><th>material_cd</th><th>week_nbr</th><th>production_plan</th><th>actual_production_non_AL</th><th>actual_production_AL</th><th>production_actual</th><th>demand</th><th>total_production_plan</th><th>inventory_excess_plan</th><th>inventory_shortage_plan</th><th>inventory_overflow_plan</th><th>product_name</th><th>week_start_date</th><th>safety_stock</th><th>inventory_plan</th><th>FiscalDate</th><th>inventory_actual</th><th>inventory_shortage_actual</th><th>beginning_inventory_actual_calculated</th><th>closing_inventory_actual_calculated</th></tr><tr><td>i64</td><td>i64</td><td>i64</td><td>i64</td><td>f64</td><td>f64</td><td>f64</td><td>f64</td><td>f64</td><td>f64</td><td>f64</td><td>f64</td><td>str</td><td>str</td><td>f64</td><td>f64</td><td>str</td><td>f64</td><td>f64</td><td>f64</td><td>f64</td></tr></thead><tbody><tr><td>0</td><td>4104398000</td><td>0</td><td>0</td><td>7.5207e6</td><td>0.0</td><td>7.5207e6</td><td>3.3651e6</td><td>7.5207e6</td><td>2.2296e7</td><td>0.0</td><td>6.9607e6</td><td>&quot;CH TRAIL MIX F…</td><td>&quot;2022-06-06 00:…</td><td>8.5100e6</td><td>3.7767e7</td><td>&quot;2022-06-11 00:…</td><td>2.5554e7</td><td>1.7044e7</td><td>2.6650e7</td><td>3.0806e7</td></tr><tr><td>1</td><td>4125119120</td><td>0</td><td>0</td><td>0.0</td><td>0.0</td><td>0.0</td><td>0.0</td><td>0.0</td><td>0.0</td><td>0.0</td><td>0.0</td><td>&quot;CH REESES TREA…</td><td>&quot;2022-06-06 00:…</td><td>0.0</td><td>0.0</td><td>null</td><td>0.0</td><td>0.0</td><td>0.0</td><td>0.0</td></tr><tr><td>2</td><td>4127706000</td><td>0</td><td>3059044</td><td>72.0</td><td>1.3525056e7</td><td>1.3525128e7</td><td>2.01024e6</td><td>3.059116e6</td><td>8.0926e6</td><td>0.0</td><td>0.0</td><td>&quot;CH SNS ALMOND …</td><td>&quot;2022-06-06 00:…</td><td>8.7949e6</td><td>1.6888e7</td><td>&quot;2022-06-11 00:…</td><td>2.4437e7</td><td>1.5642e7</td><td>1.5839e7</td><td>2.7354e7</td></tr><tr><td>3</td><td>4127707000</td><td>0</td><td>0</td><td>2.4225e6</td><td>0.0</td><td>2.4225e6</td><td>4.7596e6</td><td>2.4225e6</td><td>4.3979e6</td><td>0.0</td><td>0.0</td><td>&quot;CH SNS PEANUT …</td><td>&quot;2022-06-06 00:…</td><td>1.3539e7</td><td>1.7937e7</td><td>&quot;2022-06-11 00:…</td><td>2.7603e7</td><td>1.4064e7</td><td>2.0274e7</td><td>1.7937e7</td></tr><tr><td>4</td><td>4127855000</td><td>0</td><td>0</td><td>5.006088e6</td><td>0.0</td><td>5.006088e6</td><td>1.4695e6</td><td>5.006088e6</td><td>5.1251e6</td><td>0.0</td><td>0.0</td><td>&quot;CH SNS DK CHOC…</td><td>&quot;2022-06-06 00:…</td><td>6.8740e6</td><td>1.1999e7</td><td>&quot;2022-06-11 00:…</td><td>1.1075e7</td><td>4.2011e6</td><td>8.4625e6</td><td>1.1999e7</td></tr></tbody></table></div>"
      ],
      "text/plain": [
       "shape: (5, 21)\n",
       "┌─────┬────────────┬──────────┬────────────┬───┬────────────┬────────────┬────────────┬────────────┐\n",
       "│     ┆ material_c ┆ week_nbr ┆ production ┆ … ┆ inventory_ ┆ inventory_ ┆ beginning_ ┆ closing_in │\n",
       "│ --- ┆ d          ┆ ---      ┆ _plan      ┆   ┆ actual     ┆ shortage_a ┆ inventory_ ┆ ventory_ac │\n",
       "│ i64 ┆ ---        ┆ i64      ┆ ---        ┆   ┆ ---        ┆ ctual      ┆ actual_cal ┆ tual_calcu │\n",
       "│     ┆ i64        ┆          ┆ i64        ┆   ┆ f64        ┆ ---        ┆ cu…        ┆ la…        │\n",
       "│     ┆            ┆          ┆            ┆   ┆            ┆ f64        ┆ ---        ┆ ---        │\n",
       "│     ┆            ┆          ┆            ┆   ┆            ┆            ┆ f64        ┆ f64        │\n",
       "╞═════╪════════════╪══════════╪════════════╪═══╪════════════╪════════════╪════════════╪════════════╡\n",
       "│ 0   ┆ 4104398000 ┆ 0        ┆ 0          ┆ … ┆ 2.5554e7   ┆ 1.7044e7   ┆ 2.6650e7   ┆ 3.0806e7   │\n",
       "│ 1   ┆ 4125119120 ┆ 0        ┆ 0          ┆ … ┆ 0.0        ┆ 0.0        ┆ 0.0        ┆ 0.0        │\n",
       "│ 2   ┆ 4127706000 ┆ 0        ┆ 3059044    ┆ … ┆ 2.4437e7   ┆ 1.5642e7   ┆ 1.5839e7   ┆ 2.7354e7   │\n",
       "│ 3   ┆ 4127707000 ┆ 0        ┆ 0          ┆ … ┆ 2.7603e7   ┆ 1.4064e7   ┆ 2.0274e7   ┆ 1.7937e7   │\n",
       "│ 4   ┆ 4127855000 ┆ 0        ┆ 0          ┆ … ┆ 1.1075e7   ┆ 4.2011e6   ┆ 8.4625e6   ┆ 1.1999e7   │\n",
       "└─────┴────────────┴──────────┴────────────┴───┴────────────┴────────────┴────────────┴────────────┘"
      ]
     },
     "execution_count": 7,
     "metadata": {},
     "output_type": "execute_result"
    }
   ],
   "source": [
    "material_cd_list = []\n",
    "week_nbr_list = []\n",
    "beginning_inv_list = []\n",
    "closing_inv_list = []\n",
    "for material_cd in df_mps[\"material_cd\"].unique():\n",
    "    for week_nbr in range(52):\n",
    "        mps_dict = df_mps.filter(\n",
    "            (pl.col(\"material_cd\") == material_cd) & \n",
    "            (pl.col(\"week_nbr\") == week_nbr)\n",
    "        ).rows(named=True)[0]\n",
    "        production_actual = mps_dict.get(\"production_actual\")\n",
    "        demand = mps_dict.get(\"demand\")\n",
    "        if week_nbr == 0:\n",
    "            beginning_inv = df_beg_inv.filter(\n",
    "                pl.col(\"material_cd\") == material_cd\n",
    "            ).rows(named=True)[0].get(\"beginning_inventory\")\n",
    "        else:\n",
    "            beginning_inv = closing_inv\n",
    "        closing_inv = beginning_inv + production_actual - demand\n",
    "        material_cd_list.append(material_cd)\n",
    "        week_nbr_list.append(week_nbr)\n",
    "        beginning_inv_list.append(beginning_inv)\n",
    "        closing_inv_list.append(closing_inv)\n",
    "df = pl.DataFrame(pd.DataFrame({\n",
    "        \"material_cd\":material_cd_list,\n",
    "        \"week_nbr\":week_nbr_list,\n",
    "        \"beginning_inventory_actual_calculated\":beginning_inv_list,\n",
    "        \"closing_inventory_actual_calculated\":closing_inv_list\n",
    "    })\n",
    ")\n",
    "df_mps = df_mps.join(df,on = [\"material_cd\",\"week_nbr\"],how = \"left\")\n",
    "df_mps.head()"
   ]
  },
  {
   "cell_type": "code",
   "execution_count": 9,
   "metadata": {},
   "outputs": [
    {
     "data": {
      "text/plain": [
       "<xlsxwriter.workbook.Workbook at 0x20ce070cf50>"
      ]
     },
     "execution_count": 9,
     "metadata": {},
     "output_type": "execute_result"
    }
   ],
   "source": [
    "df_mps.write_excel(\"../data/mps.xlsx\")"
   ]
  }
 ],
 "metadata": {
  "kernelspec": {
   "display_name": "sequencing",
   "language": "python",
   "name": "python3"
  },
  "language_info": {
   "codemirror_mode": {
    "name": "ipython",
    "version": 3
   },
   "file_extension": ".py",
   "mimetype": "text/x-python",
   "name": "python",
   "nbconvert_exporter": "python",
   "pygments_lexer": "ipython3",
   "version": "3.11.4"
  },
  "orig_nbformat": 4
 },
 "nbformat": 4,
 "nbformat_minor": 2
}
